{
  "nbformat": 4,
  "nbformat_minor": 0,
  "metadata": {
    "colab": {
      "provenance": []
    },
    "kernelspec": {
      "name": "python3",
      "display_name": "Python 3"
    },
    "language_info": {
      "name": "python"
    }
  },
  "cells": [
    {
      "cell_type": "code",
      "execution_count": 1,
      "metadata": {
        "colab": {
          "base_uri": "https://localhost:8080/",
          "height": 122
        },
        "id": "DXRwDRPIqeyp",
        "outputId": "18ad1b1b-9110-43d3-f79d-12ab59ab7819"
      },
      "outputs": [
        {
          "output_type": "execute_result",
          "data": {
            "text/plain": [
              "'Random search and grid search are limited because they blindly explore the hyperparameter space—grid search is exhaustive and expensive, while random search samples without learning from past trials. ⚡ Optuna, on the other hand, uses Bayesian optimization + pruning strategies, making it adaptive: it learns from previous results to focus on the most promising regions, reducing computation time and improving performance.'"
            ],
            "application/vnd.google.colaboratory.intrinsic+json": {
              "type": "string"
            }
          },
          "metadata": {},
          "execution_count": 1
        }
      ],
      "source": [
        "'''Random search and grid search are limited because they blindly explore the hyperparameter space—grid search is exhaustive and expensive, while random search samples without learning from past trials. ⚡ Optuna, on the other hand, uses Bayesian optimization + pruning strategies, making it adaptive: it learns from previous results to focus on the most promising regions, reducing computation time and improving performance.'''"
      ]
    },
    {
      "cell_type": "code",
      "source": [
        "##optuna hyperparameter tuning(bayseian search)\n",
        "'''accuracy is function of hyperparameters\n",
        "it establish the relationship between accuracy or loss between the hyperparameter\n",
        "and make curve with that and find the min loss or maxm accuracy in the graph\n",
        "it learns from the past values to lessen down the computation'''\n"
      ],
      "metadata": {
        "colab": {
          "base_uri": "https://localhost:8080/",
          "height": 88
        },
        "id": "Wv2gu_nRr3WD",
        "outputId": "3145ae36-b4a5-48e7-ebd5-fb09947b7396"
      },
      "execution_count": 4,
      "outputs": [
        {
          "output_type": "execute_result",
          "data": {
            "text/plain": [
              "'accuracy is function of hyperparameters\\nit establish the relationship between accuracy or loss between the hyperparameter\\nand make curve with that and find the min loss or maxm accuracy in the graph\\nit learns from the past values to lessen down the computation'"
            ],
            "application/vnd.google.colaboratory.intrinsic+json": {
              "type": "string"
            }
          },
          "metadata": {},
          "execution_count": 4
        }
      ]
    },
    {
      "cell_type": "code",
      "source": [
        "##key terms for optuna\n",
        "'''\n",
        "1)Study\n",
        "2)Trial\n",
        "3)Trials parameters\n",
        "4)Objective function\n",
        "5)Sampler=\"TPE\"\n",
        "'''"
      ],
      "metadata": {
        "colab": {
          "base_uri": "https://localhost:8080/",
          "height": 53
        },
        "id": "ECW91ggQsOwz",
        "outputId": "c2ecce74-a9b7-44bc-e3cf-7a90d61c6650"
      },
      "execution_count": 5,
      "outputs": [
        {
          "output_type": "execute_result",
          "data": {
            "text/plain": [
              "'\\n1)Study\\n2)Trial\\n3)Trials parameters\\n4)Objective function\\n5)Sampler=\"TPE\"\\n'"
            ],
            "application/vnd.google.colaboratory.intrinsic+json": {
              "type": "string"
            }
          },
          "metadata": {},
          "execution_count": 5
        }
      ]
    },
    {
      "cell_type": "code",
      "source": [
        "!pip install optuna"
      ],
      "metadata": {
        "colab": {
          "base_uri": "https://localhost:8080/"
        },
        "id": "K5SidnaRvhD4",
        "outputId": "f35abbcb-53b0-480f-b9d6-7cc2857ac3e5"
      },
      "execution_count": 6,
      "outputs": [
        {
          "output_type": "stream",
          "name": "stdout",
          "text": [
            "Collecting optuna\n",
            "  Downloading optuna-4.5.0-py3-none-any.whl.metadata (17 kB)\n",
            "Requirement already satisfied: alembic>=1.5.0 in /usr/local/lib/python3.12/dist-packages (from optuna) (1.16.5)\n",
            "Collecting colorlog (from optuna)\n",
            "  Downloading colorlog-6.9.0-py3-none-any.whl.metadata (10 kB)\n",
            "Requirement already satisfied: numpy in /usr/local/lib/python3.12/dist-packages (from optuna) (2.0.2)\n",
            "Requirement already satisfied: packaging>=20.0 in /usr/local/lib/python3.12/dist-packages (from optuna) (25.0)\n",
            "Requirement already satisfied: sqlalchemy>=1.4.2 in /usr/local/lib/python3.12/dist-packages (from optuna) (2.0.43)\n",
            "Requirement already satisfied: tqdm in /usr/local/lib/python3.12/dist-packages (from optuna) (4.67.1)\n",
            "Requirement already satisfied: PyYAML in /usr/local/lib/python3.12/dist-packages (from optuna) (6.0.2)\n",
            "Requirement already satisfied: Mako in /usr/local/lib/python3.12/dist-packages (from alembic>=1.5.0->optuna) (1.3.10)\n",
            "Requirement already satisfied: typing-extensions>=4.12 in /usr/local/lib/python3.12/dist-packages (from alembic>=1.5.0->optuna) (4.15.0)\n",
            "Requirement already satisfied: greenlet>=1 in /usr/local/lib/python3.12/dist-packages (from sqlalchemy>=1.4.2->optuna) (3.2.4)\n",
            "Requirement already satisfied: MarkupSafe>=0.9.2 in /usr/local/lib/python3.12/dist-packages (from Mako->alembic>=1.5.0->optuna) (3.0.2)\n",
            "Downloading optuna-4.5.0-py3-none-any.whl (400 kB)\n",
            "\u001b[2K   \u001b[90m━━━━━━━━━━━━━━━━━━━━━━━━━━━━━━━━━━━━━━━━\u001b[0m \u001b[32m400.9/400.9 kB\u001b[0m \u001b[31m21.0 MB/s\u001b[0m eta \u001b[36m0:00:00\u001b[0m\n",
            "\u001b[?25hDownloading colorlog-6.9.0-py3-none-any.whl (11 kB)\n",
            "Installing collected packages: colorlog, optuna\n",
            "Successfully installed colorlog-6.9.0 optuna-4.5.0\n"
          ]
        }
      ]
    },
    {
      "cell_type": "code",
      "source": [
        "# Import necessary libraries\n",
        "import optuna\n",
        "from sklearn.datasets import load_diabetes\n",
        "from sklearn.model_selection import train_test_split\n",
        "from sklearn.preprocessing import StandardScaler\n",
        "\n",
        "# Load the Pima Indian Diabetes dataset from sklearn\n",
        "# Note: Scikit-learn's built-in 'load_diabetes' is a regression dataset.\n",
        "# We will load the actual diabetes dataset from an external source\n",
        "import pandas as pd\n",
        "\n",
        "# Load the Pima Indian Diabetes dataset (from UCI repository)\n",
        "url = \"https://raw.githubusercontent.com/jbrownlee/Datasets/master/pima-indians-diabetes.data.csv\"\n",
        "columns = ['Pregnancies', 'Glucose', 'BloodPressure', 'SkinThickness', 'Insulin', 'BMI',\n",
        "           'DiabetesPedigreeFunction', 'Age', 'Outcome']\n",
        "\n",
        "# Load the dataset\n",
        "df = pd.read_csv(url, names=columns)\n",
        "\n",
        "df.head()"
      ],
      "metadata": {
        "colab": {
          "base_uri": "https://localhost:8080/",
          "height": 226
        },
        "id": "ERAZtWi_vio7",
        "outputId": "356ef4af-9423-4418-afa9-44c9f54f434e"
      },
      "execution_count": 7,
      "outputs": [
        {
          "output_type": "execute_result",
          "data": {
            "text/plain": [
              "   Pregnancies  Glucose  BloodPressure  SkinThickness  Insulin   BMI  \\\n",
              "0            6      148             72             35        0  33.6   \n",
              "1            1       85             66             29        0  26.6   \n",
              "2            8      183             64              0        0  23.3   \n",
              "3            1       89             66             23       94  28.1   \n",
              "4            0      137             40             35      168  43.1   \n",
              "\n",
              "   DiabetesPedigreeFunction  Age  Outcome  \n",
              "0                     0.627   50        1  \n",
              "1                     0.351   31        0  \n",
              "2                     0.672   32        1  \n",
              "3                     0.167   21        0  \n",
              "4                     2.288   33        1  "
            ],
            "text/html": [
              "\n",
              "  <div id=\"df-41f6349b-1a21-4b77-ab96-e4e62b4009f6\" class=\"colab-df-container\">\n",
              "    <div>\n",
              "<style scoped>\n",
              "    .dataframe tbody tr th:only-of-type {\n",
              "        vertical-align: middle;\n",
              "    }\n",
              "\n",
              "    .dataframe tbody tr th {\n",
              "        vertical-align: top;\n",
              "    }\n",
              "\n",
              "    .dataframe thead th {\n",
              "        text-align: right;\n",
              "    }\n",
              "</style>\n",
              "<table border=\"1\" class=\"dataframe\">\n",
              "  <thead>\n",
              "    <tr style=\"text-align: right;\">\n",
              "      <th></th>\n",
              "      <th>Pregnancies</th>\n",
              "      <th>Glucose</th>\n",
              "      <th>BloodPressure</th>\n",
              "      <th>SkinThickness</th>\n",
              "      <th>Insulin</th>\n",
              "      <th>BMI</th>\n",
              "      <th>DiabetesPedigreeFunction</th>\n",
              "      <th>Age</th>\n",
              "      <th>Outcome</th>\n",
              "    </tr>\n",
              "  </thead>\n",
              "  <tbody>\n",
              "    <tr>\n",
              "      <th>0</th>\n",
              "      <td>6</td>\n",
              "      <td>148</td>\n",
              "      <td>72</td>\n",
              "      <td>35</td>\n",
              "      <td>0</td>\n",
              "      <td>33.6</td>\n",
              "      <td>0.627</td>\n",
              "      <td>50</td>\n",
              "      <td>1</td>\n",
              "    </tr>\n",
              "    <tr>\n",
              "      <th>1</th>\n",
              "      <td>1</td>\n",
              "      <td>85</td>\n",
              "      <td>66</td>\n",
              "      <td>29</td>\n",
              "      <td>0</td>\n",
              "      <td>26.6</td>\n",
              "      <td>0.351</td>\n",
              "      <td>31</td>\n",
              "      <td>0</td>\n",
              "    </tr>\n",
              "    <tr>\n",
              "      <th>2</th>\n",
              "      <td>8</td>\n",
              "      <td>183</td>\n",
              "      <td>64</td>\n",
              "      <td>0</td>\n",
              "      <td>0</td>\n",
              "      <td>23.3</td>\n",
              "      <td>0.672</td>\n",
              "      <td>32</td>\n",
              "      <td>1</td>\n",
              "    </tr>\n",
              "    <tr>\n",
              "      <th>3</th>\n",
              "      <td>1</td>\n",
              "      <td>89</td>\n",
              "      <td>66</td>\n",
              "      <td>23</td>\n",
              "      <td>94</td>\n",
              "      <td>28.1</td>\n",
              "      <td>0.167</td>\n",
              "      <td>21</td>\n",
              "      <td>0</td>\n",
              "    </tr>\n",
              "    <tr>\n",
              "      <th>4</th>\n",
              "      <td>0</td>\n",
              "      <td>137</td>\n",
              "      <td>40</td>\n",
              "      <td>35</td>\n",
              "      <td>168</td>\n",
              "      <td>43.1</td>\n",
              "      <td>2.288</td>\n",
              "      <td>33</td>\n",
              "      <td>1</td>\n",
              "    </tr>\n",
              "  </tbody>\n",
              "</table>\n",
              "</div>\n",
              "    <div class=\"colab-df-buttons\">\n",
              "\n",
              "  <div class=\"colab-df-container\">\n",
              "    <button class=\"colab-df-convert\" onclick=\"convertToInteractive('df-41f6349b-1a21-4b77-ab96-e4e62b4009f6')\"\n",
              "            title=\"Convert this dataframe to an interactive table.\"\n",
              "            style=\"display:none;\">\n",
              "\n",
              "  <svg xmlns=\"http://www.w3.org/2000/svg\" height=\"24px\" viewBox=\"0 -960 960 960\">\n",
              "    <path d=\"M120-120v-720h720v720H120Zm60-500h600v-160H180v160Zm220 220h160v-160H400v160Zm0 220h160v-160H400v160ZM180-400h160v-160H180v160Zm440 0h160v-160H620v160ZM180-180h160v-160H180v160Zm440 0h160v-160H620v160Z\"/>\n",
              "  </svg>\n",
              "    </button>\n",
              "\n",
              "  <style>\n",
              "    .colab-df-container {\n",
              "      display:flex;\n",
              "      gap: 12px;\n",
              "    }\n",
              "\n",
              "    .colab-df-convert {\n",
              "      background-color: #E8F0FE;\n",
              "      border: none;\n",
              "      border-radius: 50%;\n",
              "      cursor: pointer;\n",
              "      display: none;\n",
              "      fill: #1967D2;\n",
              "      height: 32px;\n",
              "      padding: 0 0 0 0;\n",
              "      width: 32px;\n",
              "    }\n",
              "\n",
              "    .colab-df-convert:hover {\n",
              "      background-color: #E2EBFA;\n",
              "      box-shadow: 0px 1px 2px rgba(60, 64, 67, 0.3), 0px 1px 3px 1px rgba(60, 64, 67, 0.15);\n",
              "      fill: #174EA6;\n",
              "    }\n",
              "\n",
              "    .colab-df-buttons div {\n",
              "      margin-bottom: 4px;\n",
              "    }\n",
              "\n",
              "    [theme=dark] .colab-df-convert {\n",
              "      background-color: #3B4455;\n",
              "      fill: #D2E3FC;\n",
              "    }\n",
              "\n",
              "    [theme=dark] .colab-df-convert:hover {\n",
              "      background-color: #434B5C;\n",
              "      box-shadow: 0px 1px 3px 1px rgba(0, 0, 0, 0.15);\n",
              "      filter: drop-shadow(0px 1px 2px rgba(0, 0, 0, 0.3));\n",
              "      fill: #FFFFFF;\n",
              "    }\n",
              "  </style>\n",
              "\n",
              "    <script>\n",
              "      const buttonEl =\n",
              "        document.querySelector('#df-41f6349b-1a21-4b77-ab96-e4e62b4009f6 button.colab-df-convert');\n",
              "      buttonEl.style.display =\n",
              "        google.colab.kernel.accessAllowed ? 'block' : 'none';\n",
              "\n",
              "      async function convertToInteractive(key) {\n",
              "        const element = document.querySelector('#df-41f6349b-1a21-4b77-ab96-e4e62b4009f6');\n",
              "        const dataTable =\n",
              "          await google.colab.kernel.invokeFunction('convertToInteractive',\n",
              "                                                    [key], {});\n",
              "        if (!dataTable) return;\n",
              "\n",
              "        const docLinkHtml = 'Like what you see? Visit the ' +\n",
              "          '<a target=\"_blank\" href=https://colab.research.google.com/notebooks/data_table.ipynb>data table notebook</a>'\n",
              "          + ' to learn more about interactive tables.';\n",
              "        element.innerHTML = '';\n",
              "        dataTable['output_type'] = 'display_data';\n",
              "        await google.colab.output.renderOutput(dataTable, element);\n",
              "        const docLink = document.createElement('div');\n",
              "        docLink.innerHTML = docLinkHtml;\n",
              "        element.appendChild(docLink);\n",
              "      }\n",
              "    </script>\n",
              "  </div>\n",
              "\n",
              "\n",
              "    <div id=\"df-0bb91c47-7611-4a0b-8d32-88b08eaafe4d\">\n",
              "      <button class=\"colab-df-quickchart\" onclick=\"quickchart('df-0bb91c47-7611-4a0b-8d32-88b08eaafe4d')\"\n",
              "                title=\"Suggest charts\"\n",
              "                style=\"display:none;\">\n",
              "\n",
              "<svg xmlns=\"http://www.w3.org/2000/svg\" height=\"24px\"viewBox=\"0 0 24 24\"\n",
              "     width=\"24px\">\n",
              "    <g>\n",
              "        <path d=\"M19 3H5c-1.1 0-2 .9-2 2v14c0 1.1.9 2 2 2h14c1.1 0 2-.9 2-2V5c0-1.1-.9-2-2-2zM9 17H7v-7h2v7zm4 0h-2V7h2v10zm4 0h-2v-4h2v4z\"/>\n",
              "    </g>\n",
              "</svg>\n",
              "      </button>\n",
              "\n",
              "<style>\n",
              "  .colab-df-quickchart {\n",
              "      --bg-color: #E8F0FE;\n",
              "      --fill-color: #1967D2;\n",
              "      --hover-bg-color: #E2EBFA;\n",
              "      --hover-fill-color: #174EA6;\n",
              "      --disabled-fill-color: #AAA;\n",
              "      --disabled-bg-color: #DDD;\n",
              "  }\n",
              "\n",
              "  [theme=dark] .colab-df-quickchart {\n",
              "      --bg-color: #3B4455;\n",
              "      --fill-color: #D2E3FC;\n",
              "      --hover-bg-color: #434B5C;\n",
              "      --hover-fill-color: #FFFFFF;\n",
              "      --disabled-bg-color: #3B4455;\n",
              "      --disabled-fill-color: #666;\n",
              "  }\n",
              "\n",
              "  .colab-df-quickchart {\n",
              "    background-color: var(--bg-color);\n",
              "    border: none;\n",
              "    border-radius: 50%;\n",
              "    cursor: pointer;\n",
              "    display: none;\n",
              "    fill: var(--fill-color);\n",
              "    height: 32px;\n",
              "    padding: 0;\n",
              "    width: 32px;\n",
              "  }\n",
              "\n",
              "  .colab-df-quickchart:hover {\n",
              "    background-color: var(--hover-bg-color);\n",
              "    box-shadow: 0 1px 2px rgba(60, 64, 67, 0.3), 0 1px 3px 1px rgba(60, 64, 67, 0.15);\n",
              "    fill: var(--button-hover-fill-color);\n",
              "  }\n",
              "\n",
              "  .colab-df-quickchart-complete:disabled,\n",
              "  .colab-df-quickchart-complete:disabled:hover {\n",
              "    background-color: var(--disabled-bg-color);\n",
              "    fill: var(--disabled-fill-color);\n",
              "    box-shadow: none;\n",
              "  }\n",
              "\n",
              "  .colab-df-spinner {\n",
              "    border: 2px solid var(--fill-color);\n",
              "    border-color: transparent;\n",
              "    border-bottom-color: var(--fill-color);\n",
              "    animation:\n",
              "      spin 1s steps(1) infinite;\n",
              "  }\n",
              "\n",
              "  @keyframes spin {\n",
              "    0% {\n",
              "      border-color: transparent;\n",
              "      border-bottom-color: var(--fill-color);\n",
              "      border-left-color: var(--fill-color);\n",
              "    }\n",
              "    20% {\n",
              "      border-color: transparent;\n",
              "      border-left-color: var(--fill-color);\n",
              "      border-top-color: var(--fill-color);\n",
              "    }\n",
              "    30% {\n",
              "      border-color: transparent;\n",
              "      border-left-color: var(--fill-color);\n",
              "      border-top-color: var(--fill-color);\n",
              "      border-right-color: var(--fill-color);\n",
              "    }\n",
              "    40% {\n",
              "      border-color: transparent;\n",
              "      border-right-color: var(--fill-color);\n",
              "      border-top-color: var(--fill-color);\n",
              "    }\n",
              "    60% {\n",
              "      border-color: transparent;\n",
              "      border-right-color: var(--fill-color);\n",
              "    }\n",
              "    80% {\n",
              "      border-color: transparent;\n",
              "      border-right-color: var(--fill-color);\n",
              "      border-bottom-color: var(--fill-color);\n",
              "    }\n",
              "    90% {\n",
              "      border-color: transparent;\n",
              "      border-bottom-color: var(--fill-color);\n",
              "    }\n",
              "  }\n",
              "</style>\n",
              "\n",
              "      <script>\n",
              "        async function quickchart(key) {\n",
              "          const quickchartButtonEl =\n",
              "            document.querySelector('#' + key + ' button');\n",
              "          quickchartButtonEl.disabled = true;  // To prevent multiple clicks.\n",
              "          quickchartButtonEl.classList.add('colab-df-spinner');\n",
              "          try {\n",
              "            const charts = await google.colab.kernel.invokeFunction(\n",
              "                'suggestCharts', [key], {});\n",
              "          } catch (error) {\n",
              "            console.error('Error during call to suggestCharts:', error);\n",
              "          }\n",
              "          quickchartButtonEl.classList.remove('colab-df-spinner');\n",
              "          quickchartButtonEl.classList.add('colab-df-quickchart-complete');\n",
              "        }\n",
              "        (() => {\n",
              "          let quickchartButtonEl =\n",
              "            document.querySelector('#df-0bb91c47-7611-4a0b-8d32-88b08eaafe4d button');\n",
              "          quickchartButtonEl.style.display =\n",
              "            google.colab.kernel.accessAllowed ? 'block' : 'none';\n",
              "        })();\n",
              "      </script>\n",
              "    </div>\n",
              "\n",
              "    </div>\n",
              "  </div>\n"
            ],
            "application/vnd.google.colaboratory.intrinsic+json": {
              "type": "dataframe",
              "variable_name": "df",
              "summary": "{\n  \"name\": \"df\",\n  \"rows\": 768,\n  \"fields\": [\n    {\n      \"column\": \"Pregnancies\",\n      \"properties\": {\n        \"dtype\": \"number\",\n        \"std\": 3,\n        \"min\": 0,\n        \"max\": 17,\n        \"num_unique_values\": 17,\n        \"samples\": [\n          6,\n          1,\n          3\n        ],\n        \"semantic_type\": \"\",\n        \"description\": \"\"\n      }\n    },\n    {\n      \"column\": \"Glucose\",\n      \"properties\": {\n        \"dtype\": \"number\",\n        \"std\": 31,\n        \"min\": 0,\n        \"max\": 199,\n        \"num_unique_values\": 136,\n        \"samples\": [\n          151,\n          101,\n          112\n        ],\n        \"semantic_type\": \"\",\n        \"description\": \"\"\n      }\n    },\n    {\n      \"column\": \"BloodPressure\",\n      \"properties\": {\n        \"dtype\": \"number\",\n        \"std\": 19,\n        \"min\": 0,\n        \"max\": 122,\n        \"num_unique_values\": 47,\n        \"samples\": [\n          86,\n          46,\n          85\n        ],\n        \"semantic_type\": \"\",\n        \"description\": \"\"\n      }\n    },\n    {\n      \"column\": \"SkinThickness\",\n      \"properties\": {\n        \"dtype\": \"number\",\n        \"std\": 15,\n        \"min\": 0,\n        \"max\": 99,\n        \"num_unique_values\": 51,\n        \"samples\": [\n          7,\n          12,\n          48\n        ],\n        \"semantic_type\": \"\",\n        \"description\": \"\"\n      }\n    },\n    {\n      \"column\": \"Insulin\",\n      \"properties\": {\n        \"dtype\": \"number\",\n        \"std\": 115,\n        \"min\": 0,\n        \"max\": 846,\n        \"num_unique_values\": 186,\n        \"samples\": [\n          52,\n          41,\n          183\n        ],\n        \"semantic_type\": \"\",\n        \"description\": \"\"\n      }\n    },\n    {\n      \"column\": \"BMI\",\n      \"properties\": {\n        \"dtype\": \"number\",\n        \"std\": 7.8841603203754405,\n        \"min\": 0.0,\n        \"max\": 67.1,\n        \"num_unique_values\": 248,\n        \"samples\": [\n          19.9,\n          31.0,\n          38.1\n        ],\n        \"semantic_type\": \"\",\n        \"description\": \"\"\n      }\n    },\n    {\n      \"column\": \"DiabetesPedigreeFunction\",\n      \"properties\": {\n        \"dtype\": \"number\",\n        \"std\": 0.33132859501277484,\n        \"min\": 0.078,\n        \"max\": 2.42,\n        \"num_unique_values\": 517,\n        \"samples\": [\n          1.731,\n          0.426,\n          0.138\n        ],\n        \"semantic_type\": \"\",\n        \"description\": \"\"\n      }\n    },\n    {\n      \"column\": \"Age\",\n      \"properties\": {\n        \"dtype\": \"number\",\n        \"std\": 11,\n        \"min\": 21,\n        \"max\": 81,\n        \"num_unique_values\": 52,\n        \"samples\": [\n          60,\n          47,\n          72\n        ],\n        \"semantic_type\": \"\",\n        \"description\": \"\"\n      }\n    },\n    {\n      \"column\": \"Outcome\",\n      \"properties\": {\n        \"dtype\": \"number\",\n        \"std\": 0,\n        \"min\": 0,\n        \"max\": 1,\n        \"num_unique_values\": 2,\n        \"samples\": [\n          0,\n          1\n        ],\n        \"semantic_type\": \"\",\n        \"description\": \"\"\n      }\n    }\n  ]\n}"
            }
          },
          "metadata": {},
          "execution_count": 7
        }
      ]
    },
    {
      "cell_type": "code",
      "source": [
        "import numpy as np\n",
        "\n",
        "# Replace zero values with NaN in columns where zero is not a valid value\n",
        "cols_with_missing_vals = ['Glucose', 'BloodPressure', 'SkinThickness', 'Insulin', 'BMI']\n",
        "df[cols_with_missing_vals] = df[cols_with_missing_vals].replace(0, np.nan)\n",
        "\n",
        "# Impute the missing values with the mean of the respective column\n",
        "df.fillna(df.mean(), inplace=True)\n",
        "\n",
        "# Check if there are any remaining missing values\n",
        "print(df.isnull().sum())\n"
      ],
      "metadata": {
        "colab": {
          "base_uri": "https://localhost:8080/"
        },
        "id": "xeOTpa5RvrDF",
        "outputId": "d4630390-e2a2-4795-fc70-a2401538d360"
      },
      "execution_count": 8,
      "outputs": [
        {
          "output_type": "stream",
          "name": "stdout",
          "text": [
            "Pregnancies                 0\n",
            "Glucose                     0\n",
            "BloodPressure               0\n",
            "SkinThickness               0\n",
            "Insulin                     0\n",
            "BMI                         0\n",
            "DiabetesPedigreeFunction    0\n",
            "Age                         0\n",
            "Outcome                     0\n",
            "dtype: int64\n"
          ]
        }
      ]
    },
    {
      "cell_type": "code",
      "source": [
        "# Split into features (X) and target (y)\n",
        "X = df.drop('Outcome', axis=1)\n",
        "y = df['Outcome']\n",
        "\n",
        "# Split data into training and test sets (70% train, 30% test)\n",
        "X_train, X_test, y_train, y_test = train_test_split(X, y, test_size=0.3, random_state=42)\n",
        "\n",
        "# Optional: Scale the data for better model performance\n",
        "scaler = StandardScaler()\n",
        "X_train = scaler.fit_transform(X_train)\n",
        "X_test = scaler.transform(X_test)\n",
        "\n",
        "# Check the shape of the data\n",
        "print(f'Training set shape: {X_train.shape}')\n",
        "print(f'Test set shape: {X_test.shape}')\n"
      ],
      "metadata": {
        "colab": {
          "base_uri": "https://localhost:8080/"
        },
        "id": "_irQ8DEcvyYN",
        "outputId": "d3213249-542d-491e-d0cf-db1fa433cbf6"
      },
      "execution_count": 9,
      "outputs": [
        {
          "output_type": "stream",
          "name": "stdout",
          "text": [
            "Training set shape: (537, 8)\n",
            "Test set shape: (231, 8)\n"
          ]
        }
      ]
    },
    {
      "cell_type": "code",
      "source": [
        "from sklearn.ensemble import RandomForestClassifier\n",
        "from sklearn.model_selection import cross_val_score\n",
        "\n",
        "# Define the objective function\n",
        "def objective(trial):\n",
        "    # Suggest values for the hyperparameters\n",
        "    n_estimators = trial.suggest_int('n_estimators', 50, 200)\n",
        "    max_depth = trial.suggest_int('max_depth', 3, 20)\n",
        "\n",
        "    # Create the RandomForestClassifier with suggested hyperparameters\n",
        "    model = RandomForestClassifier(\n",
        "        n_estimators=n_estimators,\n",
        "        max_depth=max_depth,\n",
        "        random_state=42\n",
        "    )\n",
        "\n",
        "    # Perform 3-fold cross-validation and calculate accuracy\n",
        "    score = cross_val_score(model, X_train, y_train, cv=3, scoring='accuracy').mean()\n",
        "\n",
        "    return score  # Return the accuracy score for Optuna to maximize\n"
      ],
      "metadata": {
        "id": "NEuPz2j_v4FO"
      },
      "execution_count": 10,
      "outputs": []
    },
    {
      "cell_type": "code",
      "source": [
        "# Create a study object and optimize the objective function\n",
        "study = optuna.create_study(direction='maximize', sampler=optuna.samplers.TPESampler())  # We aim to maximize accuracy\n",
        "study.optimize(objective, n_trials=50)  # Run 50 trials to find the best hyperparameters\n"
      ],
      "metadata": {
        "colab": {
          "base_uri": "https://localhost:8080/"
        },
        "id": "mZHRW4HA8MHO",
        "outputId": "720c4f69-002c-4cf4-ce5b-9f4901cfee07"
      },
      "execution_count": 11,
      "outputs": [
        {
          "output_type": "stream",
          "name": "stderr",
          "text": [
            "[I 2025-10-02 12:43:24,585] A new study created in memory with name: no-name-326ec3ee-c79f-4f21-81b3-c95395c53afc\n",
            "[I 2025-10-02 12:43:26,385] Trial 0 finished with value: 0.7783985102420856 and parameters: {'n_estimators': 122, 'max_depth': 19}. Best is trial 0 with value: 0.7783985102420856.\n",
            "[I 2025-10-02 12:43:27,235] Trial 1 finished with value: 0.7635009310986964 and parameters: {'n_estimators': 137, 'max_depth': 9}. Best is trial 0 with value: 0.7783985102420856.\n",
            "[I 2025-10-02 12:43:28,166] Trial 2 finished with value: 0.7616387337057727 and parameters: {'n_estimators': 156, 'max_depth': 6}. Best is trial 0 with value: 0.7783985102420856.\n",
            "[I 2025-10-02 12:43:28,816] Trial 3 finished with value: 0.7746741154562384 and parameters: {'n_estimators': 102, 'max_depth': 8}. Best is trial 0 with value: 0.7783985102420856.\n",
            "[I 2025-10-02 12:43:29,600] Trial 4 finished with value: 0.7783985102420857 and parameters: {'n_estimators': 126, 'max_depth': 7}. Best is trial 4 with value: 0.7783985102420857.\n",
            "[I 2025-10-02 12:43:30,067] Trial 5 finished with value: 0.7709497206703911 and parameters: {'n_estimators': 79, 'max_depth': 5}. Best is trial 4 with value: 0.7783985102420857.\n",
            "[I 2025-10-02 12:43:30,631] Trial 6 finished with value: 0.7541899441340782 and parameters: {'n_estimators': 77, 'max_depth': 3}. Best is trial 4 with value: 0.7783985102420857.\n",
            "[I 2025-10-02 12:43:31,478] Trial 7 finished with value: 0.7672253258845437 and parameters: {'n_estimators': 83, 'max_depth': 18}. Best is trial 4 with value: 0.7783985102420857.\n",
            "[I 2025-10-02 12:43:32,784] Trial 8 finished with value: 0.7709497206703911 and parameters: {'n_estimators': 132, 'max_depth': 14}. Best is trial 4 with value: 0.7783985102420857.\n",
            "[I 2025-10-02 12:43:33,775] Trial 9 finished with value: 0.7597765363128491 and parameters: {'n_estimators': 157, 'max_depth': 4}. Best is trial 4 with value: 0.7783985102420857.\n",
            "[I 2025-10-02 12:43:34,982] Trial 10 finished with value: 0.7746741154562384 and parameters: {'n_estimators': 187, 'max_depth': 13}. Best is trial 4 with value: 0.7783985102420857.\n",
            "[I 2025-10-02 12:43:35,672] Trial 11 finished with value: 0.7728119180633147 and parameters: {'n_estimators': 109, 'max_depth': 19}. Best is trial 4 with value: 0.7783985102420857.\n",
            "[I 2025-10-02 12:43:36,379] Trial 12 finished with value: 0.7746741154562384 and parameters: {'n_estimators': 110, 'max_depth': 15}. Best is trial 4 with value: 0.7783985102420857.\n",
            "[I 2025-10-02 12:43:37,376] Trial 13 finished with value: 0.7653631284916201 and parameters: {'n_estimators': 156, 'max_depth': 11}. Best is trial 4 with value: 0.7783985102420857.\n",
            "[I 2025-10-02 12:43:37,717] Trial 14 finished with value: 0.7765363128491621 and parameters: {'n_estimators': 54, 'max_depth': 17}. Best is trial 4 with value: 0.7783985102420857.\n",
            "[I 2025-10-02 12:43:38,797] Trial 15 finished with value: 0.7635009310986964 and parameters: {'n_estimators': 174, 'max_depth': 10}. Best is trial 4 with value: 0.7783985102420857.\n",
            "[I 2025-10-02 12:43:39,546] Trial 16 finished with value: 0.7783985102420856 and parameters: {'n_estimators': 124, 'max_depth': 7}. Best is trial 4 with value: 0.7783985102420857.\n",
            "[I 2025-10-02 12:43:40,795] Trial 17 finished with value: 0.7728119180633147 and parameters: {'n_estimators': 200, 'max_depth': 20}. Best is trial 4 with value: 0.7783985102420857.\n",
            "[I 2025-10-02 12:43:41,702] Trial 18 finished with value: 0.7709497206703911 and parameters: {'n_estimators': 142, 'max_depth': 13}. Best is trial 4 with value: 0.7783985102420857.\n",
            "[I 2025-10-02 12:43:42,335] Trial 19 finished with value: 0.7635009310986964 and parameters: {'n_estimators': 96, 'max_depth': 16}. Best is trial 4 with value: 0.7783985102420857.\n",
            "[I 2025-10-02 12:43:43,140] Trial 20 finished with value: 0.7746741154562383 and parameters: {'n_estimators': 123, 'max_depth': 12}. Best is trial 4 with value: 0.7783985102420857.\n",
            "[I 2025-10-02 12:43:44,306] Trial 21 finished with value: 0.7672253258845437 and parameters: {'n_estimators': 121, 'max_depth': 8}. Best is trial 4 with value: 0.7783985102420857.\n",
            "[I 2025-10-02 12:43:45,486] Trial 22 finished with value: 0.7821229050279329 and parameters: {'n_estimators': 120, 'max_depth': 7}. Best is trial 22 with value: 0.7821229050279329.\n",
            "[I 2025-10-02 12:43:46,440] Trial 23 finished with value: 0.7653631284916201 and parameters: {'n_estimators': 147, 'max_depth': 6}. Best is trial 22 with value: 0.7821229050279329.\n",
            "[I 2025-10-02 12:43:47,060] Trial 24 finished with value: 0.7597765363128492 and parameters: {'n_estimators': 95, 'max_depth': 10}. Best is trial 22 with value: 0.7821229050279329.\n",
            "[I 2025-10-02 12:43:47,741] Trial 25 finished with value: 0.7690875232774674 and parameters: {'n_estimators': 113, 'max_depth': 5}. Best is trial 22 with value: 0.7821229050279329.\n",
            "[I 2025-10-02 12:43:48,472] Trial 26 finished with value: 0.7560521415270017 and parameters: {'n_estimators': 132, 'max_depth': 3}. Best is trial 22 with value: 0.7821229050279329.\n",
            "[I 2025-10-02 12:43:49,517] Trial 27 finished with value: 0.7616387337057727 and parameters: {'n_estimators': 170, 'max_depth': 8}. Best is trial 22 with value: 0.7821229050279329.\n",
            "[I 2025-10-02 12:43:49,911] Trial 28 finished with value: 0.7690875232774674 and parameters: {'n_estimators': 58, 'max_depth': 11}. Best is trial 22 with value: 0.7821229050279329.\n",
            "[I 2025-10-02 12:43:50,796] Trial 29 finished with value: 0.7635009310986964 and parameters: {'n_estimators': 138, 'max_depth': 9}. Best is trial 22 with value: 0.7821229050279329.\n",
            "[I 2025-10-02 12:43:51,347] Trial 30 finished with value: 0.7690875232774674 and parameters: {'n_estimators': 91, 'max_depth': 7}. Best is trial 22 with value: 0.7821229050279329.\n",
            "[I 2025-10-02 12:43:52,085] Trial 31 finished with value: 0.7690875232774674 and parameters: {'n_estimators': 120, 'max_depth': 6}. Best is trial 22 with value: 0.7821229050279329.\n",
            "[I 2025-10-02 12:43:52,890] Trial 32 finished with value: 0.7802607076350093 and parameters: {'n_estimators': 130, 'max_depth': 7}. Best is trial 22 with value: 0.7821229050279329.\n",
            "[I 2025-10-02 12:43:53,826] Trial 33 finished with value: 0.7653631284916201 and parameters: {'n_estimators': 147, 'max_depth': 9}. Best is trial 22 with value: 0.7821229050279329.\n",
            "[I 2025-10-02 12:43:54,600] Trial 34 finished with value: 0.7672253258845437 and parameters: {'n_estimators': 132, 'max_depth': 5}. Best is trial 22 with value: 0.7821229050279329.\n",
            "[I 2025-10-02 12:43:55,310] Trial 35 finished with value: 0.7728119180633147 and parameters: {'n_estimators': 113, 'max_depth': 7}. Best is trial 22 with value: 0.7821229050279329.\n",
            "[I 2025-10-02 12:43:56,007] Trial 36 finished with value: 0.7635009310986964 and parameters: {'n_estimators': 103, 'max_depth': 4}. Best is trial 22 with value: 0.7821229050279329.\n",
            "[I 2025-10-02 12:43:56,660] Trial 37 finished with value: 0.7579143389199255 and parameters: {'n_estimators': 67, 'max_depth': 10}. Best is trial 22 with value: 0.7821229050279329.\n",
            "[I 2025-10-02 12:43:57,875] Trial 38 finished with value: 0.7690875232774674 and parameters: {'n_estimators': 131, 'max_depth': 8}. Best is trial 22 with value: 0.7821229050279329.\n",
            "[I 2025-10-02 12:43:58,958] Trial 39 finished with value: 0.7597765363128491 and parameters: {'n_estimators': 154, 'max_depth': 4}. Best is trial 22 with value: 0.7821229050279329.\n",
            "[I 2025-10-02 12:43:59,588] Trial 40 finished with value: 0.7616387337057727 and parameters: {'n_estimators': 103, 'max_depth': 6}. Best is trial 22 with value: 0.7821229050279329.\n",
            "[I 2025-10-02 12:44:00,365] Trial 41 finished with value: 0.7783985102420857 and parameters: {'n_estimators': 126, 'max_depth': 7}. Best is trial 22 with value: 0.7821229050279329.\n",
            "[I 2025-10-02 12:44:01,154] Trial 42 finished with value: 0.7802607076350093 and parameters: {'n_estimators': 129, 'max_depth': 7}. Best is trial 22 with value: 0.7821229050279329.\n",
            "[I 2025-10-02 12:44:01,888] Trial 43 finished with value: 0.7709497206703911 and parameters: {'n_estimators': 117, 'max_depth': 8}. Best is trial 22 with value: 0.7821229050279329.\n",
            "[I 2025-10-02 12:44:02,698] Trial 44 finished with value: 0.7802607076350093 and parameters: {'n_estimators': 130, 'max_depth': 7}. Best is trial 22 with value: 0.7821229050279329.\n",
            "[I 2025-10-02 12:44:03,583] Trial 45 finished with value: 0.7616387337057727 and parameters: {'n_estimators': 140, 'max_depth': 9}. Best is trial 22 with value: 0.7821229050279329.\n",
            "[I 2025-10-02 12:44:04,574] Trial 46 finished with value: 0.7653631284916201 and parameters: {'n_estimators': 164, 'max_depth': 5}. Best is trial 22 with value: 0.7821229050279329.\n",
            "[I 2025-10-02 12:44:05,454] Trial 47 finished with value: 0.7653631284916201 and parameters: {'n_estimators': 144, 'max_depth': 6}. Best is trial 22 with value: 0.7821229050279329.\n",
            "[I 2025-10-02 12:44:06,150] Trial 48 finished with value: 0.7560521415270017 and parameters: {'n_estimators': 127, 'max_depth': 3}. Best is trial 22 with value: 0.7821229050279329.\n",
            "[I 2025-10-02 12:44:07,084] Trial 49 finished with value: 0.7765363128491619 and parameters: {'n_estimators': 152, 'max_depth': 7}. Best is trial 22 with value: 0.7821229050279329.\n"
          ]
        }
      ]
    },
    {
      "cell_type": "code",
      "source": [
        "\n",
        "# Print the best result\n",
        "print(f'Best trial accuracy: {study.best_trial.value}')\n",
        "print(f'Best hyperparameters: {study.best_trial.params}')"
      ],
      "metadata": {
        "colab": {
          "base_uri": "https://localhost:8080/"
        },
        "id": "iT-I2e0y8t6Q",
        "outputId": "4d663ec7-49b2-45ae-95ec-5a880cde685f"
      },
      "execution_count": 12,
      "outputs": [
        {
          "output_type": "stream",
          "name": "stdout",
          "text": [
            "Best trial accuracy: 0.7821229050279329\n",
            "Best hyperparameters: {'n_estimators': 120, 'max_depth': 7}\n"
          ]
        }
      ]
    },
    {
      "cell_type": "code",
      "source": [
        "from sklearn.metrics import accuracy_score\n",
        "\n",
        "# Train a RandomForestClassifier using the best hyperparameters from Optuna\n",
        "best_model = RandomForestClassifier(**study.best_trial.params, random_state=42)\n",
        "\n",
        "# Fit the model to the training data\n",
        "best_model.fit(X_train, y_train)\n",
        "\n",
        "# Make predictions on the test set\n",
        "y_pred = best_model.predict(X_test)\n",
        "\n",
        "# Calculate the accuracy on the test set\n",
        "test_accuracy = accuracy_score(y_test, y_pred)\n",
        "\n",
        "# Print the test accuracy\n",
        "print(f'Test Accuracy with best hyperparameters: {test_accuracy:.2f}')"
      ],
      "metadata": {
        "colab": {
          "base_uri": "https://localhost:8080/"
        },
        "id": "XXbPuWkK88Ey",
        "outputId": "1294b06d-85ba-475b-fea6-bd3f34a06696"
      },
      "execution_count": 13,
      "outputs": [
        {
          "output_type": "stream",
          "name": "stdout",
          "text": [
            "Test Accuracy with best hyperparameters: 0.75\n"
          ]
        }
      ]
    },
    {
      "cell_type": "code",
      "source": [
        "##Samplers in optuna(Random Sampler)"
      ],
      "metadata": {
        "id": "pjmNLkfd9W5b"
      },
      "execution_count": 15,
      "outputs": []
    },
    {
      "cell_type": "code",
      "source": [
        "from sklearn.ensemble import RandomForestClassifier\n",
        "from sklearn.model_selection import cross_val_score\n",
        "\n",
        "# Define the objective function\n",
        "def objective(trial):\n",
        "    # Suggest values for the hyperparameters\n",
        "    n_estimators = trial.suggest_int('n_estimators', 50, 200)\n",
        "    max_depth = trial.suggest_int('max_depth', 3, 20)\n",
        "\n",
        "    # Create the RandomForestClassifier with suggested hyperparameters\n",
        "    model = RandomForestClassifier(\n",
        "        n_estimators=n_estimators,\n",
        "        max_depth=max_depth,\n",
        "        random_state=42\n",
        "    )\n",
        "\n",
        "    # Perform 3-fold cross-validation and calculate accuracy\n",
        "    score = cross_val_score(model, X_train, y_train, cv=3, scoring='accuracy').mean()\n",
        "\n",
        "    return score  # Return the accuracy score for Optuna to maximize\n"
      ],
      "metadata": {
        "id": "t_aga3T_9xTv"
      },
      "execution_count": 16,
      "outputs": []
    },
    {
      "cell_type": "code",
      "source": [
        "study = optuna.create_study(direction='maximize', sampler=optuna.samplers.RandomSampler())  # We aim to maximize accuracy\n",
        "study.optimize(objective, n_trials=50)  # Run 50 trials to find the best hyperparameters"
      ],
      "metadata": {
        "colab": {
          "base_uri": "https://localhost:8080/"
        },
        "id": "M6r50J3l-DX5",
        "outputId": "fa6d02d0-6d32-436e-816e-cf0e3264df5a"
      },
      "execution_count": 17,
      "outputs": [
        {
          "output_type": "stream",
          "name": "stderr",
          "text": [
            "[I 2025-10-02 12:49:25,179] A new study created in memory with name: no-name-14ce7127-c190-4ed1-967c-7a5cc98b2f13\n",
            "[I 2025-10-02 12:49:26,241] Trial 0 finished with value: 0.7653631284916201 and parameters: {'n_estimators': 106, 'max_depth': 6}. Best is trial 0 with value: 0.7653631284916201.\n",
            "[I 2025-10-02 12:49:26,776] Trial 1 finished with value: 0.7746741154562384 and parameters: {'n_estimators': 74, 'max_depth': 16}. Best is trial 1 with value: 0.7746741154562384.\n",
            "[I 2025-10-02 12:49:27,416] Trial 2 finished with value: 0.7709497206703911 and parameters: {'n_estimators': 99, 'max_depth': 17}. Best is trial 1 with value: 0.7746741154562384.\n",
            "[I 2025-10-02 12:49:27,849] Trial 3 finished with value: 0.7616387337057727 and parameters: {'n_estimators': 69, 'max_depth': 10}. Best is trial 1 with value: 0.7746741154562384.\n",
            "[I 2025-10-02 12:49:29,060] Trial 4 finished with value: 0.7746741154562384 and parameters: {'n_estimators': 190, 'max_depth': 19}. Best is trial 1 with value: 0.7746741154562384.\n",
            "[I 2025-10-02 12:49:29,821] Trial 5 finished with value: 0.7579143389199254 and parameters: {'n_estimators': 142, 'max_depth': 3}. Best is trial 1 with value: 0.7746741154562384.\n",
            "[I 2025-10-02 12:49:30,493] Trial 6 finished with value: 0.7653631284916201 and parameters: {'n_estimators': 102, 'max_depth': 11}. Best is trial 1 with value: 0.7746741154562384.\n",
            "[I 2025-10-02 12:49:31,170] Trial 7 finished with value: 0.7765363128491621 and parameters: {'n_estimators': 106, 'max_depth': 19}. Best is trial 7 with value: 0.7765363128491621.\n",
            "[I 2025-10-02 12:49:31,693] Trial 8 finished with value: 0.7635009310986964 and parameters: {'n_estimators': 84, 'max_depth': 15}. Best is trial 7 with value: 0.7765363128491621.\n",
            "[I 2025-10-02 12:49:32,935] Trial 9 finished with value: 0.7690875232774674 and parameters: {'n_estimators': 197, 'max_depth': 12}. Best is trial 7 with value: 0.7765363128491621.\n",
            "[I 2025-10-02 12:49:33,526] Trial 10 finished with value: 0.7765363128491621 and parameters: {'n_estimators': 90, 'max_depth': 19}. Best is trial 7 with value: 0.7765363128491621.\n",
            "[I 2025-10-02 12:49:34,111] Trial 11 finished with value: 0.7728119180633147 and parameters: {'n_estimators': 93, 'max_depth': 18}. Best is trial 7 with value: 0.7765363128491621.\n",
            "[I 2025-10-02 12:49:34,612] Trial 12 finished with value: 0.7746741154562384 and parameters: {'n_estimators': 76, 'max_depth': 17}. Best is trial 7 with value: 0.7765363128491621.\n",
            "[I 2025-10-02 12:49:35,271] Trial 13 finished with value: 0.7597765363128491 and parameters: {'n_estimators': 114, 'max_depth': 3}. Best is trial 7 with value: 0.7765363128491621.\n",
            "[I 2025-10-02 12:49:36,638] Trial 14 finished with value: 0.7709497206703911 and parameters: {'n_estimators': 144, 'max_depth': 19}. Best is trial 7 with value: 0.7765363128491621.\n",
            "[I 2025-10-02 12:49:38,073] Trial 15 finished with value: 0.7765363128491619 and parameters: {'n_estimators': 160, 'max_depth': 7}. Best is trial 7 with value: 0.7765363128491621.\n",
            "[I 2025-10-02 12:49:38,688] Trial 16 finished with value: 0.7690875232774674 and parameters: {'n_estimators': 96, 'max_depth': 12}. Best is trial 7 with value: 0.7765363128491621.\n",
            "[I 2025-10-02 12:49:39,354] Trial 17 finished with value: 0.7746741154562384 and parameters: {'n_estimators': 107, 'max_depth': 19}. Best is trial 7 with value: 0.7765363128491621.\n",
            "[I 2025-10-02 12:49:40,387] Trial 18 finished with value: 0.7746741154562384 and parameters: {'n_estimators': 167, 'max_depth': 20}. Best is trial 7 with value: 0.7765363128491621.\n",
            "[I 2025-10-02 12:49:41,572] Trial 19 finished with value: 0.7746741154562384 and parameters: {'n_estimators': 188, 'max_depth': 20}. Best is trial 7 with value: 0.7765363128491621.\n",
            "[I 2025-10-02 12:49:42,316] Trial 20 finished with value: 0.7672253258845437 and parameters: {'n_estimators': 68, 'max_depth': 14}. Best is trial 7 with value: 0.7765363128491621.\n",
            "[I 2025-10-02 12:49:42,889] Trial 21 finished with value: 0.7635009310986964 and parameters: {'n_estimators': 66, 'max_depth': 15}. Best is trial 7 with value: 0.7765363128491621.\n",
            "[I 2025-10-02 12:49:43,998] Trial 22 finished with value: 0.7653631284916201 and parameters: {'n_estimators': 176, 'max_depth': 9}. Best is trial 7 with value: 0.7765363128491621.\n",
            "[I 2025-10-02 12:49:44,360] Trial 23 finished with value: 0.7690875232774674 and parameters: {'n_estimators': 55, 'max_depth': 11}. Best is trial 7 with value: 0.7765363128491621.\n",
            "[I 2025-10-02 12:49:44,916] Trial 24 finished with value: 0.7597765363128491 and parameters: {'n_estimators': 90, 'max_depth': 6}. Best is trial 7 with value: 0.7765363128491621.\n",
            "[I 2025-10-02 12:49:45,770] Trial 25 finished with value: 0.7728119180633147 and parameters: {'n_estimators': 144, 'max_depth': 7}. Best is trial 7 with value: 0.7765363128491621.\n",
            "[I 2025-10-02 12:49:46,543] Trial 26 finished with value: 0.7709497206703911 and parameters: {'n_estimators': 123, 'max_depth': 13}. Best is trial 7 with value: 0.7765363128491621.\n",
            "[I 2025-10-02 12:49:47,612] Trial 27 finished with value: 0.7635009310986964 and parameters: {'n_estimators': 172, 'max_depth': 11}. Best is trial 7 with value: 0.7765363128491621.\n",
            "[I 2025-10-02 12:49:49,114] Trial 28 finished with value: 0.7579143389199254 and parameters: {'n_estimators': 200, 'max_depth': 3}. Best is trial 7 with value: 0.7765363128491621.\n",
            "[I 2025-10-02 12:49:50,241] Trial 29 finished with value: 0.7728119180633147 and parameters: {'n_estimators': 117, 'max_depth': 14}. Best is trial 7 with value: 0.7765363128491621.\n",
            "[I 2025-10-02 12:49:51,111] Trial 30 finished with value: 0.7783985102420856 and parameters: {'n_estimators': 117, 'max_depth': 17}. Best is trial 30 with value: 0.7783985102420856.\n",
            "[I 2025-10-02 12:49:51,430] Trial 31 finished with value: 0.7802607076350093 and parameters: {'n_estimators': 50, 'max_depth': 7}. Best is trial 31 with value: 0.7802607076350093.\n",
            "[I 2025-10-02 12:49:51,997] Trial 32 finished with value: 0.7560521415270017 and parameters: {'n_estimators': 106, 'max_depth': 3}. Best is trial 31 with value: 0.7802607076350093.\n",
            "[I 2025-10-02 12:49:52,574] Trial 33 finished with value: 0.7635009310986964 and parameters: {'n_estimators': 92, 'max_depth': 11}. Best is trial 31 with value: 0.7802607076350093.\n",
            "[I 2025-10-02 12:49:53,382] Trial 34 finished with value: 0.7690875232774674 and parameters: {'n_estimators': 130, 'max_depth': 8}. Best is trial 31 with value: 0.7802607076350093.\n",
            "[I 2025-10-02 12:49:54,256] Trial 35 finished with value: 0.7690875232774674 and parameters: {'n_estimators': 143, 'max_depth': 8}. Best is trial 31 with value: 0.7802607076350093.\n",
            "[I 2025-10-02 12:49:55,271] Trial 36 finished with value: 0.7709497206703911 and parameters: {'n_estimators': 163, 'max_depth': 18}. Best is trial 31 with value: 0.7802607076350093.\n",
            "[I 2025-10-02 12:49:55,881] Trial 37 finished with value: 0.7690875232774674 and parameters: {'n_estimators': 98, 'max_depth': 20}. Best is trial 31 with value: 0.7802607076350093.\n",
            "[I 2025-10-02 12:49:56,785] Trial 38 finished with value: 0.7709497206703911 and parameters: {'n_estimators': 144, 'max_depth': 13}. Best is trial 31 with value: 0.7802607076350093.\n",
            "[I 2025-10-02 12:49:57,669] Trial 39 finished with value: 0.7541899441340782 and parameters: {'n_estimators': 164, 'max_depth': 3}. Best is trial 31 with value: 0.7802607076350093.\n",
            "[I 2025-10-02 12:49:58,606] Trial 40 finished with value: 0.7765363128491619 and parameters: {'n_estimators': 158, 'max_depth': 7}. Best is trial 31 with value: 0.7802607076350093.\n",
            "[I 2025-10-02 12:49:59,719] Trial 41 finished with value: 0.7765363128491621 and parameters: {'n_estimators': 181, 'max_depth': 16}. Best is trial 31 with value: 0.7802607076350093.\n",
            "[I 2025-10-02 12:50:00,242] Trial 42 finished with value: 0.7672253258845437 and parameters: {'n_estimators': 87, 'max_depth': 8}. Best is trial 31 with value: 0.7802607076350093.\n",
            "[I 2025-10-02 12:50:01,141] Trial 43 finished with value: 0.7616387337057727 and parameters: {'n_estimators': 123, 'max_depth': 4}. Best is trial 31 with value: 0.7802607076350093.\n",
            "[I 2025-10-02 12:50:01,709] Trial 44 finished with value: 0.7672253258845437 and parameters: {'n_estimators': 55, 'max_depth': 14}. Best is trial 31 with value: 0.7802607076350093.\n",
            "[I 2025-10-02 12:50:02,907] Trial 45 finished with value: 0.7728119180633147 and parameters: {'n_estimators': 122, 'max_depth': 17}. Best is trial 31 with value: 0.7802607076350093.\n",
            "[I 2025-10-02 12:50:03,566] Trial 46 finished with value: 0.7560521415270017 and parameters: {'n_estimators': 92, 'max_depth': 6}. Best is trial 31 with value: 0.7802607076350093.\n",
            "[I 2025-10-02 12:50:04,109] Trial 47 finished with value: 0.7690875232774674 and parameters: {'n_estimators': 85, 'max_depth': 20}. Best is trial 31 with value: 0.7802607076350093.\n",
            "[I 2025-10-02 12:50:04,942] Trial 48 finished with value: 0.7616387337057727 and parameters: {'n_estimators': 129, 'max_depth': 9}. Best is trial 31 with value: 0.7802607076350093.\n",
            "[I 2025-10-02 12:50:05,363] Trial 49 finished with value: 0.7653631284916201 and parameters: {'n_estimators': 66, 'max_depth': 12}. Best is trial 31 with value: 0.7802607076350093.\n"
          ]
        }
      ]
    },
    {
      "cell_type": "code",
      "source": [
        "\n",
        "# Print the best result\n",
        "print(f'Best trial accuracy: {study.best_trial.value}')\n",
        "print(f'Best hyperparameters: {study.best_trial.params}')"
      ],
      "metadata": {
        "colab": {
          "base_uri": "https://localhost:8080/"
        },
        "id": "M-M8bi_0-F9B",
        "outputId": "6db73a98-d0b3-49b4-c3e4-09328abd4511"
      },
      "execution_count": 18,
      "outputs": [
        {
          "output_type": "stream",
          "name": "stdout",
          "text": [
            "Best trial accuracy: 0.7802607076350093\n",
            "Best hyperparameters: {'n_estimators': 50, 'max_depth': 7}\n"
          ]
        }
      ]
    },
    {
      "cell_type": "code",
      "source": [
        "from sklearn.metrics import accuracy_score\n",
        "\n",
        "# Train a RandomForestClassifier using the best hyperparameters from Optuna\n",
        "best_model = RandomForestClassifier(**study.best_trial.params, random_state=42)\n",
        "\n",
        "# Fit the model to the training data\n",
        "best_model.fit(X_train, y_train)\n",
        "\n",
        "# Make predictions on the test set\n",
        "y_pred = best_model.predict(X_test)\n",
        "\n",
        "# Calculate the accuracy on the test set\n",
        "test_accuracy = accuracy_score(y_test, y_pred)\n",
        "\n",
        "# Print the test accuracy\n",
        "print(f'Test Accuracy with best hyperparameters: {test_accuracy:.2f}')\n"
      ],
      "metadata": {
        "colab": {
          "base_uri": "https://localhost:8080/"
        },
        "id": "2e15iGET-SWi",
        "outputId": "00a92ec9-3f1d-4429-a74f-d240b8f01e74"
      },
      "execution_count": 19,
      "outputs": [
        {
          "output_type": "stream",
          "name": "stdout",
          "text": [
            "Test Accuracy with best hyperparameters: 0.73\n"
          ]
        }
      ]
    },
    {
      "cell_type": "code",
      "source": [
        "##ANOther Sampler grid search cv but you have to define search space first"
      ],
      "metadata": {
        "id": "_aAdvFeu-UVy"
      },
      "execution_count": 20,
      "outputs": []
    },
    {
      "cell_type": "code",
      "source": [
        "search_space = {\n",
        "    'n_estimators': [50, 100, 150, 200],\n",
        "    'max_depth': [5, 10, 15, 20]\n",
        "}"
      ],
      "metadata": {
        "id": "2KICDjeL-dvN"
      },
      "execution_count": 21,
      "outputs": []
    },
    {
      "cell_type": "code",
      "source": [
        "# Create a study and optimize it using GridSampler\n",
        "study = optuna.create_study(direction='maximize', sampler=optuna.samplers.GridSampler(search_space))\n",
        "study.optimize(objective)"
      ],
      "metadata": {
        "colab": {
          "base_uri": "https://localhost:8080/"
        },
        "id": "BGQt4pbv-fVD",
        "outputId": "9a10f866-e70e-4a2f-c74a-c9923f0e78cd"
      },
      "execution_count": 22,
      "outputs": [
        {
          "output_type": "stream",
          "name": "stderr",
          "text": [
            "[I 2025-10-02 12:51:36,719] A new study created in memory with name: no-name-cecc73d9-6e98-4eee-a474-6f09fdeca9ed\n",
            "[I 2025-10-02 12:51:38,348] Trial 0 finished with value: 0.7690875232774674 and parameters: {'n_estimators': 100, 'max_depth': 5}. Best is trial 0 with value: 0.7690875232774674.\n",
            "[I 2025-10-02 12:51:40,928] Trial 1 finished with value: 0.7672253258845437 and parameters: {'n_estimators': 150, 'max_depth': 10}. Best is trial 0 with value: 0.7690875232774674.\n",
            "[I 2025-10-02 12:51:41,586] Trial 2 finished with value: 0.7728119180633147 and parameters: {'n_estimators': 50, 'max_depth': 15}. Best is trial 2 with value: 0.7728119180633147.\n",
            "[I 2025-10-02 12:51:42,733] Trial 3 finished with value: 0.7653631284916201 and parameters: {'n_estimators': 100, 'max_depth': 15}. Best is trial 2 with value: 0.7728119180633147.\n",
            "[I 2025-10-02 12:51:44,215] Trial 4 finished with value: 0.7690875232774674 and parameters: {'n_estimators': 100, 'max_depth': 20}. Best is trial 2 with value: 0.7728119180633147.\n",
            "[I 2025-10-02 12:51:45,060] Trial 5 finished with value: 0.7579143389199254 and parameters: {'n_estimators': 50, 'max_depth': 10}. Best is trial 2 with value: 0.7728119180633147.\n",
            "[I 2025-10-02 12:51:47,092] Trial 6 finished with value: 0.7653631284916201 and parameters: {'n_estimators': 150, 'max_depth': 5}. Best is trial 2 with value: 0.7728119180633147.\n",
            "[I 2025-10-02 12:51:49,249] Trial 7 finished with value: 0.7728119180633147 and parameters: {'n_estimators': 150, 'max_depth': 20}. Best is trial 2 with value: 0.7728119180633147.\n",
            "[I 2025-10-02 12:51:50,976] Trial 8 finished with value: 0.7728119180633147 and parameters: {'n_estimators': 150, 'max_depth': 15}. Best is trial 2 with value: 0.7728119180633147.\n",
            "[I 2025-10-02 12:51:52,511] Trial 9 finished with value: 0.7709497206703911 and parameters: {'n_estimators': 200, 'max_depth': 10}. Best is trial 2 with value: 0.7728119180633147.\n",
            "[I 2025-10-02 12:51:53,783] Trial 10 finished with value: 0.7728119180633147 and parameters: {'n_estimators': 200, 'max_depth': 20}. Best is trial 2 with value: 0.7728119180633147.\n",
            "[I 2025-10-02 12:51:55,037] Trial 11 finished with value: 0.7728119180633147 and parameters: {'n_estimators': 200, 'max_depth': 15}. Best is trial 2 with value: 0.7728119180633147.\n",
            "[I 2025-10-02 12:51:56,195] Trial 12 finished with value: 0.7690875232774674 and parameters: {'n_estimators': 200, 'max_depth': 5}. Best is trial 2 with value: 0.7728119180633147.\n",
            "[I 2025-10-02 12:51:56,500] Trial 13 finished with value: 0.7746741154562384 and parameters: {'n_estimators': 50, 'max_depth': 5}. Best is trial 13 with value: 0.7746741154562384.\n",
            "[I 2025-10-02 12:51:57,134] Trial 14 finished with value: 0.7616387337057727 and parameters: {'n_estimators': 100, 'max_depth': 10}. Best is trial 13 with value: 0.7746741154562384.\n",
            "[I 2025-10-02 12:51:57,458] Trial 15 finished with value: 0.7709497206703911 and parameters: {'n_estimators': 50, 'max_depth': 20}. Best is trial 13 with value: 0.7746741154562384.\n"
          ]
        }
      ]
    },
    {
      "cell_type": "code",
      "source": [
        "\n",
        "# Print the best result\n",
        "print(f'Best trial accuracy: {study.best_trial.value}')\n",
        "print(f'Best hyperparameters: {study.best_trial.params}')"
      ],
      "metadata": {
        "colab": {
          "base_uri": "https://localhost:8080/"
        },
        "id": "aBW0OQ5E-mEd",
        "outputId": "b863d728-668e-46db-dccc-0aace8e28b8e"
      },
      "execution_count": 23,
      "outputs": [
        {
          "output_type": "stream",
          "name": "stdout",
          "text": [
            "Best trial accuracy: 0.7746741154562384\n",
            "Best hyperparameters: {'n_estimators': 50, 'max_depth': 5}\n"
          ]
        }
      ]
    },
    {
      "cell_type": "code",
      "source": [
        "from sklearn.metrics import accuracy_score\n",
        "\n",
        "# Train a RandomForestClassifier using the best hyperparameters from Optuna\n",
        "best_model = RandomForestClassifier(**study.best_trial.params, random_state=42)\n",
        "\n",
        "# Fit the model to the training data\n",
        "best_model.fit(X_train, y_train)\n",
        "\n",
        "# Make predictions on the test set\n",
        "y_pred = best_model.predict(X_test)\n",
        "\n",
        "# Calculate the accuracy on the test set\n",
        "test_accuracy = accuracy_score(y_test, y_pred)\n",
        "\n",
        "# Print the test accuracy\n",
        "print(f'Test Accuracy with best hyperparameters: {test_accuracy:.2f}')\n"
      ],
      "metadata": {
        "colab": {
          "base_uri": "https://localhost:8080/"
        },
        "id": "qELm6wmt-0l2",
        "outputId": "ec623c61-676e-44c3-9803-065e342dee44"
      },
      "execution_count": 24,
      "outputs": [
        {
          "output_type": "stream",
          "name": "stdout",
          "text": [
            "Test Accuracy with best hyperparameters: 0.74\n"
          ]
        }
      ]
    },
    {
      "cell_type": "code",
      "source": [
        "## Optuna Visualizations"
      ],
      "metadata": {
        "id": "reBcPGlo-2iO"
      },
      "execution_count": 25,
      "outputs": []
    },
    {
      "cell_type": "code",
      "source": [
        "# For visualizations\n",
        "from optuna.visualization import plot_optimization_history, plot_parallel_coordinate, plot_slice, plot_contour, plot_param_importances"
      ],
      "metadata": {
        "id": "gnSiqNdr-5Rf"
      },
      "execution_count": 26,
      "outputs": []
    },
    {
      "cell_type": "code",
      "source": [
        "# 1. Optimization History\n",
        "plot_optimization_history(study).show()"
      ],
      "metadata": {
        "colab": {
          "base_uri": "https://localhost:8080/",
          "height": 542
        },
        "id": "RVv_YW6a-_a_",
        "outputId": "2b324ce4-b450-4a6a-b5ba-c463e7c3be56"
      },
      "execution_count": 27,
      "outputs": [
        {
          "output_type": "display_data",
          "data": {
            "text/html": [
              "<html>\n",
              "<head><meta charset=\"utf-8\" /></head>\n",
              "<body>\n",
              "    <div>            <script src=\"https://cdnjs.cloudflare.com/ajax/libs/mathjax/2.7.5/MathJax.js?config=TeX-AMS-MML_SVG\"></script><script type=\"text/javascript\">if (window.MathJax && window.MathJax.Hub && window.MathJax.Hub.Config) {window.MathJax.Hub.Config({SVG: {font: \"STIX-Web\"}});}</script>                <script type=\"text/javascript\">window.PlotlyConfig = {MathJaxConfig: 'local'};</script>\n",
              "        <script charset=\"utf-8\" src=\"https://cdn.plot.ly/plotly-2.35.2.min.js\"></script>                <div id=\"71f0d8a6-f942-45c1-b1bb-e9ac6a9f074f\" class=\"plotly-graph-div\" style=\"height:525px; width:100%;\"></div>            <script type=\"text/javascript\">                                    window.PLOTLYENV=window.PLOTLYENV || {};                                    if (document.getElementById(\"71f0d8a6-f942-45c1-b1bb-e9ac6a9f074f\")) {                    Plotly.newPlot(                        \"71f0d8a6-f942-45c1-b1bb-e9ac6a9f074f\",                        [{\"mode\":\"markers\",\"name\":\"Objective Value\",\"x\":[0,1,2,3,4,5,6,7,8,9,10,11,12,13,14,15],\"y\":[0.7690875232774674,0.7672253258845437,0.7728119180633147,0.7653631284916201,0.7690875232774674,0.7579143389199254,0.7653631284916201,0.7728119180633147,0.7728119180633147,0.7709497206703911,0.7728119180633147,0.7728119180633147,0.7690875232774674,0.7746741154562384,0.7616387337057727,0.7709497206703911],\"type\":\"scatter\"},{\"mode\":\"lines\",\"name\":\"Best Value\",\"x\":[0,1,2,3,4,5,6,7,8,9,10,11,12,13,14,15],\"y\":[0.7690875232774674,0.7690875232774674,0.7728119180633147,0.7728119180633147,0.7728119180633147,0.7728119180633147,0.7728119180633147,0.7728119180633147,0.7728119180633147,0.7728119180633147,0.7728119180633147,0.7728119180633147,0.7728119180633147,0.7746741154562384,0.7746741154562384,0.7746741154562384],\"type\":\"scatter\"},{\"marker\":{\"color\":\"#cccccc\"},\"mode\":\"markers\",\"name\":\"Infeasible Trial\",\"showlegend\":false,\"x\":[],\"y\":[],\"type\":\"scatter\"}],                        {\"title\":{\"text\":\"Optimization History Plot\"},\"xaxis\":{\"title\":{\"text\":\"Trial\"}},\"yaxis\":{\"title\":{\"text\":\"Objective Value\"}},\"template\":{\"data\":{\"histogram2dcontour\":[{\"type\":\"histogram2dcontour\",\"colorbar\":{\"outlinewidth\":0,\"ticks\":\"\"},\"colorscale\":[[0.0,\"#0d0887\"],[0.1111111111111111,\"#46039f\"],[0.2222222222222222,\"#7201a8\"],[0.3333333333333333,\"#9c179e\"],[0.4444444444444444,\"#bd3786\"],[0.5555555555555556,\"#d8576b\"],[0.6666666666666666,\"#ed7953\"],[0.7777777777777778,\"#fb9f3a\"],[0.8888888888888888,\"#fdca26\"],[1.0,\"#f0f921\"]]}],\"choropleth\":[{\"type\":\"choropleth\",\"colorbar\":{\"outlinewidth\":0,\"ticks\":\"\"}}],\"histogram2d\":[{\"type\":\"histogram2d\",\"colorbar\":{\"outlinewidth\":0,\"ticks\":\"\"},\"colorscale\":[[0.0,\"#0d0887\"],[0.1111111111111111,\"#46039f\"],[0.2222222222222222,\"#7201a8\"],[0.3333333333333333,\"#9c179e\"],[0.4444444444444444,\"#bd3786\"],[0.5555555555555556,\"#d8576b\"],[0.6666666666666666,\"#ed7953\"],[0.7777777777777778,\"#fb9f3a\"],[0.8888888888888888,\"#fdca26\"],[1.0,\"#f0f921\"]]}],\"heatmap\":[{\"type\":\"heatmap\",\"colorbar\":{\"outlinewidth\":0,\"ticks\":\"\"},\"colorscale\":[[0.0,\"#0d0887\"],[0.1111111111111111,\"#46039f\"],[0.2222222222222222,\"#7201a8\"],[0.3333333333333333,\"#9c179e\"],[0.4444444444444444,\"#bd3786\"],[0.5555555555555556,\"#d8576b\"],[0.6666666666666666,\"#ed7953\"],[0.7777777777777778,\"#fb9f3a\"],[0.8888888888888888,\"#fdca26\"],[1.0,\"#f0f921\"]]}],\"heatmapgl\":[{\"type\":\"heatmapgl\",\"colorbar\":{\"outlinewidth\":0,\"ticks\":\"\"},\"colorscale\":[[0.0,\"#0d0887\"],[0.1111111111111111,\"#46039f\"],[0.2222222222222222,\"#7201a8\"],[0.3333333333333333,\"#9c179e\"],[0.4444444444444444,\"#bd3786\"],[0.5555555555555556,\"#d8576b\"],[0.6666666666666666,\"#ed7953\"],[0.7777777777777778,\"#fb9f3a\"],[0.8888888888888888,\"#fdca26\"],[1.0,\"#f0f921\"]]}],\"contourcarpet\":[{\"type\":\"contourcarpet\",\"colorbar\":{\"outlinewidth\":0,\"ticks\":\"\"}}],\"contour\":[{\"type\":\"contour\",\"colorbar\":{\"outlinewidth\":0,\"ticks\":\"\"},\"colorscale\":[[0.0,\"#0d0887\"],[0.1111111111111111,\"#46039f\"],[0.2222222222222222,\"#7201a8\"],[0.3333333333333333,\"#9c179e\"],[0.4444444444444444,\"#bd3786\"],[0.5555555555555556,\"#d8576b\"],[0.6666666666666666,\"#ed7953\"],[0.7777777777777778,\"#fb9f3a\"],[0.8888888888888888,\"#fdca26\"],[1.0,\"#f0f921\"]]}],\"surface\":[{\"type\":\"surface\",\"colorbar\":{\"outlinewidth\":0,\"ticks\":\"\"},\"colorscale\":[[0.0,\"#0d0887\"],[0.1111111111111111,\"#46039f\"],[0.2222222222222222,\"#7201a8\"],[0.3333333333333333,\"#9c179e\"],[0.4444444444444444,\"#bd3786\"],[0.5555555555555556,\"#d8576b\"],[0.6666666666666666,\"#ed7953\"],[0.7777777777777778,\"#fb9f3a\"],[0.8888888888888888,\"#fdca26\"],[1.0,\"#f0f921\"]]}],\"mesh3d\":[{\"type\":\"mesh3d\",\"colorbar\":{\"outlinewidth\":0,\"ticks\":\"\"}}],\"scatter\":[{\"fillpattern\":{\"fillmode\":\"overlay\",\"size\":10,\"solidity\":0.2},\"type\":\"scatter\"}],\"parcoords\":[{\"type\":\"parcoords\",\"line\":{\"colorbar\":{\"outlinewidth\":0,\"ticks\":\"\"}}}],\"scatterpolargl\":[{\"type\":\"scatterpolargl\",\"marker\":{\"colorbar\":{\"outlinewidth\":0,\"ticks\":\"\"}}}],\"bar\":[{\"error_x\":{\"color\":\"#2a3f5f\"},\"error_y\":{\"color\":\"#2a3f5f\"},\"marker\":{\"line\":{\"color\":\"#E5ECF6\",\"width\":0.5},\"pattern\":{\"fillmode\":\"overlay\",\"size\":10,\"solidity\":0.2}},\"type\":\"bar\"}],\"scattergeo\":[{\"type\":\"scattergeo\",\"marker\":{\"colorbar\":{\"outlinewidth\":0,\"ticks\":\"\"}}}],\"scatterpolar\":[{\"type\":\"scatterpolar\",\"marker\":{\"colorbar\":{\"outlinewidth\":0,\"ticks\":\"\"}}}],\"histogram\":[{\"marker\":{\"pattern\":{\"fillmode\":\"overlay\",\"size\":10,\"solidity\":0.2}},\"type\":\"histogram\"}],\"scattergl\":[{\"type\":\"scattergl\",\"marker\":{\"colorbar\":{\"outlinewidth\":0,\"ticks\":\"\"}}}],\"scatter3d\":[{\"type\":\"scatter3d\",\"line\":{\"colorbar\":{\"outlinewidth\":0,\"ticks\":\"\"}},\"marker\":{\"colorbar\":{\"outlinewidth\":0,\"ticks\":\"\"}}}],\"scattermapbox\":[{\"type\":\"scattermapbox\",\"marker\":{\"colorbar\":{\"outlinewidth\":0,\"ticks\":\"\"}}}],\"scatterternary\":[{\"type\":\"scatterternary\",\"marker\":{\"colorbar\":{\"outlinewidth\":0,\"ticks\":\"\"}}}],\"scattercarpet\":[{\"type\":\"scattercarpet\",\"marker\":{\"colorbar\":{\"outlinewidth\":0,\"ticks\":\"\"}}}],\"carpet\":[{\"aaxis\":{\"endlinecolor\":\"#2a3f5f\",\"gridcolor\":\"white\",\"linecolor\":\"white\",\"minorgridcolor\":\"white\",\"startlinecolor\":\"#2a3f5f\"},\"baxis\":{\"endlinecolor\":\"#2a3f5f\",\"gridcolor\":\"white\",\"linecolor\":\"white\",\"minorgridcolor\":\"white\",\"startlinecolor\":\"#2a3f5f\"},\"type\":\"carpet\"}],\"table\":[{\"cells\":{\"fill\":{\"color\":\"#EBF0F8\"},\"line\":{\"color\":\"white\"}},\"header\":{\"fill\":{\"color\":\"#C8D4E3\"},\"line\":{\"color\":\"white\"}},\"type\":\"table\"}],\"barpolar\":[{\"marker\":{\"line\":{\"color\":\"#E5ECF6\",\"width\":0.5},\"pattern\":{\"fillmode\":\"overlay\",\"size\":10,\"solidity\":0.2}},\"type\":\"barpolar\"}],\"pie\":[{\"automargin\":true,\"type\":\"pie\"}]},\"layout\":{\"autotypenumbers\":\"strict\",\"colorway\":[\"#636efa\",\"#EF553B\",\"#00cc96\",\"#ab63fa\",\"#FFA15A\",\"#19d3f3\",\"#FF6692\",\"#B6E880\",\"#FF97FF\",\"#FECB52\"],\"font\":{\"color\":\"#2a3f5f\"},\"hovermode\":\"closest\",\"hoverlabel\":{\"align\":\"left\"},\"paper_bgcolor\":\"white\",\"plot_bgcolor\":\"#E5ECF6\",\"polar\":{\"bgcolor\":\"#E5ECF6\",\"angularaxis\":{\"gridcolor\":\"white\",\"linecolor\":\"white\",\"ticks\":\"\"},\"radialaxis\":{\"gridcolor\":\"white\",\"linecolor\":\"white\",\"ticks\":\"\"}},\"ternary\":{\"bgcolor\":\"#E5ECF6\",\"aaxis\":{\"gridcolor\":\"white\",\"linecolor\":\"white\",\"ticks\":\"\"},\"baxis\":{\"gridcolor\":\"white\",\"linecolor\":\"white\",\"ticks\":\"\"},\"caxis\":{\"gridcolor\":\"white\",\"linecolor\":\"white\",\"ticks\":\"\"}},\"coloraxis\":{\"colorbar\":{\"outlinewidth\":0,\"ticks\":\"\"}},\"colorscale\":{\"sequential\":[[0.0,\"#0d0887\"],[0.1111111111111111,\"#46039f\"],[0.2222222222222222,\"#7201a8\"],[0.3333333333333333,\"#9c179e\"],[0.4444444444444444,\"#bd3786\"],[0.5555555555555556,\"#d8576b\"],[0.6666666666666666,\"#ed7953\"],[0.7777777777777778,\"#fb9f3a\"],[0.8888888888888888,\"#fdca26\"],[1.0,\"#f0f921\"]],\"sequentialminus\":[[0.0,\"#0d0887\"],[0.1111111111111111,\"#46039f\"],[0.2222222222222222,\"#7201a8\"],[0.3333333333333333,\"#9c179e\"],[0.4444444444444444,\"#bd3786\"],[0.5555555555555556,\"#d8576b\"],[0.6666666666666666,\"#ed7953\"],[0.7777777777777778,\"#fb9f3a\"],[0.8888888888888888,\"#fdca26\"],[1.0,\"#f0f921\"]],\"diverging\":[[0,\"#8e0152\"],[0.1,\"#c51b7d\"],[0.2,\"#de77ae\"],[0.3,\"#f1b6da\"],[0.4,\"#fde0ef\"],[0.5,\"#f7f7f7\"],[0.6,\"#e6f5d0\"],[0.7,\"#b8e186\"],[0.8,\"#7fbc41\"],[0.9,\"#4d9221\"],[1,\"#276419\"]]},\"xaxis\":{\"gridcolor\":\"white\",\"linecolor\":\"white\",\"ticks\":\"\",\"title\":{\"standoff\":15},\"zerolinecolor\":\"white\",\"automargin\":true,\"zerolinewidth\":2},\"yaxis\":{\"gridcolor\":\"white\",\"linecolor\":\"white\",\"ticks\":\"\",\"title\":{\"standoff\":15},\"zerolinecolor\":\"white\",\"automargin\":true,\"zerolinewidth\":2},\"scene\":{\"xaxis\":{\"backgroundcolor\":\"#E5ECF6\",\"gridcolor\":\"white\",\"linecolor\":\"white\",\"showbackground\":true,\"ticks\":\"\",\"zerolinecolor\":\"white\",\"gridwidth\":2},\"yaxis\":{\"backgroundcolor\":\"#E5ECF6\",\"gridcolor\":\"white\",\"linecolor\":\"white\",\"showbackground\":true,\"ticks\":\"\",\"zerolinecolor\":\"white\",\"gridwidth\":2},\"zaxis\":{\"backgroundcolor\":\"#E5ECF6\",\"gridcolor\":\"white\",\"linecolor\":\"white\",\"showbackground\":true,\"ticks\":\"\",\"zerolinecolor\":\"white\",\"gridwidth\":2}},\"shapedefaults\":{\"line\":{\"color\":\"#2a3f5f\"}},\"annotationdefaults\":{\"arrowcolor\":\"#2a3f5f\",\"arrowhead\":0,\"arrowwidth\":1},\"geo\":{\"bgcolor\":\"white\",\"landcolor\":\"#E5ECF6\",\"subunitcolor\":\"white\",\"showland\":true,\"showlakes\":true,\"lakecolor\":\"white\"},\"title\":{\"x\":0.05},\"mapbox\":{\"style\":\"light\"}}}},                        {\"responsive\": true}                    ).then(function(){\n",
              "                            \n",
              "var gd = document.getElementById('71f0d8a6-f942-45c1-b1bb-e9ac6a9f074f');\n",
              "var x = new MutationObserver(function (mutations, observer) {{\n",
              "        var display = window.getComputedStyle(gd).display;\n",
              "        if (!display || display === 'none') {{\n",
              "            console.log([gd, 'removed!']);\n",
              "            Plotly.purge(gd);\n",
              "            observer.disconnect();\n",
              "        }}\n",
              "}});\n",
              "\n",
              "// Listen for the removal of the full notebook cells\n",
              "var notebookContainer = gd.closest('#notebook-container');\n",
              "if (notebookContainer) {{\n",
              "    x.observe(notebookContainer, {childList: true});\n",
              "}}\n",
              "\n",
              "// Listen for the clearing of the current output cell\n",
              "var outputEl = gd.closest('.output');\n",
              "if (outputEl) {{\n",
              "    x.observe(outputEl, {childList: true});\n",
              "}}\n",
              "\n",
              "                        })                };                            </script>        </div>\n",
              "</body>\n",
              "</html>"
            ]
          },
          "metadata": {}
        }
      ]
    },
    {
      "cell_type": "code",
      "source": [
        "# 2. Parallel Coordinates Plot\n",
        "plot_parallel_coordinate(study).show()"
      ],
      "metadata": {
        "colab": {
          "base_uri": "https://localhost:8080/",
          "height": 542
        },
        "id": "58NPmKVp_Bo_",
        "outputId": "f264202c-d73b-49bc-d89b-f583783e837d"
      },
      "execution_count": 28,
      "outputs": [
        {
          "output_type": "display_data",
          "data": {
            "text/html": [
              "<html>\n",
              "<head><meta charset=\"utf-8\" /></head>\n",
              "<body>\n",
              "    <div>            <script src=\"https://cdnjs.cloudflare.com/ajax/libs/mathjax/2.7.5/MathJax.js?config=TeX-AMS-MML_SVG\"></script><script type=\"text/javascript\">if (window.MathJax && window.MathJax.Hub && window.MathJax.Hub.Config) {window.MathJax.Hub.Config({SVG: {font: \"STIX-Web\"}});}</script>                <script type=\"text/javascript\">window.PlotlyConfig = {MathJaxConfig: 'local'};</script>\n",
              "        <script charset=\"utf-8\" src=\"https://cdn.plot.ly/plotly-2.35.2.min.js\"></script>                <div id=\"c0c19ee5-9829-41af-8714-fea09913162e\" class=\"plotly-graph-div\" style=\"height:525px; width:100%;\"></div>            <script type=\"text/javascript\">                                    window.PLOTLYENV=window.PLOTLYENV || {};                                    if (document.getElementById(\"c0c19ee5-9829-41af-8714-fea09913162e\")) {                    Plotly.newPlot(                        \"c0c19ee5-9829-41af-8714-fea09913162e\",                        [{\"dimensions\":[{\"label\":\"Objective Value\",\"range\":[0.7579143389199254,0.7746741154562384],\"values\":[0.7690875232774674,0.7672253258845437,0.7728119180633147,0.7653631284916201,0.7690875232774674,0.7579143389199254,0.7653631284916201,0.7728119180633147,0.7728119180633147,0.7709497206703911,0.7728119180633147,0.7728119180633147,0.7690875232774674,0.7746741154562384,0.7616387337057727,0.7709497206703911]},{\"label\":\"max_depth\",\"range\":[5,20],\"values\":[5,10,15,15,20,10,5,20,15,10,20,15,5,5,10,20]},{\"label\":\"n_estimators\",\"range\":[50,200],\"values\":[100,150,50,100,100,50,150,150,150,200,200,200,200,50,100,50]}],\"labelangle\":30,\"labelside\":\"bottom\",\"line\":{\"color\":[0.7690875232774674,0.7672253258845437,0.7728119180633147,0.7653631284916201,0.7690875232774674,0.7579143389199254,0.7653631284916201,0.7728119180633147,0.7728119180633147,0.7709497206703911,0.7728119180633147,0.7728119180633147,0.7690875232774674,0.7746741154562384,0.7616387337057727,0.7709497206703911],\"colorbar\":{\"title\":{\"text\":\"Objective Value\"}},\"colorscale\":[[0.0,\"rgb(247,251,255)\"],[0.125,\"rgb(222,235,247)\"],[0.25,\"rgb(198,219,239)\"],[0.375,\"rgb(158,202,225)\"],[0.5,\"rgb(107,174,214)\"],[0.625,\"rgb(66,146,198)\"],[0.75,\"rgb(33,113,181)\"],[0.875,\"rgb(8,81,156)\"],[1.0,\"rgb(8,48,107)\"]],\"reversescale\":false,\"showscale\":true},\"type\":\"parcoords\"}],                        {\"title\":{\"text\":\"Parallel Coordinate Plot\"},\"template\":{\"data\":{\"histogram2dcontour\":[{\"type\":\"histogram2dcontour\",\"colorbar\":{\"outlinewidth\":0,\"ticks\":\"\"},\"colorscale\":[[0.0,\"#0d0887\"],[0.1111111111111111,\"#46039f\"],[0.2222222222222222,\"#7201a8\"],[0.3333333333333333,\"#9c179e\"],[0.4444444444444444,\"#bd3786\"],[0.5555555555555556,\"#d8576b\"],[0.6666666666666666,\"#ed7953\"],[0.7777777777777778,\"#fb9f3a\"],[0.8888888888888888,\"#fdca26\"],[1.0,\"#f0f921\"]]}],\"choropleth\":[{\"type\":\"choropleth\",\"colorbar\":{\"outlinewidth\":0,\"ticks\":\"\"}}],\"histogram2d\":[{\"type\":\"histogram2d\",\"colorbar\":{\"outlinewidth\":0,\"ticks\":\"\"},\"colorscale\":[[0.0,\"#0d0887\"],[0.1111111111111111,\"#46039f\"],[0.2222222222222222,\"#7201a8\"],[0.3333333333333333,\"#9c179e\"],[0.4444444444444444,\"#bd3786\"],[0.5555555555555556,\"#d8576b\"],[0.6666666666666666,\"#ed7953\"],[0.7777777777777778,\"#fb9f3a\"],[0.8888888888888888,\"#fdca26\"],[1.0,\"#f0f921\"]]}],\"heatmap\":[{\"type\":\"heatmap\",\"colorbar\":{\"outlinewidth\":0,\"ticks\":\"\"},\"colorscale\":[[0.0,\"#0d0887\"],[0.1111111111111111,\"#46039f\"],[0.2222222222222222,\"#7201a8\"],[0.3333333333333333,\"#9c179e\"],[0.4444444444444444,\"#bd3786\"],[0.5555555555555556,\"#d8576b\"],[0.6666666666666666,\"#ed7953\"],[0.7777777777777778,\"#fb9f3a\"],[0.8888888888888888,\"#fdca26\"],[1.0,\"#f0f921\"]]}],\"heatmapgl\":[{\"type\":\"heatmapgl\",\"colorbar\":{\"outlinewidth\":0,\"ticks\":\"\"},\"colorscale\":[[0.0,\"#0d0887\"],[0.1111111111111111,\"#46039f\"],[0.2222222222222222,\"#7201a8\"],[0.3333333333333333,\"#9c179e\"],[0.4444444444444444,\"#bd3786\"],[0.5555555555555556,\"#d8576b\"],[0.6666666666666666,\"#ed7953\"],[0.7777777777777778,\"#fb9f3a\"],[0.8888888888888888,\"#fdca26\"],[1.0,\"#f0f921\"]]}],\"contourcarpet\":[{\"type\":\"contourcarpet\",\"colorbar\":{\"outlinewidth\":0,\"ticks\":\"\"}}],\"contour\":[{\"type\":\"contour\",\"colorbar\":{\"outlinewidth\":0,\"ticks\":\"\"},\"colorscale\":[[0.0,\"#0d0887\"],[0.1111111111111111,\"#46039f\"],[0.2222222222222222,\"#7201a8\"],[0.3333333333333333,\"#9c179e\"],[0.4444444444444444,\"#bd3786\"],[0.5555555555555556,\"#d8576b\"],[0.6666666666666666,\"#ed7953\"],[0.7777777777777778,\"#fb9f3a\"],[0.8888888888888888,\"#fdca26\"],[1.0,\"#f0f921\"]]}],\"surface\":[{\"type\":\"surface\",\"colorbar\":{\"outlinewidth\":0,\"ticks\":\"\"},\"colorscale\":[[0.0,\"#0d0887\"],[0.1111111111111111,\"#46039f\"],[0.2222222222222222,\"#7201a8\"],[0.3333333333333333,\"#9c179e\"],[0.4444444444444444,\"#bd3786\"],[0.5555555555555556,\"#d8576b\"],[0.6666666666666666,\"#ed7953\"],[0.7777777777777778,\"#fb9f3a\"],[0.8888888888888888,\"#fdca26\"],[1.0,\"#f0f921\"]]}],\"mesh3d\":[{\"type\":\"mesh3d\",\"colorbar\":{\"outlinewidth\":0,\"ticks\":\"\"}}],\"scatter\":[{\"fillpattern\":{\"fillmode\":\"overlay\",\"size\":10,\"solidity\":0.2},\"type\":\"scatter\"}],\"parcoords\":[{\"type\":\"parcoords\",\"line\":{\"colorbar\":{\"outlinewidth\":0,\"ticks\":\"\"}}}],\"scatterpolargl\":[{\"type\":\"scatterpolargl\",\"marker\":{\"colorbar\":{\"outlinewidth\":0,\"ticks\":\"\"}}}],\"bar\":[{\"error_x\":{\"color\":\"#2a3f5f\"},\"error_y\":{\"color\":\"#2a3f5f\"},\"marker\":{\"line\":{\"color\":\"#E5ECF6\",\"width\":0.5},\"pattern\":{\"fillmode\":\"overlay\",\"size\":10,\"solidity\":0.2}},\"type\":\"bar\"}],\"scattergeo\":[{\"type\":\"scattergeo\",\"marker\":{\"colorbar\":{\"outlinewidth\":0,\"ticks\":\"\"}}}],\"scatterpolar\":[{\"type\":\"scatterpolar\",\"marker\":{\"colorbar\":{\"outlinewidth\":0,\"ticks\":\"\"}}}],\"histogram\":[{\"marker\":{\"pattern\":{\"fillmode\":\"overlay\",\"size\":10,\"solidity\":0.2}},\"type\":\"histogram\"}],\"scattergl\":[{\"type\":\"scattergl\",\"marker\":{\"colorbar\":{\"outlinewidth\":0,\"ticks\":\"\"}}}],\"scatter3d\":[{\"type\":\"scatter3d\",\"line\":{\"colorbar\":{\"outlinewidth\":0,\"ticks\":\"\"}},\"marker\":{\"colorbar\":{\"outlinewidth\":0,\"ticks\":\"\"}}}],\"scattermapbox\":[{\"type\":\"scattermapbox\",\"marker\":{\"colorbar\":{\"outlinewidth\":0,\"ticks\":\"\"}}}],\"scatterternary\":[{\"type\":\"scatterternary\",\"marker\":{\"colorbar\":{\"outlinewidth\":0,\"ticks\":\"\"}}}],\"scattercarpet\":[{\"type\":\"scattercarpet\",\"marker\":{\"colorbar\":{\"outlinewidth\":0,\"ticks\":\"\"}}}],\"carpet\":[{\"aaxis\":{\"endlinecolor\":\"#2a3f5f\",\"gridcolor\":\"white\",\"linecolor\":\"white\",\"minorgridcolor\":\"white\",\"startlinecolor\":\"#2a3f5f\"},\"baxis\":{\"endlinecolor\":\"#2a3f5f\",\"gridcolor\":\"white\",\"linecolor\":\"white\",\"minorgridcolor\":\"white\",\"startlinecolor\":\"#2a3f5f\"},\"type\":\"carpet\"}],\"table\":[{\"cells\":{\"fill\":{\"color\":\"#EBF0F8\"},\"line\":{\"color\":\"white\"}},\"header\":{\"fill\":{\"color\":\"#C8D4E3\"},\"line\":{\"color\":\"white\"}},\"type\":\"table\"}],\"barpolar\":[{\"marker\":{\"line\":{\"color\":\"#E5ECF6\",\"width\":0.5},\"pattern\":{\"fillmode\":\"overlay\",\"size\":10,\"solidity\":0.2}},\"type\":\"barpolar\"}],\"pie\":[{\"automargin\":true,\"type\":\"pie\"}]},\"layout\":{\"autotypenumbers\":\"strict\",\"colorway\":[\"#636efa\",\"#EF553B\",\"#00cc96\",\"#ab63fa\",\"#FFA15A\",\"#19d3f3\",\"#FF6692\",\"#B6E880\",\"#FF97FF\",\"#FECB52\"],\"font\":{\"color\":\"#2a3f5f\"},\"hovermode\":\"closest\",\"hoverlabel\":{\"align\":\"left\"},\"paper_bgcolor\":\"white\",\"plot_bgcolor\":\"#E5ECF6\",\"polar\":{\"bgcolor\":\"#E5ECF6\",\"angularaxis\":{\"gridcolor\":\"white\",\"linecolor\":\"white\",\"ticks\":\"\"},\"radialaxis\":{\"gridcolor\":\"white\",\"linecolor\":\"white\",\"ticks\":\"\"}},\"ternary\":{\"bgcolor\":\"#E5ECF6\",\"aaxis\":{\"gridcolor\":\"white\",\"linecolor\":\"white\",\"ticks\":\"\"},\"baxis\":{\"gridcolor\":\"white\",\"linecolor\":\"white\",\"ticks\":\"\"},\"caxis\":{\"gridcolor\":\"white\",\"linecolor\":\"white\",\"ticks\":\"\"}},\"coloraxis\":{\"colorbar\":{\"outlinewidth\":0,\"ticks\":\"\"}},\"colorscale\":{\"sequential\":[[0.0,\"#0d0887\"],[0.1111111111111111,\"#46039f\"],[0.2222222222222222,\"#7201a8\"],[0.3333333333333333,\"#9c179e\"],[0.4444444444444444,\"#bd3786\"],[0.5555555555555556,\"#d8576b\"],[0.6666666666666666,\"#ed7953\"],[0.7777777777777778,\"#fb9f3a\"],[0.8888888888888888,\"#fdca26\"],[1.0,\"#f0f921\"]],\"sequentialminus\":[[0.0,\"#0d0887\"],[0.1111111111111111,\"#46039f\"],[0.2222222222222222,\"#7201a8\"],[0.3333333333333333,\"#9c179e\"],[0.4444444444444444,\"#bd3786\"],[0.5555555555555556,\"#d8576b\"],[0.6666666666666666,\"#ed7953\"],[0.7777777777777778,\"#fb9f3a\"],[0.8888888888888888,\"#fdca26\"],[1.0,\"#f0f921\"]],\"diverging\":[[0,\"#8e0152\"],[0.1,\"#c51b7d\"],[0.2,\"#de77ae\"],[0.3,\"#f1b6da\"],[0.4,\"#fde0ef\"],[0.5,\"#f7f7f7\"],[0.6,\"#e6f5d0\"],[0.7,\"#b8e186\"],[0.8,\"#7fbc41\"],[0.9,\"#4d9221\"],[1,\"#276419\"]]},\"xaxis\":{\"gridcolor\":\"white\",\"linecolor\":\"white\",\"ticks\":\"\",\"title\":{\"standoff\":15},\"zerolinecolor\":\"white\",\"automargin\":true,\"zerolinewidth\":2},\"yaxis\":{\"gridcolor\":\"white\",\"linecolor\":\"white\",\"ticks\":\"\",\"title\":{\"standoff\":15},\"zerolinecolor\":\"white\",\"automargin\":true,\"zerolinewidth\":2},\"scene\":{\"xaxis\":{\"backgroundcolor\":\"#E5ECF6\",\"gridcolor\":\"white\",\"linecolor\":\"white\",\"showbackground\":true,\"ticks\":\"\",\"zerolinecolor\":\"white\",\"gridwidth\":2},\"yaxis\":{\"backgroundcolor\":\"#E5ECF6\",\"gridcolor\":\"white\",\"linecolor\":\"white\",\"showbackground\":true,\"ticks\":\"\",\"zerolinecolor\":\"white\",\"gridwidth\":2},\"zaxis\":{\"backgroundcolor\":\"#E5ECF6\",\"gridcolor\":\"white\",\"linecolor\":\"white\",\"showbackground\":true,\"ticks\":\"\",\"zerolinecolor\":\"white\",\"gridwidth\":2}},\"shapedefaults\":{\"line\":{\"color\":\"#2a3f5f\"}},\"annotationdefaults\":{\"arrowcolor\":\"#2a3f5f\",\"arrowhead\":0,\"arrowwidth\":1},\"geo\":{\"bgcolor\":\"white\",\"landcolor\":\"#E5ECF6\",\"subunitcolor\":\"white\",\"showland\":true,\"showlakes\":true,\"lakecolor\":\"white\"},\"title\":{\"x\":0.05},\"mapbox\":{\"style\":\"light\"}}}},                        {\"responsive\": true}                    ).then(function(){\n",
              "                            \n",
              "var gd = document.getElementById('c0c19ee5-9829-41af-8714-fea09913162e');\n",
              "var x = new MutationObserver(function (mutations, observer) {{\n",
              "        var display = window.getComputedStyle(gd).display;\n",
              "        if (!display || display === 'none') {{\n",
              "            console.log([gd, 'removed!']);\n",
              "            Plotly.purge(gd);\n",
              "            observer.disconnect();\n",
              "        }}\n",
              "}});\n",
              "\n",
              "// Listen for the removal of the full notebook cells\n",
              "var notebookContainer = gd.closest('#notebook-container');\n",
              "if (notebookContainer) {{\n",
              "    x.observe(notebookContainer, {childList: true});\n",
              "}}\n",
              "\n",
              "// Listen for the clearing of the current output cell\n",
              "var outputEl = gd.closest('.output');\n",
              "if (outputEl) {{\n",
              "    x.observe(outputEl, {childList: true});\n",
              "}}\n",
              "\n",
              "                        })                };                            </script>        </div>\n",
              "</body>\n",
              "</html>"
            ]
          },
          "metadata": {}
        }
      ]
    },
    {
      "cell_type": "code",
      "source": [
        "# 3. Slice Plot\n",
        "plot_slice(study).show()"
      ],
      "metadata": {
        "colab": {
          "base_uri": "https://localhost:8080/",
          "height": 542
        },
        "id": "GAwuBcc8_EhX",
        "outputId": "24ba1841-5caf-4358-cde4-acb032d5b4c2"
      },
      "execution_count": 29,
      "outputs": [
        {
          "output_type": "display_data",
          "data": {
            "text/html": [
              "<html>\n",
              "<head><meta charset=\"utf-8\" /></head>\n",
              "<body>\n",
              "    <div>            <script src=\"https://cdnjs.cloudflare.com/ajax/libs/mathjax/2.7.5/MathJax.js?config=TeX-AMS-MML_SVG\"></script><script type=\"text/javascript\">if (window.MathJax && window.MathJax.Hub && window.MathJax.Hub.Config) {window.MathJax.Hub.Config({SVG: {font: \"STIX-Web\"}});}</script>                <script type=\"text/javascript\">window.PlotlyConfig = {MathJaxConfig: 'local'};</script>\n",
              "        <script charset=\"utf-8\" src=\"https://cdn.plot.ly/plotly-2.35.2.min.js\"></script>                <div id=\"adacd3d5-e0c5-4ad2-bcf5-3a998f93a497\" class=\"plotly-graph-div\" style=\"height:525px; width:100%;\"></div>            <script type=\"text/javascript\">                                    window.PLOTLYENV=window.PLOTLYENV || {};                                    if (document.getElementById(\"adacd3d5-e0c5-4ad2-bcf5-3a998f93a497\")) {                    Plotly.newPlot(                        \"adacd3d5-e0c5-4ad2-bcf5-3a998f93a497\",                        [{\"marker\":{\"color\":[0,1,2,3,4,5,6,7,8,9,10,11,12,13,14,15],\"colorbar\":{\"title\":{\"text\":\"Trial\"},\"x\":1.0,\"xpad\":40},\"colorscale\":[[0.0,\"rgb(247,251,255)\"],[0.125,\"rgb(222,235,247)\"],[0.25,\"rgb(198,219,239)\"],[0.375,\"rgb(158,202,225)\"],[0.5,\"rgb(107,174,214)\"],[0.625,\"rgb(66,146,198)\"],[0.75,\"rgb(33,113,181)\"],[0.875,\"rgb(8,81,156)\"],[1.0,\"rgb(8,48,107)\"]],\"line\":{\"color\":\"Grey\",\"width\":0.5},\"showscale\":true},\"mode\":\"markers\",\"name\":\"Feasible Trial\",\"showlegend\":false,\"x\":[5,10,15,15,20,10,5,20,15,10,20,15,5,5,10,20],\"y\":[0.7690875232774674,0.7672253258845437,0.7728119180633147,0.7653631284916201,0.7690875232774674,0.7579143389199254,0.7653631284916201,0.7728119180633147,0.7728119180633147,0.7709497206703911,0.7728119180633147,0.7728119180633147,0.7690875232774674,0.7746741154562384,0.7616387337057727,0.7709497206703911],\"type\":\"scatter\",\"xaxis\":\"x\",\"yaxis\":\"y\"},{\"marker\":{\"color\":[0,1,2,3,4,5,6,7,8,9,10,11,12,13,14,15],\"colorbar\":{\"title\":{\"text\":\"Trial\"},\"x\":1.0,\"xpad\":40},\"colorscale\":[[0.0,\"rgb(247,251,255)\"],[0.125,\"rgb(222,235,247)\"],[0.25,\"rgb(198,219,239)\"],[0.375,\"rgb(158,202,225)\"],[0.5,\"rgb(107,174,214)\"],[0.625,\"rgb(66,146,198)\"],[0.75,\"rgb(33,113,181)\"],[0.875,\"rgb(8,81,156)\"],[1.0,\"rgb(8,48,107)\"]],\"line\":{\"color\":\"Grey\",\"width\":0.5},\"showscale\":false},\"mode\":\"markers\",\"name\":\"Feasible Trial\",\"showlegend\":false,\"x\":[100,150,50,100,100,50,150,150,150,200,200,200,200,50,100,50],\"y\":[0.7690875232774674,0.7672253258845437,0.7728119180633147,0.7653631284916201,0.7690875232774674,0.7579143389199254,0.7653631284916201,0.7728119180633147,0.7728119180633147,0.7709497206703911,0.7728119180633147,0.7728119180633147,0.7690875232774674,0.7746741154562384,0.7616387337057727,0.7709497206703911],\"type\":\"scatter\",\"xaxis\":\"x2\",\"yaxis\":\"y2\"}],                        {\"template\":{\"data\":{\"histogram2dcontour\":[{\"type\":\"histogram2dcontour\",\"colorbar\":{\"outlinewidth\":0,\"ticks\":\"\"},\"colorscale\":[[0.0,\"#0d0887\"],[0.1111111111111111,\"#46039f\"],[0.2222222222222222,\"#7201a8\"],[0.3333333333333333,\"#9c179e\"],[0.4444444444444444,\"#bd3786\"],[0.5555555555555556,\"#d8576b\"],[0.6666666666666666,\"#ed7953\"],[0.7777777777777778,\"#fb9f3a\"],[0.8888888888888888,\"#fdca26\"],[1.0,\"#f0f921\"]]}],\"choropleth\":[{\"type\":\"choropleth\",\"colorbar\":{\"outlinewidth\":0,\"ticks\":\"\"}}],\"histogram2d\":[{\"type\":\"histogram2d\",\"colorbar\":{\"outlinewidth\":0,\"ticks\":\"\"},\"colorscale\":[[0.0,\"#0d0887\"],[0.1111111111111111,\"#46039f\"],[0.2222222222222222,\"#7201a8\"],[0.3333333333333333,\"#9c179e\"],[0.4444444444444444,\"#bd3786\"],[0.5555555555555556,\"#d8576b\"],[0.6666666666666666,\"#ed7953\"],[0.7777777777777778,\"#fb9f3a\"],[0.8888888888888888,\"#fdca26\"],[1.0,\"#f0f921\"]]}],\"heatmap\":[{\"type\":\"heatmap\",\"colorbar\":{\"outlinewidth\":0,\"ticks\":\"\"},\"colorscale\":[[0.0,\"#0d0887\"],[0.1111111111111111,\"#46039f\"],[0.2222222222222222,\"#7201a8\"],[0.3333333333333333,\"#9c179e\"],[0.4444444444444444,\"#bd3786\"],[0.5555555555555556,\"#d8576b\"],[0.6666666666666666,\"#ed7953\"],[0.7777777777777778,\"#fb9f3a\"],[0.8888888888888888,\"#fdca26\"],[1.0,\"#f0f921\"]]}],\"heatmapgl\":[{\"type\":\"heatmapgl\",\"colorbar\":{\"outlinewidth\":0,\"ticks\":\"\"},\"colorscale\":[[0.0,\"#0d0887\"],[0.1111111111111111,\"#46039f\"],[0.2222222222222222,\"#7201a8\"],[0.3333333333333333,\"#9c179e\"],[0.4444444444444444,\"#bd3786\"],[0.5555555555555556,\"#d8576b\"],[0.6666666666666666,\"#ed7953\"],[0.7777777777777778,\"#fb9f3a\"],[0.8888888888888888,\"#fdca26\"],[1.0,\"#f0f921\"]]}],\"contourcarpet\":[{\"type\":\"contourcarpet\",\"colorbar\":{\"outlinewidth\":0,\"ticks\":\"\"}}],\"contour\":[{\"type\":\"contour\",\"colorbar\":{\"outlinewidth\":0,\"ticks\":\"\"},\"colorscale\":[[0.0,\"#0d0887\"],[0.1111111111111111,\"#46039f\"],[0.2222222222222222,\"#7201a8\"],[0.3333333333333333,\"#9c179e\"],[0.4444444444444444,\"#bd3786\"],[0.5555555555555556,\"#d8576b\"],[0.6666666666666666,\"#ed7953\"],[0.7777777777777778,\"#fb9f3a\"],[0.8888888888888888,\"#fdca26\"],[1.0,\"#f0f921\"]]}],\"surface\":[{\"type\":\"surface\",\"colorbar\":{\"outlinewidth\":0,\"ticks\":\"\"},\"colorscale\":[[0.0,\"#0d0887\"],[0.1111111111111111,\"#46039f\"],[0.2222222222222222,\"#7201a8\"],[0.3333333333333333,\"#9c179e\"],[0.4444444444444444,\"#bd3786\"],[0.5555555555555556,\"#d8576b\"],[0.6666666666666666,\"#ed7953\"],[0.7777777777777778,\"#fb9f3a\"],[0.8888888888888888,\"#fdca26\"],[1.0,\"#f0f921\"]]}],\"mesh3d\":[{\"type\":\"mesh3d\",\"colorbar\":{\"outlinewidth\":0,\"ticks\":\"\"}}],\"scatter\":[{\"fillpattern\":{\"fillmode\":\"overlay\",\"size\":10,\"solidity\":0.2},\"type\":\"scatter\"}],\"parcoords\":[{\"type\":\"parcoords\",\"line\":{\"colorbar\":{\"outlinewidth\":0,\"ticks\":\"\"}}}],\"scatterpolargl\":[{\"type\":\"scatterpolargl\",\"marker\":{\"colorbar\":{\"outlinewidth\":0,\"ticks\":\"\"}}}],\"bar\":[{\"error_x\":{\"color\":\"#2a3f5f\"},\"error_y\":{\"color\":\"#2a3f5f\"},\"marker\":{\"line\":{\"color\":\"#E5ECF6\",\"width\":0.5},\"pattern\":{\"fillmode\":\"overlay\",\"size\":10,\"solidity\":0.2}},\"type\":\"bar\"}],\"scattergeo\":[{\"type\":\"scattergeo\",\"marker\":{\"colorbar\":{\"outlinewidth\":0,\"ticks\":\"\"}}}],\"scatterpolar\":[{\"type\":\"scatterpolar\",\"marker\":{\"colorbar\":{\"outlinewidth\":0,\"ticks\":\"\"}}}],\"histogram\":[{\"marker\":{\"pattern\":{\"fillmode\":\"overlay\",\"size\":10,\"solidity\":0.2}},\"type\":\"histogram\"}],\"scattergl\":[{\"type\":\"scattergl\",\"marker\":{\"colorbar\":{\"outlinewidth\":0,\"ticks\":\"\"}}}],\"scatter3d\":[{\"type\":\"scatter3d\",\"line\":{\"colorbar\":{\"outlinewidth\":0,\"ticks\":\"\"}},\"marker\":{\"colorbar\":{\"outlinewidth\":0,\"ticks\":\"\"}}}],\"scattermapbox\":[{\"type\":\"scattermapbox\",\"marker\":{\"colorbar\":{\"outlinewidth\":0,\"ticks\":\"\"}}}],\"scatterternary\":[{\"type\":\"scatterternary\",\"marker\":{\"colorbar\":{\"outlinewidth\":0,\"ticks\":\"\"}}}],\"scattercarpet\":[{\"type\":\"scattercarpet\",\"marker\":{\"colorbar\":{\"outlinewidth\":0,\"ticks\":\"\"}}}],\"carpet\":[{\"aaxis\":{\"endlinecolor\":\"#2a3f5f\",\"gridcolor\":\"white\",\"linecolor\":\"white\",\"minorgridcolor\":\"white\",\"startlinecolor\":\"#2a3f5f\"},\"baxis\":{\"endlinecolor\":\"#2a3f5f\",\"gridcolor\":\"white\",\"linecolor\":\"white\",\"minorgridcolor\":\"white\",\"startlinecolor\":\"#2a3f5f\"},\"type\":\"carpet\"}],\"table\":[{\"cells\":{\"fill\":{\"color\":\"#EBF0F8\"},\"line\":{\"color\":\"white\"}},\"header\":{\"fill\":{\"color\":\"#C8D4E3\"},\"line\":{\"color\":\"white\"}},\"type\":\"table\"}],\"barpolar\":[{\"marker\":{\"line\":{\"color\":\"#E5ECF6\",\"width\":0.5},\"pattern\":{\"fillmode\":\"overlay\",\"size\":10,\"solidity\":0.2}},\"type\":\"barpolar\"}],\"pie\":[{\"automargin\":true,\"type\":\"pie\"}]},\"layout\":{\"autotypenumbers\":\"strict\",\"colorway\":[\"#636efa\",\"#EF553B\",\"#00cc96\",\"#ab63fa\",\"#FFA15A\",\"#19d3f3\",\"#FF6692\",\"#B6E880\",\"#FF97FF\",\"#FECB52\"],\"font\":{\"color\":\"#2a3f5f\"},\"hovermode\":\"closest\",\"hoverlabel\":{\"align\":\"left\"},\"paper_bgcolor\":\"white\",\"plot_bgcolor\":\"#E5ECF6\",\"polar\":{\"bgcolor\":\"#E5ECF6\",\"angularaxis\":{\"gridcolor\":\"white\",\"linecolor\":\"white\",\"ticks\":\"\"},\"radialaxis\":{\"gridcolor\":\"white\",\"linecolor\":\"white\",\"ticks\":\"\"}},\"ternary\":{\"bgcolor\":\"#E5ECF6\",\"aaxis\":{\"gridcolor\":\"white\",\"linecolor\":\"white\",\"ticks\":\"\"},\"baxis\":{\"gridcolor\":\"white\",\"linecolor\":\"white\",\"ticks\":\"\"},\"caxis\":{\"gridcolor\":\"white\",\"linecolor\":\"white\",\"ticks\":\"\"}},\"coloraxis\":{\"colorbar\":{\"outlinewidth\":0,\"ticks\":\"\"}},\"colorscale\":{\"sequential\":[[0.0,\"#0d0887\"],[0.1111111111111111,\"#46039f\"],[0.2222222222222222,\"#7201a8\"],[0.3333333333333333,\"#9c179e\"],[0.4444444444444444,\"#bd3786\"],[0.5555555555555556,\"#d8576b\"],[0.6666666666666666,\"#ed7953\"],[0.7777777777777778,\"#fb9f3a\"],[0.8888888888888888,\"#fdca26\"],[1.0,\"#f0f921\"]],\"sequentialminus\":[[0.0,\"#0d0887\"],[0.1111111111111111,\"#46039f\"],[0.2222222222222222,\"#7201a8\"],[0.3333333333333333,\"#9c179e\"],[0.4444444444444444,\"#bd3786\"],[0.5555555555555556,\"#d8576b\"],[0.6666666666666666,\"#ed7953\"],[0.7777777777777778,\"#fb9f3a\"],[0.8888888888888888,\"#fdca26\"],[1.0,\"#f0f921\"]],\"diverging\":[[0,\"#8e0152\"],[0.1,\"#c51b7d\"],[0.2,\"#de77ae\"],[0.3,\"#f1b6da\"],[0.4,\"#fde0ef\"],[0.5,\"#f7f7f7\"],[0.6,\"#e6f5d0\"],[0.7,\"#b8e186\"],[0.8,\"#7fbc41\"],[0.9,\"#4d9221\"],[1,\"#276419\"]]},\"xaxis\":{\"gridcolor\":\"white\",\"linecolor\":\"white\",\"ticks\":\"\",\"title\":{\"standoff\":15},\"zerolinecolor\":\"white\",\"automargin\":true,\"zerolinewidth\":2},\"yaxis\":{\"gridcolor\":\"white\",\"linecolor\":\"white\",\"ticks\":\"\",\"title\":{\"standoff\":15},\"zerolinecolor\":\"white\",\"automargin\":true,\"zerolinewidth\":2},\"scene\":{\"xaxis\":{\"backgroundcolor\":\"#E5ECF6\",\"gridcolor\":\"white\",\"linecolor\":\"white\",\"showbackground\":true,\"ticks\":\"\",\"zerolinecolor\":\"white\",\"gridwidth\":2},\"yaxis\":{\"backgroundcolor\":\"#E5ECF6\",\"gridcolor\":\"white\",\"linecolor\":\"white\",\"showbackground\":true,\"ticks\":\"\",\"zerolinecolor\":\"white\",\"gridwidth\":2},\"zaxis\":{\"backgroundcolor\":\"#E5ECF6\",\"gridcolor\":\"white\",\"linecolor\":\"white\",\"showbackground\":true,\"ticks\":\"\",\"zerolinecolor\":\"white\",\"gridwidth\":2}},\"shapedefaults\":{\"line\":{\"color\":\"#2a3f5f\"}},\"annotationdefaults\":{\"arrowcolor\":\"#2a3f5f\",\"arrowhead\":0,\"arrowwidth\":1},\"geo\":{\"bgcolor\":\"white\",\"landcolor\":\"#E5ECF6\",\"subunitcolor\":\"white\",\"showland\":true,\"showlakes\":true,\"lakecolor\":\"white\"},\"title\":{\"x\":0.05},\"mapbox\":{\"style\":\"light\"}}},\"xaxis\":{\"anchor\":\"y\",\"domain\":[0.0,0.45],\"title\":{\"text\":\"max_depth\"}},\"yaxis\":{\"anchor\":\"x\",\"domain\":[0.0,1.0],\"title\":{\"text\":\"Objective Value\"}},\"xaxis2\":{\"anchor\":\"y2\",\"domain\":[0.55,1.0],\"title\":{\"text\":\"n_estimators\"}},\"yaxis2\":{\"anchor\":\"x2\",\"domain\":[0.0,1.0],\"matches\":\"y\",\"showticklabels\":false},\"title\":{\"text\":\"Slice Plot\"}},                        {\"responsive\": true}                    ).then(function(){\n",
              "                            \n",
              "var gd = document.getElementById('adacd3d5-e0c5-4ad2-bcf5-3a998f93a497');\n",
              "var x = new MutationObserver(function (mutations, observer) {{\n",
              "        var display = window.getComputedStyle(gd).display;\n",
              "        if (!display || display === 'none') {{\n",
              "            console.log([gd, 'removed!']);\n",
              "            Plotly.purge(gd);\n",
              "            observer.disconnect();\n",
              "        }}\n",
              "}});\n",
              "\n",
              "// Listen for the removal of the full notebook cells\n",
              "var notebookContainer = gd.closest('#notebook-container');\n",
              "if (notebookContainer) {{\n",
              "    x.observe(notebookContainer, {childList: true});\n",
              "}}\n",
              "\n",
              "// Listen for the clearing of the current output cell\n",
              "var outputEl = gd.closest('.output');\n",
              "if (outputEl) {{\n",
              "    x.observe(outputEl, {childList: true});\n",
              "}}\n",
              "\n",
              "                        })                };                            </script>        </div>\n",
              "</body>\n",
              "</html>"
            ]
          },
          "metadata": {}
        }
      ]
    },
    {
      "cell_type": "code",
      "source": [
        "# 4. Contour Plot\n",
        "plot_contour(study).show()"
      ],
      "metadata": {
        "colab": {
          "base_uri": "https://localhost:8080/",
          "height": 542
        },
        "id": "9sqEKvle_b-i",
        "outputId": "d9aaddd3-67b0-47be-83bf-9613e564d794"
      },
      "execution_count": 30,
      "outputs": [
        {
          "output_type": "display_data",
          "data": {
            "text/html": [
              "<html>\n",
              "<head><meta charset=\"utf-8\" /></head>\n",
              "<body>\n",
              "    <div>            <script src=\"https://cdnjs.cloudflare.com/ajax/libs/mathjax/2.7.5/MathJax.js?config=TeX-AMS-MML_SVG\"></script><script type=\"text/javascript\">if (window.MathJax && window.MathJax.Hub && window.MathJax.Hub.Config) {window.MathJax.Hub.Config({SVG: {font: \"STIX-Web\"}});}</script>                <script type=\"text/javascript\">window.PlotlyConfig = {MathJaxConfig: 'local'};</script>\n",
              "        <script charset=\"utf-8\" src=\"https://cdn.plot.ly/plotly-2.35.2.min.js\"></script>                <div id=\"5f44f25f-3ad4-426f-816e-9ee251e5e51e\" class=\"plotly-graph-div\" style=\"height:525px; width:100%;\"></div>            <script type=\"text/javascript\">                                    window.PLOTLYENV=window.PLOTLYENV || {};                                    if (document.getElementById(\"5f44f25f-3ad4-426f-816e-9ee251e5e51e\")) {                    Plotly.newPlot(                        \"5f44f25f-3ad4-426f-816e-9ee251e5e51e\",                        [{\"colorbar\":{\"title\":{\"text\":\"Objective Value\"}},\"colorscale\":[[0.0,\"rgb(247,251,255)\"],[0.125,\"rgb(222,235,247)\"],[0.25,\"rgb(198,219,239)\"],[0.375,\"rgb(158,202,225)\"],[0.5,\"rgb(107,174,214)\"],[0.625,\"rgb(66,146,198)\"],[0.75,\"rgb(33,113,181)\"],[0.875,\"rgb(8,81,156)\"],[1.0,\"rgb(8,48,107)\"]],\"connectgaps\":true,\"contours\":{\"coloring\":\"heatmap\"},\"hoverinfo\":\"none\",\"line\":{\"smoothing\":1.3},\"reversescale\":false,\"x\":[4.25,5,10,15,20,20.75],\"y\":[42.5,50,100,150,200,207.5],\"z\":[[null,null,null,null,null,null],[null,0.7746741154562384,0.7579143389199254,0.7728119180633147,0.7709497206703911,null],[null,0.7690875232774674,0.7616387337057727,0.7653631284916201,0.7690875232774674,null],[null,0.7653631284916201,0.7672253258845437,0.7728119180633147,0.7728119180633147,null],[null,0.7690875232774674,0.7709497206703911,0.7728119180633147,0.7728119180633147,null],[null,null,null,null,null,null]],\"type\":\"contour\"},{\"marker\":{\"color\":\"black\",\"line\":{\"color\":\"Gray\",\"width\":2.0}},\"mode\":\"markers\",\"name\":\"Feasible Trial\",\"showlegend\":false,\"x\":[5,10,15,15,20,10,5,20,15,10,20,15,5,5,10,20],\"y\":[100,150,50,100,100,50,150,150,150,200,200,200,200,50,100,50],\"type\":\"scatter\"},{\"marker\":{\"color\":\"#cccccc\",\"line\":{\"color\":\"Gray\",\"width\":2.0}},\"mode\":\"markers\",\"name\":\"Infeasible Trial\",\"showlegend\":false,\"x\":[],\"y\":[],\"type\":\"scatter\"}],                        {\"title\":{\"text\":\"Contour Plot\"},\"template\":{\"data\":{\"histogram2dcontour\":[{\"type\":\"histogram2dcontour\",\"colorbar\":{\"outlinewidth\":0,\"ticks\":\"\"},\"colorscale\":[[0.0,\"#0d0887\"],[0.1111111111111111,\"#46039f\"],[0.2222222222222222,\"#7201a8\"],[0.3333333333333333,\"#9c179e\"],[0.4444444444444444,\"#bd3786\"],[0.5555555555555556,\"#d8576b\"],[0.6666666666666666,\"#ed7953\"],[0.7777777777777778,\"#fb9f3a\"],[0.8888888888888888,\"#fdca26\"],[1.0,\"#f0f921\"]]}],\"choropleth\":[{\"type\":\"choropleth\",\"colorbar\":{\"outlinewidth\":0,\"ticks\":\"\"}}],\"histogram2d\":[{\"type\":\"histogram2d\",\"colorbar\":{\"outlinewidth\":0,\"ticks\":\"\"},\"colorscale\":[[0.0,\"#0d0887\"],[0.1111111111111111,\"#46039f\"],[0.2222222222222222,\"#7201a8\"],[0.3333333333333333,\"#9c179e\"],[0.4444444444444444,\"#bd3786\"],[0.5555555555555556,\"#d8576b\"],[0.6666666666666666,\"#ed7953\"],[0.7777777777777778,\"#fb9f3a\"],[0.8888888888888888,\"#fdca26\"],[1.0,\"#f0f921\"]]}],\"heatmap\":[{\"type\":\"heatmap\",\"colorbar\":{\"outlinewidth\":0,\"ticks\":\"\"},\"colorscale\":[[0.0,\"#0d0887\"],[0.1111111111111111,\"#46039f\"],[0.2222222222222222,\"#7201a8\"],[0.3333333333333333,\"#9c179e\"],[0.4444444444444444,\"#bd3786\"],[0.5555555555555556,\"#d8576b\"],[0.6666666666666666,\"#ed7953\"],[0.7777777777777778,\"#fb9f3a\"],[0.8888888888888888,\"#fdca26\"],[1.0,\"#f0f921\"]]}],\"heatmapgl\":[{\"type\":\"heatmapgl\",\"colorbar\":{\"outlinewidth\":0,\"ticks\":\"\"},\"colorscale\":[[0.0,\"#0d0887\"],[0.1111111111111111,\"#46039f\"],[0.2222222222222222,\"#7201a8\"],[0.3333333333333333,\"#9c179e\"],[0.4444444444444444,\"#bd3786\"],[0.5555555555555556,\"#d8576b\"],[0.6666666666666666,\"#ed7953\"],[0.7777777777777778,\"#fb9f3a\"],[0.8888888888888888,\"#fdca26\"],[1.0,\"#f0f921\"]]}],\"contourcarpet\":[{\"type\":\"contourcarpet\",\"colorbar\":{\"outlinewidth\":0,\"ticks\":\"\"}}],\"contour\":[{\"type\":\"contour\",\"colorbar\":{\"outlinewidth\":0,\"ticks\":\"\"},\"colorscale\":[[0.0,\"#0d0887\"],[0.1111111111111111,\"#46039f\"],[0.2222222222222222,\"#7201a8\"],[0.3333333333333333,\"#9c179e\"],[0.4444444444444444,\"#bd3786\"],[0.5555555555555556,\"#d8576b\"],[0.6666666666666666,\"#ed7953\"],[0.7777777777777778,\"#fb9f3a\"],[0.8888888888888888,\"#fdca26\"],[1.0,\"#f0f921\"]]}],\"surface\":[{\"type\":\"surface\",\"colorbar\":{\"outlinewidth\":0,\"ticks\":\"\"},\"colorscale\":[[0.0,\"#0d0887\"],[0.1111111111111111,\"#46039f\"],[0.2222222222222222,\"#7201a8\"],[0.3333333333333333,\"#9c179e\"],[0.4444444444444444,\"#bd3786\"],[0.5555555555555556,\"#d8576b\"],[0.6666666666666666,\"#ed7953\"],[0.7777777777777778,\"#fb9f3a\"],[0.8888888888888888,\"#fdca26\"],[1.0,\"#f0f921\"]]}],\"mesh3d\":[{\"type\":\"mesh3d\",\"colorbar\":{\"outlinewidth\":0,\"ticks\":\"\"}}],\"scatter\":[{\"fillpattern\":{\"fillmode\":\"overlay\",\"size\":10,\"solidity\":0.2},\"type\":\"scatter\"}],\"parcoords\":[{\"type\":\"parcoords\",\"line\":{\"colorbar\":{\"outlinewidth\":0,\"ticks\":\"\"}}}],\"scatterpolargl\":[{\"type\":\"scatterpolargl\",\"marker\":{\"colorbar\":{\"outlinewidth\":0,\"ticks\":\"\"}}}],\"bar\":[{\"error_x\":{\"color\":\"#2a3f5f\"},\"error_y\":{\"color\":\"#2a3f5f\"},\"marker\":{\"line\":{\"color\":\"#E5ECF6\",\"width\":0.5},\"pattern\":{\"fillmode\":\"overlay\",\"size\":10,\"solidity\":0.2}},\"type\":\"bar\"}],\"scattergeo\":[{\"type\":\"scattergeo\",\"marker\":{\"colorbar\":{\"outlinewidth\":0,\"ticks\":\"\"}}}],\"scatterpolar\":[{\"type\":\"scatterpolar\",\"marker\":{\"colorbar\":{\"outlinewidth\":0,\"ticks\":\"\"}}}],\"histogram\":[{\"marker\":{\"pattern\":{\"fillmode\":\"overlay\",\"size\":10,\"solidity\":0.2}},\"type\":\"histogram\"}],\"scattergl\":[{\"type\":\"scattergl\",\"marker\":{\"colorbar\":{\"outlinewidth\":0,\"ticks\":\"\"}}}],\"scatter3d\":[{\"type\":\"scatter3d\",\"line\":{\"colorbar\":{\"outlinewidth\":0,\"ticks\":\"\"}},\"marker\":{\"colorbar\":{\"outlinewidth\":0,\"ticks\":\"\"}}}],\"scattermapbox\":[{\"type\":\"scattermapbox\",\"marker\":{\"colorbar\":{\"outlinewidth\":0,\"ticks\":\"\"}}}],\"scatterternary\":[{\"type\":\"scatterternary\",\"marker\":{\"colorbar\":{\"outlinewidth\":0,\"ticks\":\"\"}}}],\"scattercarpet\":[{\"type\":\"scattercarpet\",\"marker\":{\"colorbar\":{\"outlinewidth\":0,\"ticks\":\"\"}}}],\"carpet\":[{\"aaxis\":{\"endlinecolor\":\"#2a3f5f\",\"gridcolor\":\"white\",\"linecolor\":\"white\",\"minorgridcolor\":\"white\",\"startlinecolor\":\"#2a3f5f\"},\"baxis\":{\"endlinecolor\":\"#2a3f5f\",\"gridcolor\":\"white\",\"linecolor\":\"white\",\"minorgridcolor\":\"white\",\"startlinecolor\":\"#2a3f5f\"},\"type\":\"carpet\"}],\"table\":[{\"cells\":{\"fill\":{\"color\":\"#EBF0F8\"},\"line\":{\"color\":\"white\"}},\"header\":{\"fill\":{\"color\":\"#C8D4E3\"},\"line\":{\"color\":\"white\"}},\"type\":\"table\"}],\"barpolar\":[{\"marker\":{\"line\":{\"color\":\"#E5ECF6\",\"width\":0.5},\"pattern\":{\"fillmode\":\"overlay\",\"size\":10,\"solidity\":0.2}},\"type\":\"barpolar\"}],\"pie\":[{\"automargin\":true,\"type\":\"pie\"}]},\"layout\":{\"autotypenumbers\":\"strict\",\"colorway\":[\"#636efa\",\"#EF553B\",\"#00cc96\",\"#ab63fa\",\"#FFA15A\",\"#19d3f3\",\"#FF6692\",\"#B6E880\",\"#FF97FF\",\"#FECB52\"],\"font\":{\"color\":\"#2a3f5f\"},\"hovermode\":\"closest\",\"hoverlabel\":{\"align\":\"left\"},\"paper_bgcolor\":\"white\",\"plot_bgcolor\":\"#E5ECF6\",\"polar\":{\"bgcolor\":\"#E5ECF6\",\"angularaxis\":{\"gridcolor\":\"white\",\"linecolor\":\"white\",\"ticks\":\"\"},\"radialaxis\":{\"gridcolor\":\"white\",\"linecolor\":\"white\",\"ticks\":\"\"}},\"ternary\":{\"bgcolor\":\"#E5ECF6\",\"aaxis\":{\"gridcolor\":\"white\",\"linecolor\":\"white\",\"ticks\":\"\"},\"baxis\":{\"gridcolor\":\"white\",\"linecolor\":\"white\",\"ticks\":\"\"},\"caxis\":{\"gridcolor\":\"white\",\"linecolor\":\"white\",\"ticks\":\"\"}},\"coloraxis\":{\"colorbar\":{\"outlinewidth\":0,\"ticks\":\"\"}},\"colorscale\":{\"sequential\":[[0.0,\"#0d0887\"],[0.1111111111111111,\"#46039f\"],[0.2222222222222222,\"#7201a8\"],[0.3333333333333333,\"#9c179e\"],[0.4444444444444444,\"#bd3786\"],[0.5555555555555556,\"#d8576b\"],[0.6666666666666666,\"#ed7953\"],[0.7777777777777778,\"#fb9f3a\"],[0.8888888888888888,\"#fdca26\"],[1.0,\"#f0f921\"]],\"sequentialminus\":[[0.0,\"#0d0887\"],[0.1111111111111111,\"#46039f\"],[0.2222222222222222,\"#7201a8\"],[0.3333333333333333,\"#9c179e\"],[0.4444444444444444,\"#bd3786\"],[0.5555555555555556,\"#d8576b\"],[0.6666666666666666,\"#ed7953\"],[0.7777777777777778,\"#fb9f3a\"],[0.8888888888888888,\"#fdca26\"],[1.0,\"#f0f921\"]],\"diverging\":[[0,\"#8e0152\"],[0.1,\"#c51b7d\"],[0.2,\"#de77ae\"],[0.3,\"#f1b6da\"],[0.4,\"#fde0ef\"],[0.5,\"#f7f7f7\"],[0.6,\"#e6f5d0\"],[0.7,\"#b8e186\"],[0.8,\"#7fbc41\"],[0.9,\"#4d9221\"],[1,\"#276419\"]]},\"xaxis\":{\"gridcolor\":\"white\",\"linecolor\":\"white\",\"ticks\":\"\",\"title\":{\"standoff\":15},\"zerolinecolor\":\"white\",\"automargin\":true,\"zerolinewidth\":2},\"yaxis\":{\"gridcolor\":\"white\",\"linecolor\":\"white\",\"ticks\":\"\",\"title\":{\"standoff\":15},\"zerolinecolor\":\"white\",\"automargin\":true,\"zerolinewidth\":2},\"scene\":{\"xaxis\":{\"backgroundcolor\":\"#E5ECF6\",\"gridcolor\":\"white\",\"linecolor\":\"white\",\"showbackground\":true,\"ticks\":\"\",\"zerolinecolor\":\"white\",\"gridwidth\":2},\"yaxis\":{\"backgroundcolor\":\"#E5ECF6\",\"gridcolor\":\"white\",\"linecolor\":\"white\",\"showbackground\":true,\"ticks\":\"\",\"zerolinecolor\":\"white\",\"gridwidth\":2},\"zaxis\":{\"backgroundcolor\":\"#E5ECF6\",\"gridcolor\":\"white\",\"linecolor\":\"white\",\"showbackground\":true,\"ticks\":\"\",\"zerolinecolor\":\"white\",\"gridwidth\":2}},\"shapedefaults\":{\"line\":{\"color\":\"#2a3f5f\"}},\"annotationdefaults\":{\"arrowcolor\":\"#2a3f5f\",\"arrowhead\":0,\"arrowwidth\":1},\"geo\":{\"bgcolor\":\"white\",\"landcolor\":\"#E5ECF6\",\"subunitcolor\":\"white\",\"showland\":true,\"showlakes\":true,\"lakecolor\":\"white\"},\"title\":{\"x\":0.05},\"mapbox\":{\"style\":\"light\"}}},\"xaxis\":{\"title\":{\"text\":\"max_depth\"},\"range\":[4.25,20.75]},\"yaxis\":{\"title\":{\"text\":\"n_estimators\"},\"range\":[42.5,207.5]}},                        {\"responsive\": true}                    ).then(function(){\n",
              "                            \n",
              "var gd = document.getElementById('5f44f25f-3ad4-426f-816e-9ee251e5e51e');\n",
              "var x = new MutationObserver(function (mutations, observer) {{\n",
              "        var display = window.getComputedStyle(gd).display;\n",
              "        if (!display || display === 'none') {{\n",
              "            console.log([gd, 'removed!']);\n",
              "            Plotly.purge(gd);\n",
              "            observer.disconnect();\n",
              "        }}\n",
              "}});\n",
              "\n",
              "// Listen for the removal of the full notebook cells\n",
              "var notebookContainer = gd.closest('#notebook-container');\n",
              "if (notebookContainer) {{\n",
              "    x.observe(notebookContainer, {childList: true});\n",
              "}}\n",
              "\n",
              "// Listen for the clearing of the current output cell\n",
              "var outputEl = gd.closest('.output');\n",
              "if (outputEl) {{\n",
              "    x.observe(outputEl, {childList: true});\n",
              "}}\n",
              "\n",
              "                        })                };                            </script>        </div>\n",
              "</body>\n",
              "</html>"
            ]
          },
          "metadata": {}
        }
      ]
    },
    {
      "cell_type": "code",
      "source": [
        "# 5. Hyperparameter Importance\n",
        "plot_param_importances(study).show()"
      ],
      "metadata": {
        "colab": {
          "base_uri": "https://localhost:8080/",
          "height": 542
        },
        "id": "yc4jIJb3_eg6",
        "outputId": "6976c747-c676-4651-ad15-657d0ccaa3bf"
      },
      "execution_count": 31,
      "outputs": [
        {
          "output_type": "display_data",
          "data": {
            "text/html": [
              "<html>\n",
              "<head><meta charset=\"utf-8\" /></head>\n",
              "<body>\n",
              "    <div>            <script src=\"https://cdnjs.cloudflare.com/ajax/libs/mathjax/2.7.5/MathJax.js?config=TeX-AMS-MML_SVG\"></script><script type=\"text/javascript\">if (window.MathJax && window.MathJax.Hub && window.MathJax.Hub.Config) {window.MathJax.Hub.Config({SVG: {font: \"STIX-Web\"}});}</script>                <script type=\"text/javascript\">window.PlotlyConfig = {MathJaxConfig: 'local'};</script>\n",
              "        <script charset=\"utf-8\" src=\"https://cdn.plot.ly/plotly-2.35.2.min.js\"></script>                <div id=\"5bd191a7-eb71-4866-9842-a25a68f2e787\" class=\"plotly-graph-div\" style=\"height:525px; width:100%;\"></div>            <script type=\"text/javascript\">                                    window.PLOTLYENV=window.PLOTLYENV || {};                                    if (document.getElementById(\"5bd191a7-eb71-4866-9842-a25a68f2e787\")) {                    Plotly.newPlot(                        \"5bd191a7-eb71-4866-9842-a25a68f2e787\",                        [{\"cliponaxis\":false,\"hovertemplate\":[\"n_estimators (IntDistribution): 0.46324665774352525\\u003cextra\\u003e\\u003c\\u002fextra\\u003e\",\"max_depth (IntDistribution): 0.5367533422564748\\u003cextra\\u003e\\u003c\\u002fextra\\u003e\"],\"name\":\"Objective Value\",\"orientation\":\"h\",\"text\":[\"0.46\",\"0.54\"],\"textposition\":\"outside\",\"x\":[0.46324665774352525,0.5367533422564748],\"y\":[\"n_estimators\",\"max_depth\"],\"type\":\"bar\"}],                        {\"title\":{\"text\":\"Hyperparameter Importances\"},\"xaxis\":{\"title\":{\"text\":\"Hyperparameter Importance\"}},\"yaxis\":{\"title\":{\"text\":\"Hyperparameter\"}},\"template\":{\"data\":{\"histogram2dcontour\":[{\"type\":\"histogram2dcontour\",\"colorbar\":{\"outlinewidth\":0,\"ticks\":\"\"},\"colorscale\":[[0.0,\"#0d0887\"],[0.1111111111111111,\"#46039f\"],[0.2222222222222222,\"#7201a8\"],[0.3333333333333333,\"#9c179e\"],[0.4444444444444444,\"#bd3786\"],[0.5555555555555556,\"#d8576b\"],[0.6666666666666666,\"#ed7953\"],[0.7777777777777778,\"#fb9f3a\"],[0.8888888888888888,\"#fdca26\"],[1.0,\"#f0f921\"]]}],\"choropleth\":[{\"type\":\"choropleth\",\"colorbar\":{\"outlinewidth\":0,\"ticks\":\"\"}}],\"histogram2d\":[{\"type\":\"histogram2d\",\"colorbar\":{\"outlinewidth\":0,\"ticks\":\"\"},\"colorscale\":[[0.0,\"#0d0887\"],[0.1111111111111111,\"#46039f\"],[0.2222222222222222,\"#7201a8\"],[0.3333333333333333,\"#9c179e\"],[0.4444444444444444,\"#bd3786\"],[0.5555555555555556,\"#d8576b\"],[0.6666666666666666,\"#ed7953\"],[0.7777777777777778,\"#fb9f3a\"],[0.8888888888888888,\"#fdca26\"],[1.0,\"#f0f921\"]]}],\"heatmap\":[{\"type\":\"heatmap\",\"colorbar\":{\"outlinewidth\":0,\"ticks\":\"\"},\"colorscale\":[[0.0,\"#0d0887\"],[0.1111111111111111,\"#46039f\"],[0.2222222222222222,\"#7201a8\"],[0.3333333333333333,\"#9c179e\"],[0.4444444444444444,\"#bd3786\"],[0.5555555555555556,\"#d8576b\"],[0.6666666666666666,\"#ed7953\"],[0.7777777777777778,\"#fb9f3a\"],[0.8888888888888888,\"#fdca26\"],[1.0,\"#f0f921\"]]}],\"heatmapgl\":[{\"type\":\"heatmapgl\",\"colorbar\":{\"outlinewidth\":0,\"ticks\":\"\"},\"colorscale\":[[0.0,\"#0d0887\"],[0.1111111111111111,\"#46039f\"],[0.2222222222222222,\"#7201a8\"],[0.3333333333333333,\"#9c179e\"],[0.4444444444444444,\"#bd3786\"],[0.5555555555555556,\"#d8576b\"],[0.6666666666666666,\"#ed7953\"],[0.7777777777777778,\"#fb9f3a\"],[0.8888888888888888,\"#fdca26\"],[1.0,\"#f0f921\"]]}],\"contourcarpet\":[{\"type\":\"contourcarpet\",\"colorbar\":{\"outlinewidth\":0,\"ticks\":\"\"}}],\"contour\":[{\"type\":\"contour\",\"colorbar\":{\"outlinewidth\":0,\"ticks\":\"\"},\"colorscale\":[[0.0,\"#0d0887\"],[0.1111111111111111,\"#46039f\"],[0.2222222222222222,\"#7201a8\"],[0.3333333333333333,\"#9c179e\"],[0.4444444444444444,\"#bd3786\"],[0.5555555555555556,\"#d8576b\"],[0.6666666666666666,\"#ed7953\"],[0.7777777777777778,\"#fb9f3a\"],[0.8888888888888888,\"#fdca26\"],[1.0,\"#f0f921\"]]}],\"surface\":[{\"type\":\"surface\",\"colorbar\":{\"outlinewidth\":0,\"ticks\":\"\"},\"colorscale\":[[0.0,\"#0d0887\"],[0.1111111111111111,\"#46039f\"],[0.2222222222222222,\"#7201a8\"],[0.3333333333333333,\"#9c179e\"],[0.4444444444444444,\"#bd3786\"],[0.5555555555555556,\"#d8576b\"],[0.6666666666666666,\"#ed7953\"],[0.7777777777777778,\"#fb9f3a\"],[0.8888888888888888,\"#fdca26\"],[1.0,\"#f0f921\"]]}],\"mesh3d\":[{\"type\":\"mesh3d\",\"colorbar\":{\"outlinewidth\":0,\"ticks\":\"\"}}],\"scatter\":[{\"fillpattern\":{\"fillmode\":\"overlay\",\"size\":10,\"solidity\":0.2},\"type\":\"scatter\"}],\"parcoords\":[{\"type\":\"parcoords\",\"line\":{\"colorbar\":{\"outlinewidth\":0,\"ticks\":\"\"}}}],\"scatterpolargl\":[{\"type\":\"scatterpolargl\",\"marker\":{\"colorbar\":{\"outlinewidth\":0,\"ticks\":\"\"}}}],\"bar\":[{\"error_x\":{\"color\":\"#2a3f5f\"},\"error_y\":{\"color\":\"#2a3f5f\"},\"marker\":{\"line\":{\"color\":\"#E5ECF6\",\"width\":0.5},\"pattern\":{\"fillmode\":\"overlay\",\"size\":10,\"solidity\":0.2}},\"type\":\"bar\"}],\"scattergeo\":[{\"type\":\"scattergeo\",\"marker\":{\"colorbar\":{\"outlinewidth\":0,\"ticks\":\"\"}}}],\"scatterpolar\":[{\"type\":\"scatterpolar\",\"marker\":{\"colorbar\":{\"outlinewidth\":0,\"ticks\":\"\"}}}],\"histogram\":[{\"marker\":{\"pattern\":{\"fillmode\":\"overlay\",\"size\":10,\"solidity\":0.2}},\"type\":\"histogram\"}],\"scattergl\":[{\"type\":\"scattergl\",\"marker\":{\"colorbar\":{\"outlinewidth\":0,\"ticks\":\"\"}}}],\"scatter3d\":[{\"type\":\"scatter3d\",\"line\":{\"colorbar\":{\"outlinewidth\":0,\"ticks\":\"\"}},\"marker\":{\"colorbar\":{\"outlinewidth\":0,\"ticks\":\"\"}}}],\"scattermapbox\":[{\"type\":\"scattermapbox\",\"marker\":{\"colorbar\":{\"outlinewidth\":0,\"ticks\":\"\"}}}],\"scatterternary\":[{\"type\":\"scatterternary\",\"marker\":{\"colorbar\":{\"outlinewidth\":0,\"ticks\":\"\"}}}],\"scattercarpet\":[{\"type\":\"scattercarpet\",\"marker\":{\"colorbar\":{\"outlinewidth\":0,\"ticks\":\"\"}}}],\"carpet\":[{\"aaxis\":{\"endlinecolor\":\"#2a3f5f\",\"gridcolor\":\"white\",\"linecolor\":\"white\",\"minorgridcolor\":\"white\",\"startlinecolor\":\"#2a3f5f\"},\"baxis\":{\"endlinecolor\":\"#2a3f5f\",\"gridcolor\":\"white\",\"linecolor\":\"white\",\"minorgridcolor\":\"white\",\"startlinecolor\":\"#2a3f5f\"},\"type\":\"carpet\"}],\"table\":[{\"cells\":{\"fill\":{\"color\":\"#EBF0F8\"},\"line\":{\"color\":\"white\"}},\"header\":{\"fill\":{\"color\":\"#C8D4E3\"},\"line\":{\"color\":\"white\"}},\"type\":\"table\"}],\"barpolar\":[{\"marker\":{\"line\":{\"color\":\"#E5ECF6\",\"width\":0.5},\"pattern\":{\"fillmode\":\"overlay\",\"size\":10,\"solidity\":0.2}},\"type\":\"barpolar\"}],\"pie\":[{\"automargin\":true,\"type\":\"pie\"}]},\"layout\":{\"autotypenumbers\":\"strict\",\"colorway\":[\"#636efa\",\"#EF553B\",\"#00cc96\",\"#ab63fa\",\"#FFA15A\",\"#19d3f3\",\"#FF6692\",\"#B6E880\",\"#FF97FF\",\"#FECB52\"],\"font\":{\"color\":\"#2a3f5f\"},\"hovermode\":\"closest\",\"hoverlabel\":{\"align\":\"left\"},\"paper_bgcolor\":\"white\",\"plot_bgcolor\":\"#E5ECF6\",\"polar\":{\"bgcolor\":\"#E5ECF6\",\"angularaxis\":{\"gridcolor\":\"white\",\"linecolor\":\"white\",\"ticks\":\"\"},\"radialaxis\":{\"gridcolor\":\"white\",\"linecolor\":\"white\",\"ticks\":\"\"}},\"ternary\":{\"bgcolor\":\"#E5ECF6\",\"aaxis\":{\"gridcolor\":\"white\",\"linecolor\":\"white\",\"ticks\":\"\"},\"baxis\":{\"gridcolor\":\"white\",\"linecolor\":\"white\",\"ticks\":\"\"},\"caxis\":{\"gridcolor\":\"white\",\"linecolor\":\"white\",\"ticks\":\"\"}},\"coloraxis\":{\"colorbar\":{\"outlinewidth\":0,\"ticks\":\"\"}},\"colorscale\":{\"sequential\":[[0.0,\"#0d0887\"],[0.1111111111111111,\"#46039f\"],[0.2222222222222222,\"#7201a8\"],[0.3333333333333333,\"#9c179e\"],[0.4444444444444444,\"#bd3786\"],[0.5555555555555556,\"#d8576b\"],[0.6666666666666666,\"#ed7953\"],[0.7777777777777778,\"#fb9f3a\"],[0.8888888888888888,\"#fdca26\"],[1.0,\"#f0f921\"]],\"sequentialminus\":[[0.0,\"#0d0887\"],[0.1111111111111111,\"#46039f\"],[0.2222222222222222,\"#7201a8\"],[0.3333333333333333,\"#9c179e\"],[0.4444444444444444,\"#bd3786\"],[0.5555555555555556,\"#d8576b\"],[0.6666666666666666,\"#ed7953\"],[0.7777777777777778,\"#fb9f3a\"],[0.8888888888888888,\"#fdca26\"],[1.0,\"#f0f921\"]],\"diverging\":[[0,\"#8e0152\"],[0.1,\"#c51b7d\"],[0.2,\"#de77ae\"],[0.3,\"#f1b6da\"],[0.4,\"#fde0ef\"],[0.5,\"#f7f7f7\"],[0.6,\"#e6f5d0\"],[0.7,\"#b8e186\"],[0.8,\"#7fbc41\"],[0.9,\"#4d9221\"],[1,\"#276419\"]]},\"xaxis\":{\"gridcolor\":\"white\",\"linecolor\":\"white\",\"ticks\":\"\",\"title\":{\"standoff\":15},\"zerolinecolor\":\"white\",\"automargin\":true,\"zerolinewidth\":2},\"yaxis\":{\"gridcolor\":\"white\",\"linecolor\":\"white\",\"ticks\":\"\",\"title\":{\"standoff\":15},\"zerolinecolor\":\"white\",\"automargin\":true,\"zerolinewidth\":2},\"scene\":{\"xaxis\":{\"backgroundcolor\":\"#E5ECF6\",\"gridcolor\":\"white\",\"linecolor\":\"white\",\"showbackground\":true,\"ticks\":\"\",\"zerolinecolor\":\"white\",\"gridwidth\":2},\"yaxis\":{\"backgroundcolor\":\"#E5ECF6\",\"gridcolor\":\"white\",\"linecolor\":\"white\",\"showbackground\":true,\"ticks\":\"\",\"zerolinecolor\":\"white\",\"gridwidth\":2},\"zaxis\":{\"backgroundcolor\":\"#E5ECF6\",\"gridcolor\":\"white\",\"linecolor\":\"white\",\"showbackground\":true,\"ticks\":\"\",\"zerolinecolor\":\"white\",\"gridwidth\":2}},\"shapedefaults\":{\"line\":{\"color\":\"#2a3f5f\"}},\"annotationdefaults\":{\"arrowcolor\":\"#2a3f5f\",\"arrowhead\":0,\"arrowwidth\":1},\"geo\":{\"bgcolor\":\"white\",\"landcolor\":\"#E5ECF6\",\"subunitcolor\":\"white\",\"showland\":true,\"showlakes\":true,\"lakecolor\":\"white\"},\"title\":{\"x\":0.05},\"mapbox\":{\"style\":\"light\"}}}},                        {\"responsive\": true}                    ).then(function(){\n",
              "                            \n",
              "var gd = document.getElementById('5bd191a7-eb71-4866-9842-a25a68f2e787');\n",
              "var x = new MutationObserver(function (mutations, observer) {{\n",
              "        var display = window.getComputedStyle(gd).display;\n",
              "        if (!display || display === 'none') {{\n",
              "            console.log([gd, 'removed!']);\n",
              "            Plotly.purge(gd);\n",
              "            observer.disconnect();\n",
              "        }}\n",
              "}});\n",
              "\n",
              "// Listen for the removal of the full notebook cells\n",
              "var notebookContainer = gd.closest('#notebook-container');\n",
              "if (notebookContainer) {{\n",
              "    x.observe(notebookContainer, {childList: true});\n",
              "}}\n",
              "\n",
              "// Listen for the clearing of the current output cell\n",
              "var outputEl = gd.closest('.output');\n",
              "if (outputEl) {{\n",
              "    x.observe(outputEl, {childList: true});\n",
              "}}\n",
              "\n",
              "                        })                };                            </script>        </div>\n",
              "</body>\n",
              "</html>"
            ]
          },
          "metadata": {}
        }
      ]
    },
    {
      "cell_type": "code",
      "source": [
        "## Optimizing Multiple ML Models"
      ],
      "metadata": {
        "id": "Kn7PNGmq_igj"
      },
      "execution_count": 33,
      "outputs": []
    },
    {
      "cell_type": "code",
      "source": [
        "# Importing the required libraries\n",
        "from sklearn.ensemble import RandomForestClassifier, GradientBoostingClassifier\n",
        "from sklearn.svm import SVC"
      ],
      "metadata": {
        "id": "eATaRidRAaGR"
      },
      "execution_count": 34,
      "outputs": []
    },
    {
      "cell_type": "code",
      "source": [
        "# Define the objective function for Optuna\n",
        "def objective(trial):\n",
        "    # Choose the algorithm to tune\n",
        "    classifier_name = trial.suggest_categorical('classifier', ['SVM', 'RandomForest', 'GradientBoosting'])\n",
        "\n",
        "    if classifier_name == 'SVM':\n",
        "        # SVM hyperparameters\n",
        "        c = trial.suggest_float('C', 0.1, 100, log=True)\n",
        "        kernel = trial.suggest_categorical('kernel', ['linear', 'rbf', 'poly', 'sigmoid'])\n",
        "        gamma = trial.suggest_categorical('gamma', ['scale', 'auto'])\n",
        "\n",
        "        model = SVC(C=c, kernel=kernel, gamma=gamma, random_state=42)\n",
        "\n",
        "    elif classifier_name == 'RandomForest':\n",
        "        # Random Forest hyperparameters\n",
        "        n_estimators = trial.suggest_int('n_estimators', 50, 300)\n",
        "        max_depth = trial.suggest_int('max_depth', 3, 20)\n",
        "        min_samples_split = trial.suggest_int('min_samples_split', 2, 10)\n",
        "        min_samples_leaf = trial.suggest_int('min_samples_leaf', 1, 10)\n",
        "        bootstrap = trial.suggest_categorical('bootstrap', [True, False])\n",
        "\n",
        "        model = RandomForestClassifier(\n",
        "            n_estimators=n_estimators,\n",
        "            max_depth=max_depth,\n",
        "            min_samples_split=min_samples_split,\n",
        "            min_samples_leaf=min_samples_leaf,\n",
        "            bootstrap=bootstrap,\n",
        "            random_state=42\n",
        "        )\n",
        "\n",
        "    elif classifier_name == 'GradientBoosting':\n",
        "        # Gradient Boosting hyperparameters\n",
        "        n_estimators = trial.suggest_int('n_estimators', 50, 300)\n",
        "        learning_rate = trial.suggest_float('learning_rate', 0.01, 0.3, log=True)\n",
        "        max_depth = trial.suggest_int('max_depth', 3, 20)\n",
        "        min_samples_split = trial.suggest_int('min_samples_split', 2, 10)\n",
        "        min_samples_leaf = trial.suggest_int('min_samples_leaf', 1, 10)\n",
        "\n",
        "        model = GradientBoostingClassifier(\n",
        "            n_estimators=n_estimators,\n",
        "            learning_rate=learning_rate,\n",
        "            max_depth=max_depth,\n",
        "            min_samples_split=min_samples_split,\n",
        "            min_samples_leaf=min_samples_leaf,\n",
        "            random_state=42\n",
        "        )\n",
        "\n",
        "    # Perform cross-validation and return the mean accuracy\n",
        "    score = cross_val_score(model, X_train, y_train, cv=3, scoring='accuracy').mean()\n",
        "    return score"
      ],
      "metadata": {
        "id": "988MqN5IAd2a"
      },
      "execution_count": 35,
      "outputs": []
    },
    {
      "cell_type": "code",
      "source": [
        "# Create a study and optimize it using CmaEsSampler\n",
        "study = optuna.create_study(direction='maximize')\n",
        "study.optimize(objective, n_trials=100)"
      ],
      "metadata": {
        "colab": {
          "base_uri": "https://localhost:8080/"
        },
        "id": "W-L27MkUAgbD",
        "outputId": "faa3bd96-a004-4685-cf94-c9fcb49fd029"
      },
      "execution_count": 36,
      "outputs": [
        {
          "output_type": "stream",
          "name": "stderr",
          "text": [
            "[I 2025-10-02 13:00:33,060] A new study created in memory with name: no-name-752029cf-396b-4258-9a4e-f84b066bd1e8\n",
            "[I 2025-10-02 13:00:33,106] Trial 0 finished with value: 0.7765363128491619 and parameters: {'classifier': 'SVM', 'C': 0.19736177427216967, 'kernel': 'sigmoid', 'gamma': 'auto'}. Best is trial 0 with value: 0.7765363128491619.\n",
            "[I 2025-10-02 13:00:35,709] Trial 1 finished with value: 0.7560521415270017 and parameters: {'classifier': 'RandomForest', 'n_estimators': 294, 'max_depth': 8, 'min_samples_split': 9, 'min_samples_leaf': 9, 'bootstrap': True}. Best is trial 0 with value: 0.7765363128491619.\n",
            "[I 2025-10-02 13:00:35,744] Trial 2 finished with value: 0.7839851024208566 and parameters: {'classifier': 'SVM', 'C': 1.214179847879685, 'kernel': 'linear', 'gamma': 'auto'}. Best is trial 2 with value: 0.7839851024208566.\n",
            "[I 2025-10-02 13:00:36,275] Trial 3 finished with value: 0.7672253258845437 and parameters: {'classifier': 'RandomForest', 'n_estimators': 92, 'max_depth': 5, 'min_samples_split': 8, 'min_samples_leaf': 10, 'bootstrap': True}. Best is trial 2 with value: 0.7839851024208566.\n",
            "[I 2025-10-02 13:00:42,453] Trial 4 finished with value: 0.7299813780260708 and parameters: {'classifier': 'GradientBoosting', 'n_estimators': 266, 'learning_rate': 0.016588860132776388, 'max_depth': 10, 'min_samples_split': 3, 'min_samples_leaf': 3}. Best is trial 2 with value: 0.7839851024208566.\n",
            "[I 2025-10-02 13:00:42,506] Trial 5 finished with value: 0.7113594040968342 and parameters: {'classifier': 'SVM', 'C': 91.81589641411888, 'kernel': 'rbf', 'gamma': 'scale'}. Best is trial 2 with value: 0.7839851024208566.\n",
            "[I 2025-10-02 13:00:43,413] Trial 6 finished with value: 0.7560521415270017 and parameters: {'classifier': 'RandomForest', 'n_estimators': 163, 'max_depth': 16, 'min_samples_split': 9, 'min_samples_leaf': 1, 'bootstrap': False}. Best is trial 2 with value: 0.7839851024208566.\n",
            "[I 2025-10-02 13:00:44,660] Trial 7 finished with value: 0.7579143389199254 and parameters: {'classifier': 'RandomForest', 'n_estimators': 220, 'max_depth': 18, 'min_samples_split': 2, 'min_samples_leaf': 10, 'bootstrap': True}. Best is trial 2 with value: 0.7839851024208566.\n",
            "[I 2025-10-02 13:00:45,669] Trial 8 finished with value: 0.7597765363128491 and parameters: {'classifier': 'RandomForest', 'n_estimators': 174, 'max_depth': 20, 'min_samples_split': 8, 'min_samples_leaf': 9, 'bootstrap': True}. Best is trial 2 with value: 0.7839851024208566.\n",
            "[I 2025-10-02 13:00:45,995] Trial 9 finished with value: 0.7653631284916201 and parameters: {'classifier': 'RandomForest', 'n_estimators': 51, 'max_depth': 4, 'min_samples_split': 3, 'min_samples_leaf': 6, 'bootstrap': True}. Best is trial 2 with value: 0.7839851024208566.\n",
            "[I 2025-10-02 13:00:46,038] Trial 10 finished with value: 0.7839851024208566 and parameters: {'classifier': 'SVM', 'C': 1.396744466557527, 'kernel': 'linear', 'gamma': 'auto'}. Best is trial 2 with value: 0.7839851024208566.\n",
            "[I 2025-10-02 13:00:46,077] Trial 11 finished with value: 0.7839851024208566 and parameters: {'classifier': 'SVM', 'C': 1.3553927871010574, 'kernel': 'linear', 'gamma': 'auto'}. Best is trial 2 with value: 0.7839851024208566.\n",
            "[I 2025-10-02 13:00:46,119] Trial 12 finished with value: 0.7858472998137801 and parameters: {'classifier': 'SVM', 'C': 1.8701205107858858, 'kernel': 'linear', 'gamma': 'auto'}. Best is trial 12 with value: 0.7858472998137801.\n",
            "[I 2025-10-02 13:00:46,183] Trial 13 finished with value: 0.7858472998137801 and parameters: {'classifier': 'SVM', 'C': 6.888326865007471, 'kernel': 'linear', 'gamma': 'auto'}. Best is trial 12 with value: 0.7858472998137801.\n",
            "[I 2025-10-02 13:00:47,995] Trial 14 finished with value: 0.7299813780260708 and parameters: {'classifier': 'GradientBoosting', 'n_estimators': 115, 'learning_rate': 0.29104188955379307, 'max_depth': 13, 'min_samples_split': 5, 'min_samples_leaf': 6}. Best is trial 12 with value: 0.7858472998137801.\n",
            "[I 2025-10-02 13:00:48,044] Trial 15 finished with value: 0.7113594040968342 and parameters: {'classifier': 'SVM', 'C': 15.029732958872694, 'kernel': 'poly', 'gamma': 'auto'}. Best is trial 12 with value: 0.7858472998137801.\n",
            "[I 2025-10-02 13:00:48,115] Trial 16 finished with value: 0.7858472998137801 and parameters: {'classifier': 'SVM', 'C': 9.98638263974793, 'kernel': 'linear', 'gamma': 'scale'}. Best is trial 12 with value: 0.7858472998137801.\n",
            "[I 2025-10-02 13:00:52,881] Trial 17 finished with value: 0.7486033519553073 and parameters: {'classifier': 'GradientBoosting', 'n_estimators': 232, 'learning_rate': 0.1415157760612914, 'max_depth': 14, 'min_samples_split': 6, 'min_samples_leaf': 3}. Best is trial 12 with value: 0.7858472998137801.\n",
            "[I 2025-10-02 13:00:52,939] Trial 18 finished with value: 0.7858472998137801 and parameters: {'classifier': 'SVM', 'C': 5.885389873103332, 'kernel': 'linear', 'gamma': 'auto'}. Best is trial 12 with value: 0.7858472998137801.\n",
            "[I 2025-10-02 13:00:52,980] Trial 19 finished with value: 0.7579143389199255 and parameters: {'classifier': 'SVM', 'C': 0.2527295009489817, 'kernel': 'rbf', 'gamma': 'auto'}. Best is trial 12 with value: 0.7858472998137801.\n",
            "[I 2025-10-02 13:00:53,054] Trial 20 finished with value: 0.7057728119180634 and parameters: {'classifier': 'SVM', 'C': 27.378444298743943, 'kernel': 'poly', 'gamma': 'scale'}. Best is trial 12 with value: 0.7858472998137801.\n",
            "[I 2025-10-02 13:00:53,110] Trial 21 finished with value: 0.7858472998137801 and parameters: {'classifier': 'SVM', 'C': 4.878080638501619, 'kernel': 'linear', 'gamma': 'scale'}. Best is trial 12 with value: 0.7858472998137801.\n",
            "[I 2025-10-02 13:00:53,220] Trial 22 finished with value: 0.7858472998137801 and parameters: {'classifier': 'SVM', 'C': 15.258353933468168, 'kernel': 'linear', 'gamma': 'scale'}. Best is trial 12 with value: 0.7858472998137801.\n",
            "[I 2025-10-02 13:00:53,274] Trial 23 finished with value: 0.7858472998137801 and parameters: {'classifier': 'SVM', 'C': 3.396629894168357, 'kernel': 'linear', 'gamma': 'scale'}. Best is trial 12 with value: 0.7858472998137801.\n",
            "[I 2025-10-02 13:00:53,312] Trial 24 finished with value: 0.696461824953445 and parameters: {'classifier': 'SVM', 'C': 10.116776101735867, 'kernel': 'sigmoid', 'gamma': 'auto'}. Best is trial 12 with value: 0.7858472998137801.\n",
            "[I 2025-10-02 13:00:55,345] Trial 25 finished with value: 0.750465549348231 and parameters: {'classifier': 'GradientBoosting', 'n_estimators': 133, 'learning_rate': 0.012230700268050152, 'max_depth': 8, 'min_samples_split': 6, 'min_samples_leaf': 4}. Best is trial 12 with value: 0.7858472998137801.\n",
            "[I 2025-10-02 13:00:55,381] Trial 26 finished with value: 0.7839851024208566 and parameters: {'classifier': 'SVM', 'C': 0.49353870766871494, 'kernel': 'linear', 'gamma': 'scale'}. Best is trial 12 with value: 0.7858472998137801.\n",
            "[I 2025-10-02 13:00:55,538] Trial 27 finished with value: 0.7858472998137801 and parameters: {'classifier': 'SVM', 'C': 38.39949976739063, 'kernel': 'linear', 'gamma': 'auto'}. Best is trial 12 with value: 0.7858472998137801.\n",
            "[I 2025-10-02 13:00:55,580] Trial 28 finished with value: 0.7858472998137801 and parameters: {'classifier': 'SVM', 'C': 2.1156018504063105, 'kernel': 'linear', 'gamma': 'scale'}. Best is trial 12 with value: 0.7858472998137801.\n",
            "[I 2025-10-02 13:00:55,625] Trial 29 finished with value: 0.7188081936685289 and parameters: {'classifier': 'SVM', 'C': 6.70655404937464, 'kernel': 'poly', 'gamma': 'auto'}. Best is trial 12 with value: 0.7858472998137801.\n",
            "[I 2025-10-02 13:00:56,082] Trial 30 finished with value: 0.7672253258845437 and parameters: {'classifier': 'GradientBoosting', 'n_estimators': 58, 'learning_rate': 0.05306402180600444, 'max_depth': 3, 'min_samples_split': 10, 'min_samples_leaf': 7}. Best is trial 12 with value: 0.7858472998137801.\n",
            "[I 2025-10-02 13:00:56,148] Trial 31 finished with value: 0.7858472998137801 and parameters: {'classifier': 'SVM', 'C': 6.144873272829669, 'kernel': 'linear', 'gamma': 'auto'}. Best is trial 12 with value: 0.7858472998137801.\n",
            "[I 2025-10-02 13:00:56,196] Trial 32 finished with value: 0.7858472998137801 and parameters: {'classifier': 'SVM', 'C': 2.8787655218729005, 'kernel': 'linear', 'gamma': 'auto'}. Best is trial 12 with value: 0.7858472998137801.\n",
            "[I 2025-10-02 13:00:56,268] Trial 33 finished with value: 0.7858472998137801 and parameters: {'classifier': 'SVM', 'C': 9.05800035358116, 'kernel': 'linear', 'gamma': 'auto'}. Best is trial 12 with value: 0.7858472998137801.\n",
            "[I 2025-10-02 13:00:56,322] Trial 34 finished with value: 0.7858472998137803 and parameters: {'classifier': 'SVM', 'C': 0.6810301899912943, 'kernel': 'linear', 'gamma': 'auto'}. Best is trial 34 with value: 0.7858472998137803.\n",
            "[I 2025-10-02 13:00:56,385] Trial 35 finished with value: 0.7690875232774674 and parameters: {'classifier': 'SVM', 'C': 0.6147584855023625, 'kernel': 'rbf', 'gamma': 'auto'}. Best is trial 34 with value: 0.7858472998137803.\n",
            "[I 2025-10-02 13:00:56,429] Trial 36 finished with value: 0.7523277467411545 and parameters: {'classifier': 'SVM', 'C': 0.603141500518088, 'kernel': 'sigmoid', 'gamma': 'scale'}. Best is trial 34 with value: 0.7858472998137803.\n",
            "[I 2025-10-02 13:00:56,463] Trial 37 finished with value: 0.7821229050279329 and parameters: {'classifier': 'SVM', 'C': 0.3703727135812707, 'kernel': 'linear', 'gamma': 'auto'}. Best is trial 34 with value: 0.7858472998137803.\n",
            "[I 2025-10-02 13:00:57,732] Trial 38 finished with value: 0.7616387337057727 and parameters: {'classifier': 'RandomForest', 'n_estimators': 212, 'max_depth': 11, 'min_samples_split': 5, 'min_samples_leaf': 1, 'bootstrap': False}. Best is trial 34 with value: 0.7858472998137803.\n",
            "[I 2025-10-02 13:00:57,768] Trial 39 finished with value: 0.7858472998137803 and parameters: {'classifier': 'SVM', 'C': 0.8087447972418201, 'kernel': 'linear', 'gamma': 'auto'}. Best is trial 34 with value: 0.7858472998137803.\n",
            "[I 2025-10-02 13:01:00,879] Trial 40 finished with value: 0.7579143389199255 and parameters: {'classifier': 'GradientBoosting', 'n_estimators': 299, 'learning_rate': 0.048686546363882525, 'max_depth': 7, 'min_samples_split': 4, 'min_samples_leaf': 8}. Best is trial 34 with value: 0.7858472998137803.\n",
            "[I 2025-10-02 13:01:00,917] Trial 41 finished with value: 0.7839851024208566 and parameters: {'classifier': 'SVM', 'C': 1.0074801010847436, 'kernel': 'linear', 'gamma': 'auto'}. Best is trial 34 with value: 0.7858472998137803.\n",
            "[I 2025-10-02 13:01:00,962] Trial 42 finished with value: 0.7858472998137801 and parameters: {'classifier': 'SVM', 'C': 2.1670842895545097, 'kernel': 'linear', 'gamma': 'auto'}. Best is trial 34 with value: 0.7858472998137803.\n",
            "[I 2025-10-02 13:01:00,999] Trial 43 finished with value: 0.7858472998137803 and parameters: {'classifier': 'SVM', 'C': 0.7966399591960677, 'kernel': 'linear', 'gamma': 'auto'}. Best is trial 34 with value: 0.7858472998137803.\n",
            "[I 2025-10-02 13:01:01,746] Trial 44 finished with value: 0.7616387337057727 and parameters: {'classifier': 'RandomForest', 'n_estimators': 138, 'max_depth': 20, 'min_samples_split': 7, 'min_samples_leaf': 4, 'bootstrap': False}. Best is trial 34 with value: 0.7858472998137803.\n",
            "[I 2025-10-02 13:01:01,789] Trial 45 finished with value: 0.7616387337057727 and parameters: {'classifier': 'SVM', 'C': 0.2998389687910186, 'kernel': 'sigmoid', 'gamma': 'auto'}. Best is trial 34 with value: 0.7858472998137803.\n",
            "[I 2025-10-02 13:01:01,824] Trial 46 finished with value: 0.7858472998137803 and parameters: {'classifier': 'SVM', 'C': 0.7679220384240946, 'kernel': 'linear', 'gamma': 'auto'}. Best is trial 34 with value: 0.7858472998137803.\n",
            "[I 2025-10-02 13:01:03,768] Trial 47 finished with value: 0.7672253258845437 and parameters: {'classifier': 'RandomForest', 'n_estimators': 250, 'max_depth': 16, 'min_samples_split': 2, 'min_samples_leaf': 5, 'bootstrap': False}. Best is trial 34 with value: 0.7858472998137803.\n",
            "[I 2025-10-02 13:01:03,826] Trial 48 finished with value: 0.7858472998137803 and parameters: {'classifier': 'SVM', 'C': 0.8558095446078834, 'kernel': 'linear', 'gamma': 'auto'}. Best is trial 34 with value: 0.7858472998137803.\n",
            "[I 2025-10-02 13:01:03,895] Trial 49 finished with value: 0.750465549348231 and parameters: {'classifier': 'SVM', 'C': 0.13730705998061912, 'kernel': 'rbf', 'gamma': 'auto'}. Best is trial 34 with value: 0.7858472998137803.\n",
            "[I 2025-10-02 13:01:03,949] Trial 50 finished with value: 0.7858472998137803 and parameters: {'classifier': 'SVM', 'C': 0.7657921600932089, 'kernel': 'linear', 'gamma': 'auto'}. Best is trial 34 with value: 0.7858472998137803.\n",
            "[I 2025-10-02 13:01:04,005] Trial 51 finished with value: 0.7839851024208566 and parameters: {'classifier': 'SVM', 'C': 1.0267342788669456, 'kernel': 'linear', 'gamma': 'auto'}. Best is trial 34 with value: 0.7858472998137803.\n",
            "[I 2025-10-02 13:01:04,058] Trial 52 finished with value: 0.7858472998137803 and parameters: {'classifier': 'SVM', 'C': 0.7608891880115511, 'kernel': 'linear', 'gamma': 'auto'}. Best is trial 34 with value: 0.7858472998137803.\n",
            "[I 2025-10-02 13:01:04,113] Trial 53 finished with value: 0.7821229050279329 and parameters: {'classifier': 'SVM', 'C': 0.3926130480365203, 'kernel': 'linear', 'gamma': 'auto'}. Best is trial 34 with value: 0.7858472998137803.\n",
            "[I 2025-10-02 13:01:04,177] Trial 54 finished with value: 0.7839851024208566 and parameters: {'classifier': 'SVM', 'C': 1.41673018841331, 'kernel': 'linear', 'gamma': 'auto'}. Best is trial 34 with value: 0.7858472998137803.\n",
            "[I 2025-10-02 13:01:04,238] Trial 55 finished with value: 0.7858472998137803 and parameters: {'classifier': 'SVM', 'C': 0.8348409736280761, 'kernel': 'linear', 'gamma': 'auto'}. Best is trial 34 with value: 0.7858472998137803.\n",
            "[I 2025-10-02 13:01:04,288] Trial 56 finished with value: 0.7877094972067038 and parameters: {'classifier': 'SVM', 'C': 0.16439469841720294, 'kernel': 'linear', 'gamma': 'auto'}. Best is trial 56 with value: 0.7877094972067038.\n",
            "[I 2025-10-02 13:01:05,429] Trial 57 finished with value: 0.7467411545623835 and parameters: {'classifier': 'GradientBoosting', 'n_estimators': 87, 'learning_rate': 0.022310514211373672, 'max_depth': 6, 'min_samples_split': 10, 'min_samples_leaf': 2}. Best is trial 56 with value: 0.7877094972067038.\n",
            "[I 2025-10-02 13:01:05,466] Trial 58 finished with value: 0.7094972067039106 and parameters: {'classifier': 'SVM', 'C': 0.13059699936014887, 'kernel': 'poly', 'gamma': 'auto'}. Best is trial 56 with value: 0.7877094972067038.\n",
            "[I 2025-10-02 13:01:06,435] Trial 59 finished with value: 0.7709497206703911 and parameters: {'classifier': 'RandomForest', 'n_estimators': 194, 'max_depth': 10, 'min_samples_split': 4, 'min_samples_leaf': 7, 'bootstrap': False}. Best is trial 56 with value: 0.7877094972067038.\n",
            "[I 2025-10-02 13:01:06,468] Trial 60 finished with value: 0.7858472998137803 and parameters: {'classifier': 'SVM', 'C': 0.2023282116313442, 'kernel': 'linear', 'gamma': 'auto'}. Best is trial 56 with value: 0.7877094972067038.\n",
            "[I 2025-10-02 13:01:06,507] Trial 61 finished with value: 0.7839851024208566 and parameters: {'classifier': 'SVM', 'C': 1.2938110500428077, 'kernel': 'linear', 'gamma': 'auto'}. Best is trial 56 with value: 0.7877094972067038.\n",
            "[I 2025-10-02 13:01:06,544] Trial 62 finished with value: 0.7858472998137803 and parameters: {'classifier': 'SVM', 'C': 0.8305910151765116, 'kernel': 'linear', 'gamma': 'auto'}. Best is trial 56 with value: 0.7877094972067038.\n",
            "[I 2025-10-02 13:01:06,580] Trial 63 finished with value: 0.7839851024208566 and parameters: {'classifier': 'SVM', 'C': 0.4184520583893633, 'kernel': 'linear', 'gamma': 'auto'}. Best is trial 56 with value: 0.7877094972067038.\n",
            "[I 2025-10-02 13:01:06,617] Trial 64 finished with value: 0.7839851024208566 and parameters: {'classifier': 'SVM', 'C': 0.5098336491299554, 'kernel': 'linear', 'gamma': 'auto'}. Best is trial 56 with value: 0.7877094972067038.\n",
            "[I 2025-10-02 13:01:06,653] Trial 65 finished with value: 0.7877094972067038 and parameters: {'classifier': 'SVM', 'C': 0.10246540639724627, 'kernel': 'linear', 'gamma': 'auto'}. Best is trial 56 with value: 0.7877094972067038.\n",
            "[I 2025-10-02 13:01:06,687] Trial 66 finished with value: 0.7895716945996275 and parameters: {'classifier': 'SVM', 'C': 0.11079920654588875, 'kernel': 'linear', 'gamma': 'auto'}. Best is trial 66 with value: 0.7895716945996275.\n",
            "[I 2025-10-02 13:01:06,736] Trial 67 finished with value: 0.7709497206703911 and parameters: {'classifier': 'SVM', 'C': 0.1676885350079376, 'kernel': 'sigmoid', 'gamma': 'auto'}. Best is trial 66 with value: 0.7895716945996275.\n",
            "[I 2025-10-02 13:01:06,782] Trial 68 finished with value: 0.7094972067039107 and parameters: {'classifier': 'SVM', 'C': 0.10175439366954228, 'kernel': 'rbf', 'gamma': 'auto'}. Best is trial 66 with value: 0.7895716945996275.\n",
            "[I 2025-10-02 13:01:11,442] Trial 69 finished with value: 0.7262569832402234 and parameters: {'classifier': 'GradientBoosting', 'n_estimators': 276, 'learning_rate': 0.11292286483795376, 'max_depth': 13, 'min_samples_split': 7, 'min_samples_leaf': 5}. Best is trial 66 with value: 0.7895716945996275.\n",
            "[I 2025-10-02 13:01:11,476] Trial 70 finished with value: 0.7858472998137803 and parameters: {'classifier': 'SVM', 'C': 0.2594870972294777, 'kernel': 'linear', 'gamma': 'auto'}. Best is trial 66 with value: 0.7895716945996275.\n",
            "[I 2025-10-02 13:01:11,508] Trial 71 finished with value: 0.7877094972067038 and parameters: {'classifier': 'SVM', 'C': 0.1074761885233841, 'kernel': 'linear', 'gamma': 'auto'}. Best is trial 66 with value: 0.7895716945996275.\n",
            "[I 2025-10-02 13:01:11,541] Trial 72 finished with value: 0.7877094972067038 and parameters: {'classifier': 'SVM', 'C': 0.10255516883644235, 'kernel': 'linear', 'gamma': 'auto'}. Best is trial 66 with value: 0.7895716945996275.\n",
            "[I 2025-10-02 13:01:11,573] Trial 73 finished with value: 0.7877094972067038 and parameters: {'classifier': 'SVM', 'C': 0.10162837671613226, 'kernel': 'linear', 'gamma': 'auto'}. Best is trial 66 with value: 0.7895716945996275.\n",
            "[I 2025-10-02 13:01:11,612] Trial 74 finished with value: 0.7039106145251397 and parameters: {'classifier': 'SVM', 'C': 0.10312757443516637, 'kernel': 'poly', 'gamma': 'auto'}. Best is trial 66 with value: 0.7895716945996275.\n",
            "[I 2025-10-02 13:01:11,644] Trial 75 finished with value: 0.7877094972067038 and parameters: {'classifier': 'SVM', 'C': 0.1863679056252193, 'kernel': 'linear', 'gamma': 'auto'}. Best is trial 66 with value: 0.7895716945996275.\n",
            "[I 2025-10-02 13:01:11,676] Trial 76 finished with value: 0.7877094972067038 and parameters: {'classifier': 'SVM', 'C': 0.18658654468418343, 'kernel': 'linear', 'gamma': 'auto'}. Best is trial 66 with value: 0.7895716945996275.\n",
            "[I 2025-10-02 13:01:11,712] Trial 77 finished with value: 0.7858472998137803 and parameters: {'classifier': 'SVM', 'C': 0.18779989354934254, 'kernel': 'linear', 'gamma': 'auto'}. Best is trial 66 with value: 0.7895716945996275.\n",
            "[I 2025-10-02 13:01:11,747] Trial 78 finished with value: 0.7895716945996275 and parameters: {'classifier': 'SVM', 'C': 0.14652453518051317, 'kernel': 'linear', 'gamma': 'auto'}. Best is trial 66 with value: 0.7895716945996275.\n",
            "[I 2025-10-02 13:01:12,524] Trial 79 finished with value: 0.7765363128491621 and parameters: {'classifier': 'RandomForest', 'n_estimators': 154, 'max_depth': 17, 'min_samples_split': 5, 'min_samples_leaf': 8, 'bootstrap': False}. Best is trial 66 with value: 0.7895716945996275.\n",
            "[I 2025-10-02 13:01:12,557] Trial 80 finished with value: 0.7895716945996275 and parameters: {'classifier': 'SVM', 'C': 0.1423489354588545, 'kernel': 'linear', 'gamma': 'auto'}. Best is trial 66 with value: 0.7895716945996275.\n",
            "[I 2025-10-02 13:01:12,590] Trial 81 finished with value: 0.7895716945996275 and parameters: {'classifier': 'SVM', 'C': 0.12843768675346165, 'kernel': 'linear', 'gamma': 'auto'}. Best is trial 66 with value: 0.7895716945996275.\n",
            "[I 2025-10-02 13:01:12,623] Trial 82 finished with value: 0.7895716945996275 and parameters: {'classifier': 'SVM', 'C': 0.13125374911126764, 'kernel': 'linear', 'gamma': 'auto'}. Best is trial 66 with value: 0.7895716945996275.\n",
            "[I 2025-10-02 13:01:12,655] Trial 83 finished with value: 0.7895716945996275 and parameters: {'classifier': 'SVM', 'C': 0.13619451027326487, 'kernel': 'linear', 'gamma': 'auto'}. Best is trial 66 with value: 0.7895716945996275.\n",
            "[I 2025-10-02 13:01:12,688] Trial 84 finished with value: 0.7895716945996275 and parameters: {'classifier': 'SVM', 'C': 0.1374610564567555, 'kernel': 'linear', 'gamma': 'scale'}. Best is trial 66 with value: 0.7895716945996275.\n",
            "[I 2025-10-02 13:01:12,720] Trial 85 finished with value: 0.7895716945996275 and parameters: {'classifier': 'SVM', 'C': 0.1389492265260438, 'kernel': 'linear', 'gamma': 'scale'}. Best is trial 66 with value: 0.7895716945996275.\n",
            "[I 2025-10-02 13:01:12,756] Trial 86 finished with value: 0.7895716945996275 and parameters: {'classifier': 'SVM', 'C': 0.14244286201082249, 'kernel': 'linear', 'gamma': 'scale'}. Best is trial 66 with value: 0.7895716945996275.\n",
            "[I 2025-10-02 13:01:15,066] Trial 87 finished with value: 0.7355679702048418 and parameters: {'classifier': 'GradientBoosting', 'n_estimators': 92, 'learning_rate': 0.02949541715147789, 'max_depth': 15, 'min_samples_split': 7, 'min_samples_leaf': 2}. Best is trial 66 with value: 0.7895716945996275.\n",
            "[I 2025-10-02 13:01:15,138] Trial 88 finished with value: 0.7541899441340782 and parameters: {'classifier': 'SVM', 'C': 0.23084413992134306, 'kernel': 'rbf', 'gamma': 'scale'}. Best is trial 66 with value: 0.7895716945996275.\n",
            "[I 2025-10-02 13:01:15,193] Trial 89 finished with value: 0.7895716945996275 and parameters: {'classifier': 'SVM', 'C': 0.13517580525459735, 'kernel': 'linear', 'gamma': 'scale'}. Best is trial 66 with value: 0.7895716945996275.\n",
            "[I 2025-10-02 13:01:15,273] Trial 90 finished with value: 0.7523277467411545 and parameters: {'classifier': 'SVM', 'C': 0.3001225155273158, 'kernel': 'sigmoid', 'gamma': 'scale'}. Best is trial 66 with value: 0.7895716945996275.\n",
            "[I 2025-10-02 13:01:15,335] Trial 91 finished with value: 0.7895716945996275 and parameters: {'classifier': 'SVM', 'C': 0.1356667098302034, 'kernel': 'linear', 'gamma': 'scale'}. Best is trial 66 with value: 0.7895716945996275.\n",
            "[I 2025-10-02 13:01:15,391] Trial 92 finished with value: 0.7895716945996275 and parameters: {'classifier': 'SVM', 'C': 0.1319312331667117, 'kernel': 'linear', 'gamma': 'scale'}. Best is trial 66 with value: 0.7895716945996275.\n",
            "[I 2025-10-02 13:01:15,440] Trial 93 finished with value: 0.7895716945996275 and parameters: {'classifier': 'SVM', 'C': 0.14639051477545378, 'kernel': 'linear', 'gamma': 'scale'}. Best is trial 66 with value: 0.7895716945996275.\n",
            "[I 2025-10-02 13:01:15,493] Trial 94 finished with value: 0.7858472998137803 and parameters: {'classifier': 'SVM', 'C': 0.2580894885598333, 'kernel': 'linear', 'gamma': 'scale'}. Best is trial 66 with value: 0.7895716945996275.\n",
            "[I 2025-10-02 13:01:15,547] Trial 95 finished with value: 0.7150837988826816 and parameters: {'classifier': 'SVM', 'C': 0.15478756431446214, 'kernel': 'poly', 'gamma': 'scale'}. Best is trial 66 with value: 0.7895716945996275.\n",
            "[I 2025-10-02 13:01:15,598] Trial 96 finished with value: 0.7858472998137803 and parameters: {'classifier': 'SVM', 'C': 0.2072055459484069, 'kernel': 'linear', 'gamma': 'scale'}. Best is trial 66 with value: 0.7895716945996275.\n",
            "[I 2025-10-02 13:01:15,648] Trial 97 finished with value: 0.7895716945996275 and parameters: {'classifier': 'SVM', 'C': 0.12890838422488785, 'kernel': 'linear', 'gamma': 'scale'}. Best is trial 66 with value: 0.7895716945996275.\n",
            "[I 2025-10-02 13:01:15,698] Trial 98 finished with value: 0.7858472998137803 and parameters: {'classifier': 'SVM', 'C': 0.32842391920424596, 'kernel': 'linear', 'gamma': 'scale'}. Best is trial 66 with value: 0.7895716945996275.\n",
            "[I 2025-10-02 13:01:17,438] Trial 99 finished with value: 0.7579143389199254 and parameters: {'classifier': 'RandomForest', 'n_estimators': 194, 'max_depth': 18, 'min_samples_split': 3, 'min_samples_leaf': 7, 'bootstrap': True}. Best is trial 66 with value: 0.7895716945996275.\n"
          ]
        }
      ]
    },
    {
      "cell_type": "code",
      "source": [
        "# Retrieve the best trial\n",
        "best_trial = study.best_trial\n",
        "print(\"Best trial parameters:\", best_trial.params)\n",
        "print(\"Best trial accuracy:\", best_trial.value)"
      ],
      "metadata": {
        "colab": {
          "base_uri": "https://localhost:8080/"
        },
        "id": "bdZZuWdDAoOT",
        "outputId": "a3de8f97-ff2e-49bb-8b07-fe19d187cf01"
      },
      "execution_count": 37,
      "outputs": [
        {
          "output_type": "stream",
          "name": "stdout",
          "text": [
            "Best trial parameters: {'classifier': 'SVM', 'C': 0.11079920654588875, 'kernel': 'linear', 'gamma': 'auto'}\n",
            "Best trial accuracy: 0.7895716945996275\n"
          ]
        }
      ]
    },
    {
      "cell_type": "code",
      "source": [
        "study.trials_dataframe()"
      ],
      "metadata": {
        "colab": {
          "base_uri": "https://localhost:8080/",
          "height": 617
        },
        "id": "jUqEuaJNA3tt",
        "outputId": "c89ef849-382b-4599-84f8-6d8a798dae97"
      },
      "execution_count": 38,
      "outputs": [
        {
          "output_type": "execute_result",
          "data": {
            "text/plain": [
              "    number     value             datetime_start          datetime_complete  \\\n",
              "0        0  0.776536 2025-10-02 13:00:33.062533 2025-10-02 13:00:33.106347   \n",
              "1        1  0.756052 2025-10-02 13:00:33.107589 2025-10-02 13:00:35.709567   \n",
              "2        2  0.783985 2025-10-02 13:00:35.710618 2025-10-02 13:00:35.744916   \n",
              "3        3  0.767225 2025-10-02 13:00:35.746108 2025-10-02 13:00:36.275482   \n",
              "4        4  0.729981 2025-10-02 13:00:36.276522 2025-10-02 13:00:42.452920   \n",
              "..     ...       ...                        ...                        ...   \n",
              "95      95  0.715084 2025-10-02 13:01:15.494935 2025-10-02 13:01:15.547316   \n",
              "96      96  0.785847 2025-10-02 13:01:15.548283 2025-10-02 13:01:15.598737   \n",
              "97      97  0.789572 2025-10-02 13:01:15.601040 2025-10-02 13:01:15.648591   \n",
              "98      98  0.785847 2025-10-02 13:01:15.649491 2025-10-02 13:01:15.698093   \n",
              "99      99  0.757914 2025-10-02 13:01:15.699556 2025-10-02 13:01:17.438245   \n",
              "\n",
              "                 duration  params_C params_bootstrap params_classifier  \\\n",
              "0  0 days 00:00:00.043814  0.197362              NaN               SVM   \n",
              "1  0 days 00:00:02.601978       NaN             True      RandomForest   \n",
              "2  0 days 00:00:00.034298  1.214180              NaN               SVM   \n",
              "3  0 days 00:00:00.529374       NaN             True      RandomForest   \n",
              "4  0 days 00:00:06.176398       NaN              NaN  GradientBoosting   \n",
              "..                    ...       ...              ...               ...   \n",
              "95 0 days 00:00:00.052381  0.154788              NaN               SVM   \n",
              "96 0 days 00:00:00.050454  0.207206              NaN               SVM   \n",
              "97 0 days 00:00:00.047551  0.128908              NaN               SVM   \n",
              "98 0 days 00:00:00.048602  0.328424              NaN               SVM   \n",
              "99 0 days 00:00:01.738689       NaN             True      RandomForest   \n",
              "\n",
              "   params_gamma params_kernel  params_learning_rate  params_max_depth  \\\n",
              "0          auto       sigmoid                   NaN               NaN   \n",
              "1           NaN           NaN                   NaN               8.0   \n",
              "2          auto        linear                   NaN               NaN   \n",
              "3           NaN           NaN                   NaN               5.0   \n",
              "4           NaN           NaN              0.016589              10.0   \n",
              "..          ...           ...                   ...               ...   \n",
              "95        scale          poly                   NaN               NaN   \n",
              "96        scale        linear                   NaN               NaN   \n",
              "97        scale        linear                   NaN               NaN   \n",
              "98        scale        linear                   NaN               NaN   \n",
              "99          NaN           NaN                   NaN              18.0   \n",
              "\n",
              "    params_min_samples_leaf  params_min_samples_split  params_n_estimators  \\\n",
              "0                       NaN                       NaN                  NaN   \n",
              "1                       9.0                       9.0                294.0   \n",
              "2                       NaN                       NaN                  NaN   \n",
              "3                      10.0                       8.0                 92.0   \n",
              "4                       3.0                       3.0                266.0   \n",
              "..                      ...                       ...                  ...   \n",
              "95                      NaN                       NaN                  NaN   \n",
              "96                      NaN                       NaN                  NaN   \n",
              "97                      NaN                       NaN                  NaN   \n",
              "98                      NaN                       NaN                  NaN   \n",
              "99                      7.0                       3.0                194.0   \n",
              "\n",
              "       state  \n",
              "0   COMPLETE  \n",
              "1   COMPLETE  \n",
              "2   COMPLETE  \n",
              "3   COMPLETE  \n",
              "4   COMPLETE  \n",
              "..       ...  \n",
              "95  COMPLETE  \n",
              "96  COMPLETE  \n",
              "97  COMPLETE  \n",
              "98  COMPLETE  \n",
              "99  COMPLETE  \n",
              "\n",
              "[100 rows x 16 columns]"
            ],
            "text/html": [
              "\n",
              "  <div id=\"df-0ce20614-1dd1-4247-b8ac-0edee5f1ad92\" class=\"colab-df-container\">\n",
              "    <div>\n",
              "<style scoped>\n",
              "    .dataframe tbody tr th:only-of-type {\n",
              "        vertical-align: middle;\n",
              "    }\n",
              "\n",
              "    .dataframe tbody tr th {\n",
              "        vertical-align: top;\n",
              "    }\n",
              "\n",
              "    .dataframe thead th {\n",
              "        text-align: right;\n",
              "    }\n",
              "</style>\n",
              "<table border=\"1\" class=\"dataframe\">\n",
              "  <thead>\n",
              "    <tr style=\"text-align: right;\">\n",
              "      <th></th>\n",
              "      <th>number</th>\n",
              "      <th>value</th>\n",
              "      <th>datetime_start</th>\n",
              "      <th>datetime_complete</th>\n",
              "      <th>duration</th>\n",
              "      <th>params_C</th>\n",
              "      <th>params_bootstrap</th>\n",
              "      <th>params_classifier</th>\n",
              "      <th>params_gamma</th>\n",
              "      <th>params_kernel</th>\n",
              "      <th>params_learning_rate</th>\n",
              "      <th>params_max_depth</th>\n",
              "      <th>params_min_samples_leaf</th>\n",
              "      <th>params_min_samples_split</th>\n",
              "      <th>params_n_estimators</th>\n",
              "      <th>state</th>\n",
              "    </tr>\n",
              "  </thead>\n",
              "  <tbody>\n",
              "    <tr>\n",
              "      <th>0</th>\n",
              "      <td>0</td>\n",
              "      <td>0.776536</td>\n",
              "      <td>2025-10-02 13:00:33.062533</td>\n",
              "      <td>2025-10-02 13:00:33.106347</td>\n",
              "      <td>0 days 00:00:00.043814</td>\n",
              "      <td>0.197362</td>\n",
              "      <td>NaN</td>\n",
              "      <td>SVM</td>\n",
              "      <td>auto</td>\n",
              "      <td>sigmoid</td>\n",
              "      <td>NaN</td>\n",
              "      <td>NaN</td>\n",
              "      <td>NaN</td>\n",
              "      <td>NaN</td>\n",
              "      <td>NaN</td>\n",
              "      <td>COMPLETE</td>\n",
              "    </tr>\n",
              "    <tr>\n",
              "      <th>1</th>\n",
              "      <td>1</td>\n",
              "      <td>0.756052</td>\n",
              "      <td>2025-10-02 13:00:33.107589</td>\n",
              "      <td>2025-10-02 13:00:35.709567</td>\n",
              "      <td>0 days 00:00:02.601978</td>\n",
              "      <td>NaN</td>\n",
              "      <td>True</td>\n",
              "      <td>RandomForest</td>\n",
              "      <td>NaN</td>\n",
              "      <td>NaN</td>\n",
              "      <td>NaN</td>\n",
              "      <td>8.0</td>\n",
              "      <td>9.0</td>\n",
              "      <td>9.0</td>\n",
              "      <td>294.0</td>\n",
              "      <td>COMPLETE</td>\n",
              "    </tr>\n",
              "    <tr>\n",
              "      <th>2</th>\n",
              "      <td>2</td>\n",
              "      <td>0.783985</td>\n",
              "      <td>2025-10-02 13:00:35.710618</td>\n",
              "      <td>2025-10-02 13:00:35.744916</td>\n",
              "      <td>0 days 00:00:00.034298</td>\n",
              "      <td>1.214180</td>\n",
              "      <td>NaN</td>\n",
              "      <td>SVM</td>\n",
              "      <td>auto</td>\n",
              "      <td>linear</td>\n",
              "      <td>NaN</td>\n",
              "      <td>NaN</td>\n",
              "      <td>NaN</td>\n",
              "      <td>NaN</td>\n",
              "      <td>NaN</td>\n",
              "      <td>COMPLETE</td>\n",
              "    </tr>\n",
              "    <tr>\n",
              "      <th>3</th>\n",
              "      <td>3</td>\n",
              "      <td>0.767225</td>\n",
              "      <td>2025-10-02 13:00:35.746108</td>\n",
              "      <td>2025-10-02 13:00:36.275482</td>\n",
              "      <td>0 days 00:00:00.529374</td>\n",
              "      <td>NaN</td>\n",
              "      <td>True</td>\n",
              "      <td>RandomForest</td>\n",
              "      <td>NaN</td>\n",
              "      <td>NaN</td>\n",
              "      <td>NaN</td>\n",
              "      <td>5.0</td>\n",
              "      <td>10.0</td>\n",
              "      <td>8.0</td>\n",
              "      <td>92.0</td>\n",
              "      <td>COMPLETE</td>\n",
              "    </tr>\n",
              "    <tr>\n",
              "      <th>4</th>\n",
              "      <td>4</td>\n",
              "      <td>0.729981</td>\n",
              "      <td>2025-10-02 13:00:36.276522</td>\n",
              "      <td>2025-10-02 13:00:42.452920</td>\n",
              "      <td>0 days 00:00:06.176398</td>\n",
              "      <td>NaN</td>\n",
              "      <td>NaN</td>\n",
              "      <td>GradientBoosting</td>\n",
              "      <td>NaN</td>\n",
              "      <td>NaN</td>\n",
              "      <td>0.016589</td>\n",
              "      <td>10.0</td>\n",
              "      <td>3.0</td>\n",
              "      <td>3.0</td>\n",
              "      <td>266.0</td>\n",
              "      <td>COMPLETE</td>\n",
              "    </tr>\n",
              "    <tr>\n",
              "      <th>...</th>\n",
              "      <td>...</td>\n",
              "      <td>...</td>\n",
              "      <td>...</td>\n",
              "      <td>...</td>\n",
              "      <td>...</td>\n",
              "      <td>...</td>\n",
              "      <td>...</td>\n",
              "      <td>...</td>\n",
              "      <td>...</td>\n",
              "      <td>...</td>\n",
              "      <td>...</td>\n",
              "      <td>...</td>\n",
              "      <td>...</td>\n",
              "      <td>...</td>\n",
              "      <td>...</td>\n",
              "      <td>...</td>\n",
              "    </tr>\n",
              "    <tr>\n",
              "      <th>95</th>\n",
              "      <td>95</td>\n",
              "      <td>0.715084</td>\n",
              "      <td>2025-10-02 13:01:15.494935</td>\n",
              "      <td>2025-10-02 13:01:15.547316</td>\n",
              "      <td>0 days 00:00:00.052381</td>\n",
              "      <td>0.154788</td>\n",
              "      <td>NaN</td>\n",
              "      <td>SVM</td>\n",
              "      <td>scale</td>\n",
              "      <td>poly</td>\n",
              "      <td>NaN</td>\n",
              "      <td>NaN</td>\n",
              "      <td>NaN</td>\n",
              "      <td>NaN</td>\n",
              "      <td>NaN</td>\n",
              "      <td>COMPLETE</td>\n",
              "    </tr>\n",
              "    <tr>\n",
              "      <th>96</th>\n",
              "      <td>96</td>\n",
              "      <td>0.785847</td>\n",
              "      <td>2025-10-02 13:01:15.548283</td>\n",
              "      <td>2025-10-02 13:01:15.598737</td>\n",
              "      <td>0 days 00:00:00.050454</td>\n",
              "      <td>0.207206</td>\n",
              "      <td>NaN</td>\n",
              "      <td>SVM</td>\n",
              "      <td>scale</td>\n",
              "      <td>linear</td>\n",
              "      <td>NaN</td>\n",
              "      <td>NaN</td>\n",
              "      <td>NaN</td>\n",
              "      <td>NaN</td>\n",
              "      <td>NaN</td>\n",
              "      <td>COMPLETE</td>\n",
              "    </tr>\n",
              "    <tr>\n",
              "      <th>97</th>\n",
              "      <td>97</td>\n",
              "      <td>0.789572</td>\n",
              "      <td>2025-10-02 13:01:15.601040</td>\n",
              "      <td>2025-10-02 13:01:15.648591</td>\n",
              "      <td>0 days 00:00:00.047551</td>\n",
              "      <td>0.128908</td>\n",
              "      <td>NaN</td>\n",
              "      <td>SVM</td>\n",
              "      <td>scale</td>\n",
              "      <td>linear</td>\n",
              "      <td>NaN</td>\n",
              "      <td>NaN</td>\n",
              "      <td>NaN</td>\n",
              "      <td>NaN</td>\n",
              "      <td>NaN</td>\n",
              "      <td>COMPLETE</td>\n",
              "    </tr>\n",
              "    <tr>\n",
              "      <th>98</th>\n",
              "      <td>98</td>\n",
              "      <td>0.785847</td>\n",
              "      <td>2025-10-02 13:01:15.649491</td>\n",
              "      <td>2025-10-02 13:01:15.698093</td>\n",
              "      <td>0 days 00:00:00.048602</td>\n",
              "      <td>0.328424</td>\n",
              "      <td>NaN</td>\n",
              "      <td>SVM</td>\n",
              "      <td>scale</td>\n",
              "      <td>linear</td>\n",
              "      <td>NaN</td>\n",
              "      <td>NaN</td>\n",
              "      <td>NaN</td>\n",
              "      <td>NaN</td>\n",
              "      <td>NaN</td>\n",
              "      <td>COMPLETE</td>\n",
              "    </tr>\n",
              "    <tr>\n",
              "      <th>99</th>\n",
              "      <td>99</td>\n",
              "      <td>0.757914</td>\n",
              "      <td>2025-10-02 13:01:15.699556</td>\n",
              "      <td>2025-10-02 13:01:17.438245</td>\n",
              "      <td>0 days 00:00:01.738689</td>\n",
              "      <td>NaN</td>\n",
              "      <td>True</td>\n",
              "      <td>RandomForest</td>\n",
              "      <td>NaN</td>\n",
              "      <td>NaN</td>\n",
              "      <td>NaN</td>\n",
              "      <td>18.0</td>\n",
              "      <td>7.0</td>\n",
              "      <td>3.0</td>\n",
              "      <td>194.0</td>\n",
              "      <td>COMPLETE</td>\n",
              "    </tr>\n",
              "  </tbody>\n",
              "</table>\n",
              "<p>100 rows × 16 columns</p>\n",
              "</div>\n",
              "    <div class=\"colab-df-buttons\">\n",
              "\n",
              "  <div class=\"colab-df-container\">\n",
              "    <button class=\"colab-df-convert\" onclick=\"convertToInteractive('df-0ce20614-1dd1-4247-b8ac-0edee5f1ad92')\"\n",
              "            title=\"Convert this dataframe to an interactive table.\"\n",
              "            style=\"display:none;\">\n",
              "\n",
              "  <svg xmlns=\"http://www.w3.org/2000/svg\" height=\"24px\" viewBox=\"0 -960 960 960\">\n",
              "    <path d=\"M120-120v-720h720v720H120Zm60-500h600v-160H180v160Zm220 220h160v-160H400v160Zm0 220h160v-160H400v160ZM180-400h160v-160H180v160Zm440 0h160v-160H620v160ZM180-180h160v-160H180v160Zm440 0h160v-160H620v160Z\"/>\n",
              "  </svg>\n",
              "    </button>\n",
              "\n",
              "  <style>\n",
              "    .colab-df-container {\n",
              "      display:flex;\n",
              "      gap: 12px;\n",
              "    }\n",
              "\n",
              "    .colab-df-convert {\n",
              "      background-color: #E8F0FE;\n",
              "      border: none;\n",
              "      border-radius: 50%;\n",
              "      cursor: pointer;\n",
              "      display: none;\n",
              "      fill: #1967D2;\n",
              "      height: 32px;\n",
              "      padding: 0 0 0 0;\n",
              "      width: 32px;\n",
              "    }\n",
              "\n",
              "    .colab-df-convert:hover {\n",
              "      background-color: #E2EBFA;\n",
              "      box-shadow: 0px 1px 2px rgba(60, 64, 67, 0.3), 0px 1px 3px 1px rgba(60, 64, 67, 0.15);\n",
              "      fill: #174EA6;\n",
              "    }\n",
              "\n",
              "    .colab-df-buttons div {\n",
              "      margin-bottom: 4px;\n",
              "    }\n",
              "\n",
              "    [theme=dark] .colab-df-convert {\n",
              "      background-color: #3B4455;\n",
              "      fill: #D2E3FC;\n",
              "    }\n",
              "\n",
              "    [theme=dark] .colab-df-convert:hover {\n",
              "      background-color: #434B5C;\n",
              "      box-shadow: 0px 1px 3px 1px rgba(0, 0, 0, 0.15);\n",
              "      filter: drop-shadow(0px 1px 2px rgba(0, 0, 0, 0.3));\n",
              "      fill: #FFFFFF;\n",
              "    }\n",
              "  </style>\n",
              "\n",
              "    <script>\n",
              "      const buttonEl =\n",
              "        document.querySelector('#df-0ce20614-1dd1-4247-b8ac-0edee5f1ad92 button.colab-df-convert');\n",
              "      buttonEl.style.display =\n",
              "        google.colab.kernel.accessAllowed ? 'block' : 'none';\n",
              "\n",
              "      async function convertToInteractive(key) {\n",
              "        const element = document.querySelector('#df-0ce20614-1dd1-4247-b8ac-0edee5f1ad92');\n",
              "        const dataTable =\n",
              "          await google.colab.kernel.invokeFunction('convertToInteractive',\n",
              "                                                    [key], {});\n",
              "        if (!dataTable) return;\n",
              "\n",
              "        const docLinkHtml = 'Like what you see? Visit the ' +\n",
              "          '<a target=\"_blank\" href=https://colab.research.google.com/notebooks/data_table.ipynb>data table notebook</a>'\n",
              "          + ' to learn more about interactive tables.';\n",
              "        element.innerHTML = '';\n",
              "        dataTable['output_type'] = 'display_data';\n",
              "        await google.colab.output.renderOutput(dataTable, element);\n",
              "        const docLink = document.createElement('div');\n",
              "        docLink.innerHTML = docLinkHtml;\n",
              "        element.appendChild(docLink);\n",
              "      }\n",
              "    </script>\n",
              "  </div>\n",
              "\n",
              "\n",
              "    <div id=\"df-42402e29-91ab-45c4-a323-ad350ffda988\">\n",
              "      <button class=\"colab-df-quickchart\" onclick=\"quickchart('df-42402e29-91ab-45c4-a323-ad350ffda988')\"\n",
              "                title=\"Suggest charts\"\n",
              "                style=\"display:none;\">\n",
              "\n",
              "<svg xmlns=\"http://www.w3.org/2000/svg\" height=\"24px\"viewBox=\"0 0 24 24\"\n",
              "     width=\"24px\">\n",
              "    <g>\n",
              "        <path d=\"M19 3H5c-1.1 0-2 .9-2 2v14c0 1.1.9 2 2 2h14c1.1 0 2-.9 2-2V5c0-1.1-.9-2-2-2zM9 17H7v-7h2v7zm4 0h-2V7h2v10zm4 0h-2v-4h2v4z\"/>\n",
              "    </g>\n",
              "</svg>\n",
              "      </button>\n",
              "\n",
              "<style>\n",
              "  .colab-df-quickchart {\n",
              "      --bg-color: #E8F0FE;\n",
              "      --fill-color: #1967D2;\n",
              "      --hover-bg-color: #E2EBFA;\n",
              "      --hover-fill-color: #174EA6;\n",
              "      --disabled-fill-color: #AAA;\n",
              "      --disabled-bg-color: #DDD;\n",
              "  }\n",
              "\n",
              "  [theme=dark] .colab-df-quickchart {\n",
              "      --bg-color: #3B4455;\n",
              "      --fill-color: #D2E3FC;\n",
              "      --hover-bg-color: #434B5C;\n",
              "      --hover-fill-color: #FFFFFF;\n",
              "      --disabled-bg-color: #3B4455;\n",
              "      --disabled-fill-color: #666;\n",
              "  }\n",
              "\n",
              "  .colab-df-quickchart {\n",
              "    background-color: var(--bg-color);\n",
              "    border: none;\n",
              "    border-radius: 50%;\n",
              "    cursor: pointer;\n",
              "    display: none;\n",
              "    fill: var(--fill-color);\n",
              "    height: 32px;\n",
              "    padding: 0;\n",
              "    width: 32px;\n",
              "  }\n",
              "\n",
              "  .colab-df-quickchart:hover {\n",
              "    background-color: var(--hover-bg-color);\n",
              "    box-shadow: 0 1px 2px rgba(60, 64, 67, 0.3), 0 1px 3px 1px rgba(60, 64, 67, 0.15);\n",
              "    fill: var(--button-hover-fill-color);\n",
              "  }\n",
              "\n",
              "  .colab-df-quickchart-complete:disabled,\n",
              "  .colab-df-quickchart-complete:disabled:hover {\n",
              "    background-color: var(--disabled-bg-color);\n",
              "    fill: var(--disabled-fill-color);\n",
              "    box-shadow: none;\n",
              "  }\n",
              "\n",
              "  .colab-df-spinner {\n",
              "    border: 2px solid var(--fill-color);\n",
              "    border-color: transparent;\n",
              "    border-bottom-color: var(--fill-color);\n",
              "    animation:\n",
              "      spin 1s steps(1) infinite;\n",
              "  }\n",
              "\n",
              "  @keyframes spin {\n",
              "    0% {\n",
              "      border-color: transparent;\n",
              "      border-bottom-color: var(--fill-color);\n",
              "      border-left-color: var(--fill-color);\n",
              "    }\n",
              "    20% {\n",
              "      border-color: transparent;\n",
              "      border-left-color: var(--fill-color);\n",
              "      border-top-color: var(--fill-color);\n",
              "    }\n",
              "    30% {\n",
              "      border-color: transparent;\n",
              "      border-left-color: var(--fill-color);\n",
              "      border-top-color: var(--fill-color);\n",
              "      border-right-color: var(--fill-color);\n",
              "    }\n",
              "    40% {\n",
              "      border-color: transparent;\n",
              "      border-right-color: var(--fill-color);\n",
              "      border-top-color: var(--fill-color);\n",
              "    }\n",
              "    60% {\n",
              "      border-color: transparent;\n",
              "      border-right-color: var(--fill-color);\n",
              "    }\n",
              "    80% {\n",
              "      border-color: transparent;\n",
              "      border-right-color: var(--fill-color);\n",
              "      border-bottom-color: var(--fill-color);\n",
              "    }\n",
              "    90% {\n",
              "      border-color: transparent;\n",
              "      border-bottom-color: var(--fill-color);\n",
              "    }\n",
              "  }\n",
              "</style>\n",
              "\n",
              "      <script>\n",
              "        async function quickchart(key) {\n",
              "          const quickchartButtonEl =\n",
              "            document.querySelector('#' + key + ' button');\n",
              "          quickchartButtonEl.disabled = true;  // To prevent multiple clicks.\n",
              "          quickchartButtonEl.classList.add('colab-df-spinner');\n",
              "          try {\n",
              "            const charts = await google.colab.kernel.invokeFunction(\n",
              "                'suggestCharts', [key], {});\n",
              "          } catch (error) {\n",
              "            console.error('Error during call to suggestCharts:', error);\n",
              "          }\n",
              "          quickchartButtonEl.classList.remove('colab-df-spinner');\n",
              "          quickchartButtonEl.classList.add('colab-df-quickchart-complete');\n",
              "        }\n",
              "        (() => {\n",
              "          let quickchartButtonEl =\n",
              "            document.querySelector('#df-42402e29-91ab-45c4-a323-ad350ffda988 button');\n",
              "          quickchartButtonEl.style.display =\n",
              "            google.colab.kernel.accessAllowed ? 'block' : 'none';\n",
              "        })();\n",
              "      </script>\n",
              "    </div>\n",
              "\n",
              "    </div>\n",
              "  </div>\n"
            ],
            "application/vnd.google.colaboratory.intrinsic+json": {
              "type": "dataframe",
              "summary": "{\n  \"name\": \"study\",\n  \"rows\": 100,\n  \"fields\": [\n    {\n      \"column\": \"number\",\n      \"properties\": {\n        \"dtype\": \"number\",\n        \"std\": 29,\n        \"min\": 0,\n        \"max\": 99,\n        \"num_unique_values\": 100,\n        \"samples\": [\n          83,\n          53,\n          70\n        ],\n        \"semantic_type\": \"\",\n        \"description\": \"\"\n      }\n    },\n    {\n      \"column\": \"value\",\n      \"properties\": {\n        \"dtype\": \"number\",\n        \"std\": 0.024803298841482264,\n        \"min\": 0.696461824953445,\n        \"max\": 0.7895716945996275,\n        \"num_unique_values\": 33,\n        \"samples\": [\n          0.7541899441340782,\n          0.7188081936685289,\n          0.7094972067039107\n        ],\n        \"semantic_type\": \"\",\n        \"description\": \"\"\n      }\n    },\n    {\n      \"column\": \"datetime_start\",\n      \"properties\": {\n        \"dtype\": \"date\",\n        \"min\": \"2025-10-02 13:00:33.062533\",\n        \"max\": \"2025-10-02 13:01:15.699556\",\n        \"num_unique_values\": 100,\n        \"samples\": [\n          \"2025-10-02 13:01:12.624140\",\n          \"2025-10-02 13:01:04.060161\",\n          \"2025-10-02 13:01:11.443149\"\n        ],\n        \"semantic_type\": \"\",\n        \"description\": \"\"\n      }\n    },\n    {\n      \"column\": \"datetime_complete\",\n      \"properties\": {\n        \"dtype\": \"date\",\n        \"min\": \"2025-10-02 13:00:33.106347\",\n        \"max\": \"2025-10-02 13:01:17.438245\",\n        \"num_unique_values\": 100,\n        \"samples\": [\n          \"2025-10-02 13:01:12.655711\",\n          \"2025-10-02 13:01:04.112964\",\n          \"2025-10-02 13:01:11.476420\"\n        ],\n        \"semantic_type\": \"\",\n        \"description\": \"\"\n      }\n    },\n    {\n      \"column\": \"duration\",\n      \"properties\": {\n        \"dtype\": \"timedelta64[ns]\",\n        \"num_unique_values\": 100,\n        \"samples\": [\n          \"0 days 00:00:00.031571\",\n          \"0 days 00:00:00.052803\",\n          \"0 days 00:00:00.033271\"\n        ],\n        \"semantic_type\": \"\",\n        \"description\": \"\"\n      }\n    },\n    {\n      \"column\": \"params_C\",\n      \"properties\": {\n        \"dtype\": \"number\",\n        \"std\": 11.660582029923095,\n        \"min\": 0.10162837671613226,\n        \"max\": 91.81589641411888,\n        \"num_unique_values\": 79,\n        \"samples\": [\n          0.7966399591960677,\n          0.19736177427216967,\n          9.05800035358116\n        ],\n        \"semantic_type\": \"\",\n        \"description\": \"\"\n      }\n    },\n    {\n      \"column\": \"params_bootstrap\",\n      \"properties\": {\n        \"dtype\": \"category\",\n        \"num_unique_values\": 2,\n        \"samples\": [\n          false,\n          true\n        ],\n        \"semantic_type\": \"\",\n        \"description\": \"\"\n      }\n    },\n    {\n      \"column\": \"params_classifier\",\n      \"properties\": {\n        \"dtype\": \"category\",\n        \"num_unique_values\": 3,\n        \"samples\": [\n          \"SVM\",\n          \"RandomForest\"\n        ],\n        \"semantic_type\": \"\",\n        \"description\": \"\"\n      }\n    },\n    {\n      \"column\": \"params_gamma\",\n      \"properties\": {\n        \"dtype\": \"category\",\n        \"num_unique_values\": 2,\n        \"samples\": [\n          \"scale\",\n          \"auto\"\n        ],\n        \"semantic_type\": \"\",\n        \"description\": \"\"\n      }\n    },\n    {\n      \"column\": \"params_kernel\",\n      \"properties\": {\n        \"dtype\": \"category\",\n        \"num_unique_values\": 4,\n        \"samples\": [\n          \"linear\",\n          \"poly\"\n        ],\n        \"semantic_type\": \"\",\n        \"description\": \"\"\n      }\n    },\n    {\n      \"column\": \"params_learning_rate\",\n      \"properties\": {\n        \"dtype\": \"number\",\n        \"std\": 0.09055277883555697,\n        \"min\": 0.012230700268050152,\n        \"max\": 0.29104188955379307,\n        \"num_unique_values\": 9,\n        \"samples\": [\n          0.11292286483795376,\n          0.29104188955379307\n        ],\n        \"semantic_type\": \"\",\n        \"description\": \"\"\n      }\n    },\n    {\n      \"column\": \"params_max_depth\",\n      \"properties\": {\n        \"dtype\": \"number\",\n        \"std\": 5.329165037789691,\n        \"min\": 3.0,\n        \"max\": 20.0,\n        \"num_unique_values\": 15,\n        \"samples\": [\n          3.0,\n          7.0\n        ],\n        \"semantic_type\": \"\",\n        \"description\": \"\"\n      }\n    },\n    {\n      \"column\": \"params_min_samples_leaf\",\n      \"properties\": {\n        \"dtype\": \"number\",\n        \"std\": 2.8908723349782948,\n        \"min\": 1.0,\n        \"max\": 10.0,\n        \"num_unique_values\": 10,\n        \"samples\": [\n          5.0,\n          10.0\n        ],\n        \"semantic_type\": \"\",\n        \"description\": \"\"\n      }\n    },\n    {\n      \"column\": \"params_min_samples_split\",\n      \"properties\": {\n        \"dtype\": \"number\",\n        \"std\": 2.555106930946615,\n        \"min\": 2.0,\n        \"max\": 10.0,\n        \"num_unique_values\": 9,\n        \"samples\": [\n          4.0,\n          8.0\n        ],\n        \"semantic_type\": \"\",\n        \"description\": \"\"\n      }\n    },\n    {\n      \"column\": \"params_n_estimators\",\n      \"properties\": {\n        \"dtype\": \"number\",\n        \"std\": 77.1031158656411,\n        \"min\": 51.0,\n        \"max\": 299.0,\n        \"num_unique_values\": 19,\n        \"samples\": [\n          294.0,\n          174.0\n        ],\n        \"semantic_type\": \"\",\n        \"description\": \"\"\n      }\n    },\n    {\n      \"column\": \"state\",\n      \"properties\": {\n        \"dtype\": \"category\",\n        \"num_unique_values\": 1,\n        \"samples\": [\n          \"COMPLETE\"\n        ],\n        \"semantic_type\": \"\",\n        \"description\": \"\"\n      }\n    }\n  ]\n}"
            }
          },
          "metadata": {},
          "execution_count": 38
        }
      ]
    },
    {
      "cell_type": "code",
      "source": [
        "study.trials_dataframe()['params_classifier'].value_counts()"
      ],
      "metadata": {
        "colab": {
          "base_uri": "https://localhost:8080/",
          "height": 209
        },
        "id": "bjvl6MZSBGdm",
        "outputId": "6e826bf2-d029-4cdf-c44b-e46be2bb4d77"
      },
      "execution_count": 39,
      "outputs": [
        {
          "output_type": "execute_result",
          "data": {
            "text/plain": [
              "params_classifier\n",
              "SVM                 79\n",
              "RandomForest        12\n",
              "GradientBoosting     9\n",
              "Name: count, dtype: int64"
            ],
            "text/html": [
              "<div>\n",
              "<style scoped>\n",
              "    .dataframe tbody tr th:only-of-type {\n",
              "        vertical-align: middle;\n",
              "    }\n",
              "\n",
              "    .dataframe tbody tr th {\n",
              "        vertical-align: top;\n",
              "    }\n",
              "\n",
              "    .dataframe thead th {\n",
              "        text-align: right;\n",
              "    }\n",
              "</style>\n",
              "<table border=\"1\" class=\"dataframe\">\n",
              "  <thead>\n",
              "    <tr style=\"text-align: right;\">\n",
              "      <th></th>\n",
              "      <th>count</th>\n",
              "    </tr>\n",
              "    <tr>\n",
              "      <th>params_classifier</th>\n",
              "      <th></th>\n",
              "    </tr>\n",
              "  </thead>\n",
              "  <tbody>\n",
              "    <tr>\n",
              "      <th>SVM</th>\n",
              "      <td>79</td>\n",
              "    </tr>\n",
              "    <tr>\n",
              "      <th>RandomForest</th>\n",
              "      <td>12</td>\n",
              "    </tr>\n",
              "    <tr>\n",
              "      <th>GradientBoosting</th>\n",
              "      <td>9</td>\n",
              "    </tr>\n",
              "  </tbody>\n",
              "</table>\n",
              "</div><br><label><b>dtype:</b> int64</label>"
            ]
          },
          "metadata": {},
          "execution_count": 39
        }
      ]
    },
    {
      "cell_type": "code",
      "source": [
        "study.trials_dataframe().groupby('params_classifier')['value'].mean()"
      ],
      "metadata": {
        "colab": {
          "base_uri": "https://localhost:8080/",
          "height": 209
        },
        "id": "paDHzhX0BIjH",
        "outputId": "9619b871-8e70-4b8c-852a-0ff037471e52"
      },
      "execution_count": 40,
      "outputs": [
        {
          "output_type": "execute_result",
          "data": {
            "text/plain": [
              "params_classifier\n",
              "GradientBoosting    0.743637\n",
              "RandomForest        0.763191\n",
              "SVM                 0.774721\n",
              "Name: value, dtype: float64"
            ],
            "text/html": [
              "<div>\n",
              "<style scoped>\n",
              "    .dataframe tbody tr th:only-of-type {\n",
              "        vertical-align: middle;\n",
              "    }\n",
              "\n",
              "    .dataframe tbody tr th {\n",
              "        vertical-align: top;\n",
              "    }\n",
              "\n",
              "    .dataframe thead th {\n",
              "        text-align: right;\n",
              "    }\n",
              "</style>\n",
              "<table border=\"1\" class=\"dataframe\">\n",
              "  <thead>\n",
              "    <tr style=\"text-align: right;\">\n",
              "      <th></th>\n",
              "      <th>value</th>\n",
              "    </tr>\n",
              "    <tr>\n",
              "      <th>params_classifier</th>\n",
              "      <th></th>\n",
              "    </tr>\n",
              "  </thead>\n",
              "  <tbody>\n",
              "    <tr>\n",
              "      <th>GradientBoosting</th>\n",
              "      <td>0.743637</td>\n",
              "    </tr>\n",
              "    <tr>\n",
              "      <th>RandomForest</th>\n",
              "      <td>0.763191</td>\n",
              "    </tr>\n",
              "    <tr>\n",
              "      <th>SVM</th>\n",
              "      <td>0.774721</td>\n",
              "    </tr>\n",
              "  </tbody>\n",
              "</table>\n",
              "</div><br><label><b>dtype:</b> float64</label>"
            ]
          },
          "metadata": {},
          "execution_count": 40
        }
      ]
    },
    {
      "cell_type": "code",
      "source": [
        "# 1. Optimization History\n",
        "plot_optimization_history(study).show()"
      ],
      "metadata": {
        "colab": {
          "base_uri": "https://localhost:8080/",
          "height": 542
        },
        "id": "Og86hzKKBKsn",
        "outputId": "43668606-448e-4bec-e45b-825348f55be4"
      },
      "execution_count": 41,
      "outputs": [
        {
          "output_type": "display_data",
          "data": {
            "text/html": [
              "<html>\n",
              "<head><meta charset=\"utf-8\" /></head>\n",
              "<body>\n",
              "    <div>            <script src=\"https://cdnjs.cloudflare.com/ajax/libs/mathjax/2.7.5/MathJax.js?config=TeX-AMS-MML_SVG\"></script><script type=\"text/javascript\">if (window.MathJax && window.MathJax.Hub && window.MathJax.Hub.Config) {window.MathJax.Hub.Config({SVG: {font: \"STIX-Web\"}});}</script>                <script type=\"text/javascript\">window.PlotlyConfig = {MathJaxConfig: 'local'};</script>\n",
              "        <script charset=\"utf-8\" src=\"https://cdn.plot.ly/plotly-2.35.2.min.js\"></script>                <div id=\"c4f321cc-8299-4f8d-9659-3871eda56738\" class=\"plotly-graph-div\" style=\"height:525px; width:100%;\"></div>            <script type=\"text/javascript\">                                    window.PLOTLYENV=window.PLOTLYENV || {};                                    if (document.getElementById(\"c4f321cc-8299-4f8d-9659-3871eda56738\")) {                    Plotly.newPlot(                        \"c4f321cc-8299-4f8d-9659-3871eda56738\",                        [{\"mode\":\"markers\",\"name\":\"Objective Value\",\"x\":[0,1,2,3,4,5,6,7,8,9,10,11,12,13,14,15,16,17,18,19,20,21,22,23,24,25,26,27,28,29,30,31,32,33,34,35,36,37,38,39,40,41,42,43,44,45,46,47,48,49,50,51,52,53,54,55,56,57,58,59,60,61,62,63,64,65,66,67,68,69,70,71,72,73,74,75,76,77,78,79,80,81,82,83,84,85,86,87,88,89,90,91,92,93,94,95,96,97,98,99],\"y\":[0.7765363128491619,0.7560521415270017,0.7839851024208566,0.7672253258845437,0.7299813780260708,0.7113594040968342,0.7560521415270017,0.7579143389199254,0.7597765363128491,0.7653631284916201,0.7839851024208566,0.7839851024208566,0.7858472998137801,0.7858472998137801,0.7299813780260708,0.7113594040968342,0.7858472998137801,0.7486033519553073,0.7858472998137801,0.7579143389199255,0.7057728119180634,0.7858472998137801,0.7858472998137801,0.7858472998137801,0.696461824953445,0.750465549348231,0.7839851024208566,0.7858472998137801,0.7858472998137801,0.7188081936685289,0.7672253258845437,0.7858472998137801,0.7858472998137801,0.7858472998137801,0.7858472998137803,0.7690875232774674,0.7523277467411545,0.7821229050279329,0.7616387337057727,0.7858472998137803,0.7579143389199255,0.7839851024208566,0.7858472998137801,0.7858472998137803,0.7616387337057727,0.7616387337057727,0.7858472998137803,0.7672253258845437,0.7858472998137803,0.750465549348231,0.7858472998137803,0.7839851024208566,0.7858472998137803,0.7821229050279329,0.7839851024208566,0.7858472998137803,0.7877094972067038,0.7467411545623835,0.7094972067039106,0.7709497206703911,0.7858472998137803,0.7839851024208566,0.7858472998137803,0.7839851024208566,0.7839851024208566,0.7877094972067038,0.7895716945996275,0.7709497206703911,0.7094972067039107,0.7262569832402234,0.7858472998137803,0.7877094972067038,0.7877094972067038,0.7877094972067038,0.7039106145251397,0.7877094972067038,0.7877094972067038,0.7858472998137803,0.7895716945996275,0.7765363128491621,0.7895716945996275,0.7895716945996275,0.7895716945996275,0.7895716945996275,0.7895716945996275,0.7895716945996275,0.7895716945996275,0.7355679702048418,0.7541899441340782,0.7895716945996275,0.7523277467411545,0.7895716945996275,0.7895716945996275,0.7895716945996275,0.7858472998137803,0.7150837988826816,0.7858472998137803,0.7895716945996275,0.7858472998137803,0.7579143389199254],\"type\":\"scatter\"},{\"mode\":\"lines\",\"name\":\"Best Value\",\"x\":[0,1,2,3,4,5,6,7,8,9,10,11,12,13,14,15,16,17,18,19,20,21,22,23,24,25,26,27,28,29,30,31,32,33,34,35,36,37,38,39,40,41,42,43,44,45,46,47,48,49,50,51,52,53,54,55,56,57,58,59,60,61,62,63,64,65,66,67,68,69,70,71,72,73,74,75,76,77,78,79,80,81,82,83,84,85,86,87,88,89,90,91,92,93,94,95,96,97,98,99],\"y\":[0.7765363128491619,0.7765363128491619,0.7839851024208566,0.7839851024208566,0.7839851024208566,0.7839851024208566,0.7839851024208566,0.7839851024208566,0.7839851024208566,0.7839851024208566,0.7839851024208566,0.7839851024208566,0.7858472998137801,0.7858472998137801,0.7858472998137801,0.7858472998137801,0.7858472998137801,0.7858472998137801,0.7858472998137801,0.7858472998137801,0.7858472998137801,0.7858472998137801,0.7858472998137801,0.7858472998137801,0.7858472998137801,0.7858472998137801,0.7858472998137801,0.7858472998137801,0.7858472998137801,0.7858472998137801,0.7858472998137801,0.7858472998137801,0.7858472998137801,0.7858472998137801,0.7858472998137803,0.7858472998137803,0.7858472998137803,0.7858472998137803,0.7858472998137803,0.7858472998137803,0.7858472998137803,0.7858472998137803,0.7858472998137803,0.7858472998137803,0.7858472998137803,0.7858472998137803,0.7858472998137803,0.7858472998137803,0.7858472998137803,0.7858472998137803,0.7858472998137803,0.7858472998137803,0.7858472998137803,0.7858472998137803,0.7858472998137803,0.7858472998137803,0.7877094972067038,0.7877094972067038,0.7877094972067038,0.7877094972067038,0.7877094972067038,0.7877094972067038,0.7877094972067038,0.7877094972067038,0.7877094972067038,0.7877094972067038,0.7895716945996275,0.7895716945996275,0.7895716945996275,0.7895716945996275,0.7895716945996275,0.7895716945996275,0.7895716945996275,0.7895716945996275,0.7895716945996275,0.7895716945996275,0.7895716945996275,0.7895716945996275,0.7895716945996275,0.7895716945996275,0.7895716945996275,0.7895716945996275,0.7895716945996275,0.7895716945996275,0.7895716945996275,0.7895716945996275,0.7895716945996275,0.7895716945996275,0.7895716945996275,0.7895716945996275,0.7895716945996275,0.7895716945996275,0.7895716945996275,0.7895716945996275,0.7895716945996275,0.7895716945996275,0.7895716945996275,0.7895716945996275,0.7895716945996275,0.7895716945996275],\"type\":\"scatter\"},{\"marker\":{\"color\":\"#cccccc\"},\"mode\":\"markers\",\"name\":\"Infeasible Trial\",\"showlegend\":false,\"x\":[],\"y\":[],\"type\":\"scatter\"}],                        {\"title\":{\"text\":\"Optimization History Plot\"},\"xaxis\":{\"title\":{\"text\":\"Trial\"}},\"yaxis\":{\"title\":{\"text\":\"Objective Value\"}},\"template\":{\"data\":{\"histogram2dcontour\":[{\"type\":\"histogram2dcontour\",\"colorbar\":{\"outlinewidth\":0,\"ticks\":\"\"},\"colorscale\":[[0.0,\"#0d0887\"],[0.1111111111111111,\"#46039f\"],[0.2222222222222222,\"#7201a8\"],[0.3333333333333333,\"#9c179e\"],[0.4444444444444444,\"#bd3786\"],[0.5555555555555556,\"#d8576b\"],[0.6666666666666666,\"#ed7953\"],[0.7777777777777778,\"#fb9f3a\"],[0.8888888888888888,\"#fdca26\"],[1.0,\"#f0f921\"]]}],\"choropleth\":[{\"type\":\"choropleth\",\"colorbar\":{\"outlinewidth\":0,\"ticks\":\"\"}}],\"histogram2d\":[{\"type\":\"histogram2d\",\"colorbar\":{\"outlinewidth\":0,\"ticks\":\"\"},\"colorscale\":[[0.0,\"#0d0887\"],[0.1111111111111111,\"#46039f\"],[0.2222222222222222,\"#7201a8\"],[0.3333333333333333,\"#9c179e\"],[0.4444444444444444,\"#bd3786\"],[0.5555555555555556,\"#d8576b\"],[0.6666666666666666,\"#ed7953\"],[0.7777777777777778,\"#fb9f3a\"],[0.8888888888888888,\"#fdca26\"],[1.0,\"#f0f921\"]]}],\"heatmap\":[{\"type\":\"heatmap\",\"colorbar\":{\"outlinewidth\":0,\"ticks\":\"\"},\"colorscale\":[[0.0,\"#0d0887\"],[0.1111111111111111,\"#46039f\"],[0.2222222222222222,\"#7201a8\"],[0.3333333333333333,\"#9c179e\"],[0.4444444444444444,\"#bd3786\"],[0.5555555555555556,\"#d8576b\"],[0.6666666666666666,\"#ed7953\"],[0.7777777777777778,\"#fb9f3a\"],[0.8888888888888888,\"#fdca26\"],[1.0,\"#f0f921\"]]}],\"heatmapgl\":[{\"type\":\"heatmapgl\",\"colorbar\":{\"outlinewidth\":0,\"ticks\":\"\"},\"colorscale\":[[0.0,\"#0d0887\"],[0.1111111111111111,\"#46039f\"],[0.2222222222222222,\"#7201a8\"],[0.3333333333333333,\"#9c179e\"],[0.4444444444444444,\"#bd3786\"],[0.5555555555555556,\"#d8576b\"],[0.6666666666666666,\"#ed7953\"],[0.7777777777777778,\"#fb9f3a\"],[0.8888888888888888,\"#fdca26\"],[1.0,\"#f0f921\"]]}],\"contourcarpet\":[{\"type\":\"contourcarpet\",\"colorbar\":{\"outlinewidth\":0,\"ticks\":\"\"}}],\"contour\":[{\"type\":\"contour\",\"colorbar\":{\"outlinewidth\":0,\"ticks\":\"\"},\"colorscale\":[[0.0,\"#0d0887\"],[0.1111111111111111,\"#46039f\"],[0.2222222222222222,\"#7201a8\"],[0.3333333333333333,\"#9c179e\"],[0.4444444444444444,\"#bd3786\"],[0.5555555555555556,\"#d8576b\"],[0.6666666666666666,\"#ed7953\"],[0.7777777777777778,\"#fb9f3a\"],[0.8888888888888888,\"#fdca26\"],[1.0,\"#f0f921\"]]}],\"surface\":[{\"type\":\"surface\",\"colorbar\":{\"outlinewidth\":0,\"ticks\":\"\"},\"colorscale\":[[0.0,\"#0d0887\"],[0.1111111111111111,\"#46039f\"],[0.2222222222222222,\"#7201a8\"],[0.3333333333333333,\"#9c179e\"],[0.4444444444444444,\"#bd3786\"],[0.5555555555555556,\"#d8576b\"],[0.6666666666666666,\"#ed7953\"],[0.7777777777777778,\"#fb9f3a\"],[0.8888888888888888,\"#fdca26\"],[1.0,\"#f0f921\"]]}],\"mesh3d\":[{\"type\":\"mesh3d\",\"colorbar\":{\"outlinewidth\":0,\"ticks\":\"\"}}],\"scatter\":[{\"fillpattern\":{\"fillmode\":\"overlay\",\"size\":10,\"solidity\":0.2},\"type\":\"scatter\"}],\"parcoords\":[{\"type\":\"parcoords\",\"line\":{\"colorbar\":{\"outlinewidth\":0,\"ticks\":\"\"}}}],\"scatterpolargl\":[{\"type\":\"scatterpolargl\",\"marker\":{\"colorbar\":{\"outlinewidth\":0,\"ticks\":\"\"}}}],\"bar\":[{\"error_x\":{\"color\":\"#2a3f5f\"},\"error_y\":{\"color\":\"#2a3f5f\"},\"marker\":{\"line\":{\"color\":\"#E5ECF6\",\"width\":0.5},\"pattern\":{\"fillmode\":\"overlay\",\"size\":10,\"solidity\":0.2}},\"type\":\"bar\"}],\"scattergeo\":[{\"type\":\"scattergeo\",\"marker\":{\"colorbar\":{\"outlinewidth\":0,\"ticks\":\"\"}}}],\"scatterpolar\":[{\"type\":\"scatterpolar\",\"marker\":{\"colorbar\":{\"outlinewidth\":0,\"ticks\":\"\"}}}],\"histogram\":[{\"marker\":{\"pattern\":{\"fillmode\":\"overlay\",\"size\":10,\"solidity\":0.2}},\"type\":\"histogram\"}],\"scattergl\":[{\"type\":\"scattergl\",\"marker\":{\"colorbar\":{\"outlinewidth\":0,\"ticks\":\"\"}}}],\"scatter3d\":[{\"type\":\"scatter3d\",\"line\":{\"colorbar\":{\"outlinewidth\":0,\"ticks\":\"\"}},\"marker\":{\"colorbar\":{\"outlinewidth\":0,\"ticks\":\"\"}}}],\"scattermapbox\":[{\"type\":\"scattermapbox\",\"marker\":{\"colorbar\":{\"outlinewidth\":0,\"ticks\":\"\"}}}],\"scatterternary\":[{\"type\":\"scatterternary\",\"marker\":{\"colorbar\":{\"outlinewidth\":0,\"ticks\":\"\"}}}],\"scattercarpet\":[{\"type\":\"scattercarpet\",\"marker\":{\"colorbar\":{\"outlinewidth\":0,\"ticks\":\"\"}}}],\"carpet\":[{\"aaxis\":{\"endlinecolor\":\"#2a3f5f\",\"gridcolor\":\"white\",\"linecolor\":\"white\",\"minorgridcolor\":\"white\",\"startlinecolor\":\"#2a3f5f\"},\"baxis\":{\"endlinecolor\":\"#2a3f5f\",\"gridcolor\":\"white\",\"linecolor\":\"white\",\"minorgridcolor\":\"white\",\"startlinecolor\":\"#2a3f5f\"},\"type\":\"carpet\"}],\"table\":[{\"cells\":{\"fill\":{\"color\":\"#EBF0F8\"},\"line\":{\"color\":\"white\"}},\"header\":{\"fill\":{\"color\":\"#C8D4E3\"},\"line\":{\"color\":\"white\"}},\"type\":\"table\"}],\"barpolar\":[{\"marker\":{\"line\":{\"color\":\"#E5ECF6\",\"width\":0.5},\"pattern\":{\"fillmode\":\"overlay\",\"size\":10,\"solidity\":0.2}},\"type\":\"barpolar\"}],\"pie\":[{\"automargin\":true,\"type\":\"pie\"}]},\"layout\":{\"autotypenumbers\":\"strict\",\"colorway\":[\"#636efa\",\"#EF553B\",\"#00cc96\",\"#ab63fa\",\"#FFA15A\",\"#19d3f3\",\"#FF6692\",\"#B6E880\",\"#FF97FF\",\"#FECB52\"],\"font\":{\"color\":\"#2a3f5f\"},\"hovermode\":\"closest\",\"hoverlabel\":{\"align\":\"left\"},\"paper_bgcolor\":\"white\",\"plot_bgcolor\":\"#E5ECF6\",\"polar\":{\"bgcolor\":\"#E5ECF6\",\"angularaxis\":{\"gridcolor\":\"white\",\"linecolor\":\"white\",\"ticks\":\"\"},\"radialaxis\":{\"gridcolor\":\"white\",\"linecolor\":\"white\",\"ticks\":\"\"}},\"ternary\":{\"bgcolor\":\"#E5ECF6\",\"aaxis\":{\"gridcolor\":\"white\",\"linecolor\":\"white\",\"ticks\":\"\"},\"baxis\":{\"gridcolor\":\"white\",\"linecolor\":\"white\",\"ticks\":\"\"},\"caxis\":{\"gridcolor\":\"white\",\"linecolor\":\"white\",\"ticks\":\"\"}},\"coloraxis\":{\"colorbar\":{\"outlinewidth\":0,\"ticks\":\"\"}},\"colorscale\":{\"sequential\":[[0.0,\"#0d0887\"],[0.1111111111111111,\"#46039f\"],[0.2222222222222222,\"#7201a8\"],[0.3333333333333333,\"#9c179e\"],[0.4444444444444444,\"#bd3786\"],[0.5555555555555556,\"#d8576b\"],[0.6666666666666666,\"#ed7953\"],[0.7777777777777778,\"#fb9f3a\"],[0.8888888888888888,\"#fdca26\"],[1.0,\"#f0f921\"]],\"sequentialminus\":[[0.0,\"#0d0887\"],[0.1111111111111111,\"#46039f\"],[0.2222222222222222,\"#7201a8\"],[0.3333333333333333,\"#9c179e\"],[0.4444444444444444,\"#bd3786\"],[0.5555555555555556,\"#d8576b\"],[0.6666666666666666,\"#ed7953\"],[0.7777777777777778,\"#fb9f3a\"],[0.8888888888888888,\"#fdca26\"],[1.0,\"#f0f921\"]],\"diverging\":[[0,\"#8e0152\"],[0.1,\"#c51b7d\"],[0.2,\"#de77ae\"],[0.3,\"#f1b6da\"],[0.4,\"#fde0ef\"],[0.5,\"#f7f7f7\"],[0.6,\"#e6f5d0\"],[0.7,\"#b8e186\"],[0.8,\"#7fbc41\"],[0.9,\"#4d9221\"],[1,\"#276419\"]]},\"xaxis\":{\"gridcolor\":\"white\",\"linecolor\":\"white\",\"ticks\":\"\",\"title\":{\"standoff\":15},\"zerolinecolor\":\"white\",\"automargin\":true,\"zerolinewidth\":2},\"yaxis\":{\"gridcolor\":\"white\",\"linecolor\":\"white\",\"ticks\":\"\",\"title\":{\"standoff\":15},\"zerolinecolor\":\"white\",\"automargin\":true,\"zerolinewidth\":2},\"scene\":{\"xaxis\":{\"backgroundcolor\":\"#E5ECF6\",\"gridcolor\":\"white\",\"linecolor\":\"white\",\"showbackground\":true,\"ticks\":\"\",\"zerolinecolor\":\"white\",\"gridwidth\":2},\"yaxis\":{\"backgroundcolor\":\"#E5ECF6\",\"gridcolor\":\"white\",\"linecolor\":\"white\",\"showbackground\":true,\"ticks\":\"\",\"zerolinecolor\":\"white\",\"gridwidth\":2},\"zaxis\":{\"backgroundcolor\":\"#E5ECF6\",\"gridcolor\":\"white\",\"linecolor\":\"white\",\"showbackground\":true,\"ticks\":\"\",\"zerolinecolor\":\"white\",\"gridwidth\":2}},\"shapedefaults\":{\"line\":{\"color\":\"#2a3f5f\"}},\"annotationdefaults\":{\"arrowcolor\":\"#2a3f5f\",\"arrowhead\":0,\"arrowwidth\":1},\"geo\":{\"bgcolor\":\"white\",\"landcolor\":\"#E5ECF6\",\"subunitcolor\":\"white\",\"showland\":true,\"showlakes\":true,\"lakecolor\":\"white\"},\"title\":{\"x\":0.05},\"mapbox\":{\"style\":\"light\"}}}},                        {\"responsive\": true}                    ).then(function(){\n",
              "                            \n",
              "var gd = document.getElementById('c4f321cc-8299-4f8d-9659-3871eda56738');\n",
              "var x = new MutationObserver(function (mutations, observer) {{\n",
              "        var display = window.getComputedStyle(gd).display;\n",
              "        if (!display || display === 'none') {{\n",
              "            console.log([gd, 'removed!']);\n",
              "            Plotly.purge(gd);\n",
              "            observer.disconnect();\n",
              "        }}\n",
              "}});\n",
              "\n",
              "// Listen for the removal of the full notebook cells\n",
              "var notebookContainer = gd.closest('#notebook-container');\n",
              "if (notebookContainer) {{\n",
              "    x.observe(notebookContainer, {childList: true});\n",
              "}}\n",
              "\n",
              "// Listen for the clearing of the current output cell\n",
              "var outputEl = gd.closest('.output');\n",
              "if (outputEl) {{\n",
              "    x.observe(outputEl, {childList: true});\n",
              "}}\n",
              "\n",
              "                        })                };                            </script>        </div>\n",
              "</body>\n",
              "</html>"
            ]
          },
          "metadata": {}
        }
      ]
    },
    {
      "cell_type": "code",
      "source": [],
      "metadata": {
        "id": "5vGVhKmrBTEf"
      },
      "execution_count": null,
      "outputs": []
    }
  ]
}